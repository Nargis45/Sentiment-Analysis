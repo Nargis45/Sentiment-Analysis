{
 "cells": [
  {
   "cell_type": "code",
   "execution_count": 1,
   "id": "aeda4348",
   "metadata": {
    "execution": {
     "iopub.execute_input": "2025-01-30T07:19:28.585874Z",
     "iopub.status.busy": "2025-01-30T07:19:28.585496Z",
     "iopub.status.idle": "2025-01-30T07:19:34.976631Z",
     "shell.execute_reply": "2025-01-30T07:19:34.975449Z"
    },
    "papermill": {
     "duration": 6.40773,
     "end_time": "2025-01-30T07:19:34.978796",
     "exception": false,
     "start_time": "2025-01-30T07:19:28.571066",
     "status": "completed"
    },
    "tags": []
   },
   "outputs": [
    {
     "name": "stdout",
     "output_type": "stream",
     "text": [
      "Collecting deep-translator\r\n",
      "  Downloading deep_translator-1.11.4-py3-none-any.whl.metadata (30 kB)\r\n",
      "Requirement already satisfied: beautifulsoup4<5.0.0,>=4.9.1 in /usr/local/lib/python3.10/dist-packages (from deep-translator) (4.12.3)\r\n",
      "Requirement already satisfied: requests<3.0.0,>=2.23.0 in /usr/local/lib/python3.10/dist-packages (from deep-translator) (2.32.3)\r\n",
      "Requirement already satisfied: soupsieve>1.2 in /usr/local/lib/python3.10/dist-packages (from beautifulsoup4<5.0.0,>=4.9.1->deep-translator) (2.6)\r\n",
      "Requirement already satisfied: charset-normalizer<4,>=2 in /usr/local/lib/python3.10/dist-packages (from requests<3.0.0,>=2.23.0->deep-translator) (3.4.0)\r\n",
      "Requirement already satisfied: idna<4,>=2.5 in /usr/local/lib/python3.10/dist-packages (from requests<3.0.0,>=2.23.0->deep-translator) (3.10)\r\n",
      "Requirement already satisfied: urllib3<3,>=1.21.1 in /usr/local/lib/python3.10/dist-packages (from requests<3.0.0,>=2.23.0->deep-translator) (2.2.3)\r\n",
      "Requirement already satisfied: certifi>=2017.4.17 in /usr/local/lib/python3.10/dist-packages (from requests<3.0.0,>=2.23.0->deep-translator) (2024.12.14)\r\n",
      "Downloading deep_translator-1.11.4-py3-none-any.whl (42 kB)\r\n",
      "\u001b[2K   \u001b[90m━━━━━━━━━━━━━━━━━━━━━━━━━━━━━━━━━━━━━━━━\u001b[0m \u001b[32m42.3/42.3 kB\u001b[0m \u001b[31m2.3 MB/s\u001b[0m eta \u001b[36m0:00:00\u001b[0m\r\n",
      "\u001b[?25hInstalling collected packages: deep-translator\r\n",
      "Successfully installed deep-translator-1.11.4\r\n"
     ]
    }
   ],
   "source": [
    "!pip install deep-translator"
   ]
  },
  {
   "cell_type": "code",
   "execution_count": 2,
   "id": "ed04be06",
   "metadata": {
    "execution": {
     "iopub.execute_input": "2025-01-30T07:19:35.006280Z",
     "iopub.status.busy": "2025-01-30T07:19:35.005881Z",
     "iopub.status.idle": "2025-01-30T07:19:35.521796Z",
     "shell.execute_reply": "2025-01-30T07:19:35.520591Z"
    },
    "papermill": {
     "duration": 0.531937,
     "end_time": "2025-01-30T07:19:35.523879",
     "exception": false,
     "start_time": "2025-01-30T07:19:34.991942",
     "status": "completed"
    },
    "tags": []
   },
   "outputs": [],
   "source": [
    "from deep_translator import GoogleTranslator"
   ]
  },
  {
   "cell_type": "code",
   "execution_count": 3,
   "id": "8b326535",
   "metadata": {
    "execution": {
     "iopub.execute_input": "2025-01-30T07:19:35.551611Z",
     "iopub.status.busy": "2025-01-30T07:19:35.550998Z",
     "iopub.status.idle": "2025-01-30T07:19:39.121284Z",
     "shell.execute_reply": "2025-01-30T07:19:39.120117Z"
    },
    "papermill": {
     "duration": 3.586106,
     "end_time": "2025-01-30T07:19:39.123480",
     "exception": false,
     "start_time": "2025-01-30T07:19:35.537374",
     "status": "completed"
    },
    "scrolled": true,
    "tags": []
   },
   "outputs": [],
   "source": [
    "import pandas as pd\n",
    "import numpy as np\n",
    "import matplotlib.pyplot as plt\n",
    "import seaborn as sns\n",
    "import nltk\n",
    "from datetime import datetime\n",
    "import calendar\n",
    "import re\n",
    "import warnings\n",
    "warnings.filterwarnings('ignore')"
   ]
  },
  {
   "cell_type": "code",
   "execution_count": 4,
   "id": "806d2f7a",
   "metadata": {
    "execution": {
     "iopub.execute_input": "2025-01-30T07:19:39.151035Z",
     "iopub.status.busy": "2025-01-30T07:19:39.150440Z",
     "iopub.status.idle": "2025-01-30T07:19:39.373455Z",
     "shell.execute_reply": "2025-01-30T07:19:39.372255Z"
    },
    "papermill": {
     "duration": 0.238942,
     "end_time": "2025-01-30T07:19:39.375569",
     "exception": false,
     "start_time": "2025-01-30T07:19:39.136627",
     "status": "completed"
    },
    "tags": []
   },
   "outputs": [
    {
     "name": "stdout",
     "output_type": "stream",
     "text": [
      "[nltk_data] Downloading package stopwords to /usr/share/nltk_data...\n",
      "[nltk_data]   Package stopwords is already up-to-date!\n",
      "[nltk_data] Downloading package vader_lexicon to\n",
      "[nltk_data]     /usr/share/nltk_data...\n",
      "[nltk_data]   Package vader_lexicon is already up-to-date!\n"
     ]
    },
    {
     "data": {
      "text/plain": [
       "True"
      ]
     },
     "execution_count": 4,
     "metadata": {},
     "output_type": "execute_result"
    }
   ],
   "source": [
    "from bs4 import BeautifulSoup\n",
    "from nltk.corpus import stopwords\n",
    "\n",
    "# Ensure you have the stopwords dataset\n",
    "nltk.download('stopwords')\n",
    "nltk.download('vader_lexicon')"
   ]
  },
  {
   "cell_type": "code",
   "execution_count": 5,
   "id": "1e59f971",
   "metadata": {
    "execution": {
     "iopub.execute_input": "2025-01-30T07:19:39.403041Z",
     "iopub.status.busy": "2025-01-30T07:19:39.402671Z",
     "iopub.status.idle": "2025-01-30T07:19:39.424092Z",
     "shell.execute_reply": "2025-01-30T07:19:39.423138Z"
    },
    "papermill": {
     "duration": 0.037287,
     "end_time": "2025-01-30T07:19:39.425955",
     "exception": false,
     "start_time": "2025-01-30T07:19:39.388668",
     "status": "completed"
    },
    "tags": []
   },
   "outputs": [],
   "source": [
    "comments = pd.read_csv('/kaggle/input/comments/youtube_video_comments.csv')"
   ]
  },
  {
   "cell_type": "code",
   "execution_count": 6,
   "id": "7b9163c5",
   "metadata": {
    "execution": {
     "iopub.execute_input": "2025-01-30T07:19:39.453883Z",
     "iopub.status.busy": "2025-01-30T07:19:39.453511Z",
     "iopub.status.idle": "2025-01-30T07:19:39.472880Z",
     "shell.execute_reply": "2025-01-30T07:19:39.471850Z"
    },
    "papermill": {
     "duration": 0.035362,
     "end_time": "2025-01-30T07:19:39.474617",
     "exception": false,
     "start_time": "2025-01-30T07:19:39.439255",
     "status": "completed"
    },
    "tags": []
   },
   "outputs": [],
   "source": [
    "comments = comments[['Video Title', 'Author', 'Comment', 'Published At', 'Like Count']]"
   ]
  },
  {
   "cell_type": "code",
   "execution_count": 7,
   "id": "f8f81e6d",
   "metadata": {
    "execution": {
     "iopub.execute_input": "2025-01-30T07:19:39.503083Z",
     "iopub.status.busy": "2025-01-30T07:19:39.502692Z",
     "iopub.status.idle": "2025-01-30T07:19:39.520872Z",
     "shell.execute_reply": "2025-01-30T07:19:39.519690Z"
    },
    "papermill": {
     "duration": 0.035217,
     "end_time": "2025-01-30T07:19:39.522851",
     "exception": false,
     "start_time": "2025-01-30T07:19:39.487634",
     "status": "completed"
    },
    "tags": []
   },
   "outputs": [
    {
     "data": {
      "text/html": [
       "<div>\n",
       "<style scoped>\n",
       "    .dataframe tbody tr th:only-of-type {\n",
       "        vertical-align: middle;\n",
       "    }\n",
       "\n",
       "    .dataframe tbody tr th {\n",
       "        vertical-align: top;\n",
       "    }\n",
       "\n",
       "    .dataframe thead th {\n",
       "        text-align: right;\n",
       "    }\n",
       "</style>\n",
       "<table border=\"1\" class=\"dataframe\">\n",
       "  <thead>\n",
       "    <tr style=\"text-align: right;\">\n",
       "      <th></th>\n",
       "      <th>Video Title</th>\n",
       "      <th>Author</th>\n",
       "      <th>Comment</th>\n",
       "      <th>Published At</th>\n",
       "      <th>Like Count</th>\n",
       "    </tr>\n",
       "  </thead>\n",
       "  <tbody>\n",
       "    <tr>\n",
       "      <th>56</th>\n",
       "      <td>Program For Merge Sort in C</td>\n",
       "      <td>@who_thekaushik</td>\n",
       "      <td>your voice is also like a melody .. i can list...</td>\n",
       "      <td>2021-09-09T21:18:21Z</td>\n",
       "      <td>0</td>\n",
       "    </tr>\n",
       "    <tr>\n",
       "      <th>71</th>\n",
       "      <td>Program For Merge Sort in C</td>\n",
       "      <td>@mr.sagnik294</td>\n",
       "      <td>very helpful thanks alot</td>\n",
       "      <td>2020-10-10T15:15:53Z</td>\n",
       "      <td>0</td>\n",
       "    </tr>\n",
       "    <tr>\n",
       "      <th>57</th>\n",
       "      <td>Program For Merge Sort in C</td>\n",
       "      <td>@who_thekaushik</td>\n",
       "      <td>mam i wish you were my teacher in chandigarh u...</td>\n",
       "      <td>2021-09-09T21:16:55Z</td>\n",
       "      <td>0</td>\n",
       "    </tr>\n",
       "    <tr>\n",
       "      <th>205</th>\n",
       "      <td>Factorial Of A Large Number | Theory+Program T...</td>\n",
       "      <td>@devendrakotiya_ele0753</td>\n",
       "      <td>Aapka program wrong output derha hai&lt;br&gt;Plz ch...</td>\n",
       "      <td>2021-01-20T06:40:29Z</td>\n",
       "      <td>0</td>\n",
       "    </tr>\n",
       "    <tr>\n",
       "      <th>190</th>\n",
       "      <td>How To Reverse A string By Using Recursion In ...</td>\n",
       "      <td>@sudipsen3677</td>\n",
       "      <td>Nice explanation ❤️🔥</td>\n",
       "      <td>2021-10-07T03:03:12Z</td>\n",
       "      <td>1</td>\n",
       "    </tr>\n",
       "  </tbody>\n",
       "</table>\n",
       "</div>"
      ],
      "text/plain": [
       "                                           Video Title  \\\n",
       "56                         Program For Merge Sort in C   \n",
       "71                         Program For Merge Sort in C   \n",
       "57                         Program For Merge Sort in C   \n",
       "205  Factorial Of A Large Number | Theory+Program T...   \n",
       "190  How To Reverse A string By Using Recursion In ...   \n",
       "\n",
       "                      Author  \\\n",
       "56           @who_thekaushik   \n",
       "71             @mr.sagnik294   \n",
       "57           @who_thekaushik   \n",
       "205  @devendrakotiya_ele0753   \n",
       "190            @sudipsen3677   \n",
       "\n",
       "                                               Comment          Published At  \\\n",
       "56   your voice is also like a melody .. i can list...  2021-09-09T21:18:21Z   \n",
       "71                            very helpful thanks alot  2020-10-10T15:15:53Z   \n",
       "57   mam i wish you were my teacher in chandigarh u...  2021-09-09T21:16:55Z   \n",
       "205  Aapka program wrong output derha hai<br>Plz ch...  2021-01-20T06:40:29Z   \n",
       "190                               Nice explanation ❤️🔥  2021-10-07T03:03:12Z   \n",
       "\n",
       "     Like Count  \n",
       "56            0  \n",
       "71            0  \n",
       "57            0  \n",
       "205           0  \n",
       "190           1  "
      ]
     },
     "execution_count": 7,
     "metadata": {},
     "output_type": "execute_result"
    }
   ],
   "source": [
    "comments.sample(5)"
   ]
  },
  {
   "cell_type": "code",
   "execution_count": 8,
   "id": "58feae96",
   "metadata": {
    "execution": {
     "iopub.execute_input": "2025-01-30T07:19:39.550981Z",
     "iopub.status.busy": "2025-01-30T07:19:39.550606Z",
     "iopub.status.idle": "2025-01-30T07:19:39.555167Z",
     "shell.execute_reply": "2025-01-30T07:19:39.554182Z"
    },
    "papermill": {
     "duration": 0.020577,
     "end_time": "2025-01-30T07:19:39.557091",
     "exception": false,
     "start_time": "2025-01-30T07:19:39.536514",
     "status": "completed"
    },
    "tags": []
   },
   "outputs": [],
   "source": [
    "def translate_to_english(text):\n",
    "    try:\n",
    "        return GoogleTranslator(source=\"auto\", target=\"en\").translate(text)\n",
    "    except Exception:\n",
    "        return text"
   ]
  },
  {
   "cell_type": "code",
   "execution_count": 9,
   "id": "db70c179",
   "metadata": {
    "execution": {
     "iopub.execute_input": "2025-01-30T07:19:39.584727Z",
     "iopub.status.busy": "2025-01-30T07:19:39.584299Z",
     "iopub.status.idle": "2025-01-30T07:19:39.688015Z",
     "shell.execute_reply": "2025-01-30T07:19:39.686782Z"
    },
    "papermill": {
     "duration": 0.119582,
     "end_time": "2025-01-30T07:19:39.689993",
     "exception": false,
     "start_time": "2025-01-30T07:19:39.570411",
     "status": "completed"
    },
    "tags": []
   },
   "outputs": [
    {
     "data": {
      "text/plain": [
       "'amazing video!'"
      ]
     },
     "execution_count": 9,
     "metadata": {},
     "output_type": "execute_result"
    }
   ],
   "source": [
    "## example\n",
    "translate_to_english('majedar video!')"
   ]
  },
  {
   "cell_type": "code",
   "execution_count": 10,
   "id": "101ff87b",
   "metadata": {
    "execution": {
     "iopub.execute_input": "2025-01-30T07:19:39.717794Z",
     "iopub.status.busy": "2025-01-30T07:19:39.717378Z",
     "iopub.status.idle": "2025-01-30T07:19:57.385670Z",
     "shell.execute_reply": "2025-01-30T07:19:57.384561Z"
    },
    "papermill": {
     "duration": 17.684448,
     "end_time": "2025-01-30T07:19:57.387691",
     "exception": false,
     "start_time": "2025-01-30T07:19:39.703243",
     "status": "completed"
    },
    "tags": []
   },
   "outputs": [],
   "source": [
    "comments[\"translated_comment\"] = comments[\"Comment\"].apply(translate_to_english)"
   ]
  },
  {
   "cell_type": "code",
   "execution_count": 11,
   "id": "a94f8c3f",
   "metadata": {
    "execution": {
     "iopub.execute_input": "2025-01-30T07:19:57.415322Z",
     "iopub.status.busy": "2025-01-30T07:19:57.414936Z",
     "iopub.status.idle": "2025-01-30T07:19:57.427559Z",
     "shell.execute_reply": "2025-01-30T07:19:57.426360Z"
    },
    "papermill": {
     "duration": 0.028638,
     "end_time": "2025-01-30T07:19:57.429607",
     "exception": false,
     "start_time": "2025-01-30T07:19:57.400969",
     "status": "completed"
    },
    "tags": []
   },
   "outputs": [
    {
     "data": {
      "text/html": [
       "<div>\n",
       "<style scoped>\n",
       "    .dataframe tbody tr th:only-of-type {\n",
       "        vertical-align: middle;\n",
       "    }\n",
       "\n",
       "    .dataframe tbody tr th {\n",
       "        vertical-align: top;\n",
       "    }\n",
       "\n",
       "    .dataframe thead th {\n",
       "        text-align: right;\n",
       "    }\n",
       "</style>\n",
       "<table border=\"1\" class=\"dataframe\">\n",
       "  <thead>\n",
       "    <tr style=\"text-align: right;\">\n",
       "      <th></th>\n",
       "      <th>Video Title</th>\n",
       "      <th>Author</th>\n",
       "      <th>Comment</th>\n",
       "      <th>Published At</th>\n",
       "      <th>Like Count</th>\n",
       "      <th>translated_comment</th>\n",
       "    </tr>\n",
       "  </thead>\n",
       "  <tbody>\n",
       "    <tr>\n",
       "      <th>109</th>\n",
       "      <td>Program For Quick Sort In C</td>\n",
       "      <td>@devamani2478</td>\n",
       "      <td>thanks madam thank you so much madam...</td>\n",
       "      <td>2022-08-31T06:54:23Z</td>\n",
       "      <td>0</td>\n",
       "      <td>thanks madam thank you so much madam...</td>\n",
       "    </tr>\n",
       "    <tr>\n",
       "      <th>114</th>\n",
       "      <td>Program For Quick Sort In C</td>\n",
       "      <td>@manishsingh1179</td>\n",
       "      <td>Mam, Could you please provide source code of it ?</td>\n",
       "      <td>2022-03-01T11:08:33Z</td>\n",
       "      <td>1</td>\n",
       "      <td>Mam, Could you please provide source code of it ?</td>\n",
       "    </tr>\n",
       "    <tr>\n",
       "      <th>118</th>\n",
       "      <td>Program For Quick Sort In C</td>\n",
       "      <td>@VijayPatel-ez4lp</td>\n",
       "      <td>Thanks mam</td>\n",
       "      <td>2021-10-17T06:55:09Z</td>\n",
       "      <td>0</td>\n",
       "      <td>Thanks mam</td>\n",
       "    </tr>\n",
       "    <tr>\n",
       "      <th>204</th>\n",
       "      <td>Factorial Of A Large Number | Theory+Program T...</td>\n",
       "      <td>@satishchand7518</td>\n",
       "      <td>Programming ka logic pahle batana chayae</td>\n",
       "      <td>2021-04-06T18:05:52Z</td>\n",
       "      <td>0</td>\n",
       "      <td>The logic of programming should be explained f...</td>\n",
       "    </tr>\n",
       "    <tr>\n",
       "      <th>163</th>\n",
       "      <td>Interview Question | How To Rotate An Array Of...</td>\n",
       "      <td>@codeambition2k636</td>\n",
       "      <td>Cool video :)</td>\n",
       "      <td>2020-04-20T09:56:24Z</td>\n",
       "      <td>0</td>\n",
       "      <td>Cool video :)</td>\n",
       "    </tr>\n",
       "  </tbody>\n",
       "</table>\n",
       "</div>"
      ],
      "text/plain": [
       "                                           Video Title              Author  \\\n",
       "109                        Program For Quick Sort In C       @devamani2478   \n",
       "114                        Program For Quick Sort In C    @manishsingh1179   \n",
       "118                        Program For Quick Sort In C   @VijayPatel-ez4lp   \n",
       "204  Factorial Of A Large Number | Theory+Program T...    @satishchand7518   \n",
       "163  Interview Question | How To Rotate An Array Of...  @codeambition2k636   \n",
       "\n",
       "                                               Comment          Published At  \\\n",
       "109            thanks madam thank you so much madam...  2022-08-31T06:54:23Z   \n",
       "114  Mam, Could you please provide source code of it ?  2022-03-01T11:08:33Z   \n",
       "118                                         Thanks mam  2021-10-17T06:55:09Z   \n",
       "204           Programming ka logic pahle batana chayae  2021-04-06T18:05:52Z   \n",
       "163                                      Cool video :)  2020-04-20T09:56:24Z   \n",
       "\n",
       "     Like Count                                 translated_comment  \n",
       "109           0            thanks madam thank you so much madam...  \n",
       "114           1  Mam, Could you please provide source code of it ?  \n",
       "118           0                                         Thanks mam  \n",
       "204           0  The logic of programming should be explained f...  \n",
       "163           0                                      Cool video :)  "
      ]
     },
     "execution_count": 11,
     "metadata": {},
     "output_type": "execute_result"
    }
   ],
   "source": [
    "comments.sample(5)"
   ]
  },
  {
   "cell_type": "code",
   "execution_count": 12,
   "id": "26d0f08f",
   "metadata": {
    "execution": {
     "iopub.execute_input": "2025-01-30T07:19:57.458379Z",
     "iopub.status.busy": "2025-01-30T07:19:57.457958Z",
     "iopub.status.idle": "2025-01-30T07:19:57.478458Z",
     "shell.execute_reply": "2025-01-30T07:19:57.477383Z"
    },
    "papermill": {
     "duration": 0.036441,
     "end_time": "2025-01-30T07:19:57.480164",
     "exception": false,
     "start_time": "2025-01-30T07:19:57.443723",
     "status": "completed"
    },
    "tags": []
   },
   "outputs": [
    {
     "name": "stdout",
     "output_type": "stream",
     "text": [
      "<class 'pandas.core.frame.DataFrame'>\n",
      "RangeIndex: 271 entries, 0 to 270\n",
      "Data columns (total 6 columns):\n",
      " #   Column              Non-Null Count  Dtype \n",
      "---  ------              --------------  ----- \n",
      " 0   Video Title         271 non-null    object\n",
      " 1   Author              271 non-null    object\n",
      " 2   Comment             271 non-null    object\n",
      " 3   Published At        271 non-null    object\n",
      " 4   Like Count          271 non-null    int64 \n",
      " 5   translated_comment  267 non-null    object\n",
      "dtypes: int64(1), object(5)\n",
      "memory usage: 12.8+ KB\n"
     ]
    }
   ],
   "source": [
    "comments.info()"
   ]
  },
  {
   "cell_type": "code",
   "execution_count": 13,
   "id": "494d92f2",
   "metadata": {
    "execution": {
     "iopub.execute_input": "2025-01-30T07:19:57.508558Z",
     "iopub.status.busy": "2025-01-30T07:19:57.508100Z",
     "iopub.status.idle": "2025-01-30T07:19:57.519177Z",
     "shell.execute_reply": "2025-01-30T07:19:57.518037Z"
    },
    "papermill": {
     "duration": 0.027315,
     "end_time": "2025-01-30T07:19:57.521222",
     "exception": false,
     "start_time": "2025-01-30T07:19:57.493907",
     "status": "completed"
    },
    "tags": []
   },
   "outputs": [],
   "source": [
    "comments['Published At'] = pd.to_datetime(comments['Published At'])"
   ]
  },
  {
   "cell_type": "code",
   "execution_count": 14,
   "id": "bb039e89",
   "metadata": {
    "execution": {
     "iopub.execute_input": "2025-01-30T07:19:57.556787Z",
     "iopub.status.busy": "2025-01-30T07:19:57.556242Z",
     "iopub.status.idle": "2025-01-30T07:19:57.569812Z",
     "shell.execute_reply": "2025-01-30T07:19:57.568358Z"
    },
    "papermill": {
     "duration": 0.031322,
     "end_time": "2025-01-30T07:19:57.571743",
     "exception": false,
     "start_time": "2025-01-30T07:19:57.540421",
     "status": "completed"
    },
    "tags": []
   },
   "outputs": [
    {
     "name": "stdout",
     "output_type": "stream",
     "text": [
      "<class 'pandas.core.frame.DataFrame'>\n",
      "RangeIndex: 271 entries, 0 to 270\n",
      "Data columns (total 6 columns):\n",
      " #   Column              Non-Null Count  Dtype              \n",
      "---  ------              --------------  -----              \n",
      " 0   Video Title         271 non-null    object             \n",
      " 1   Author              271 non-null    object             \n",
      " 2   Comment             271 non-null    object             \n",
      " 3   Published At        271 non-null    datetime64[ns, UTC]\n",
      " 4   Like Count          271 non-null    int64              \n",
      " 5   translated_comment  267 non-null    object             \n",
      "dtypes: datetime64[ns, UTC](1), int64(1), object(4)\n",
      "memory usage: 12.8+ KB\n"
     ]
    }
   ],
   "source": [
    "comments.info()"
   ]
  },
  {
   "cell_type": "code",
   "execution_count": 15,
   "id": "f3d2aa7c",
   "metadata": {
    "execution": {
     "iopub.execute_input": "2025-01-30T07:19:57.600436Z",
     "iopub.status.busy": "2025-01-30T07:19:57.599905Z",
     "iopub.status.idle": "2025-01-30T07:19:57.615836Z",
     "shell.execute_reply": "2025-01-30T07:19:57.614714Z"
    },
    "papermill": {
     "duration": 0.032409,
     "end_time": "2025-01-30T07:19:57.617824",
     "exception": false,
     "start_time": "2025-01-30T07:19:57.585415",
     "status": "completed"
    },
    "tags": []
   },
   "outputs": [
    {
     "data": {
      "text/html": [
       "<div>\n",
       "<style scoped>\n",
       "    .dataframe tbody tr th:only-of-type {\n",
       "        vertical-align: middle;\n",
       "    }\n",
       "\n",
       "    .dataframe tbody tr th {\n",
       "        vertical-align: top;\n",
       "    }\n",
       "\n",
       "    .dataframe thead th {\n",
       "        text-align: right;\n",
       "    }\n",
       "</style>\n",
       "<table border=\"1\" class=\"dataframe\">\n",
       "  <thead>\n",
       "    <tr style=\"text-align: right;\">\n",
       "      <th></th>\n",
       "      <th>Video Title</th>\n",
       "      <th>Author</th>\n",
       "      <th>Comment</th>\n",
       "      <th>Published At</th>\n",
       "      <th>Like Count</th>\n",
       "      <th>translated_comment</th>\n",
       "    </tr>\n",
       "  </thead>\n",
       "  <tbody>\n",
       "    <tr>\n",
       "      <th>0</th>\n",
       "      <td>SQL CASE STATEMENT JOIN #mysql #sql</td>\n",
       "      <td>@maheshmenta6078</td>\n",
       "      <td>good explanation</td>\n",
       "      <td>2024-10-07 10:26:49+00:00</td>\n",
       "      <td>0</td>\n",
       "      <td>good explanation</td>\n",
       "    </tr>\n",
       "    <tr>\n",
       "      <th>1</th>\n",
       "      <td>SQL LEFT JOIN #mysql #sql</td>\n",
       "      <td>@pawanpt2682</td>\n",
       "      <td>Very nice maam</td>\n",
       "      <td>2023-09-10 14:04:01+00:00</td>\n",
       "      <td>0</td>\n",
       "      <td>Very nice ma'am</td>\n",
       "    </tr>\n",
       "    <tr>\n",
       "      <th>2</th>\n",
       "      <td>Practical Implementation of enum data type in ...</td>\n",
       "      <td>@mostafaf.t3651</td>\n",
       "      <td>Awesome</td>\n",
       "      <td>2024-01-04 00:46:23+00:00</td>\n",
       "      <td>0</td>\n",
       "      <td>Awesome</td>\n",
       "    </tr>\n",
       "    <tr>\n",
       "      <th>3</th>\n",
       "      <td>Unique Key and its Practical Implementation in...</td>\n",
       "      <td>@Arhankhan0786k</td>\n",
       "      <td>Next week is my semester exam and i don&amp;#39;t ...</td>\n",
       "      <td>2023-02-05 17:15:52+00:00</td>\n",
       "      <td>0</td>\n",
       "      <td>Next week is my semester exam and i don&amp;#39;t ...</td>\n",
       "    </tr>\n",
       "    <tr>\n",
       "      <th>4</th>\n",
       "      <td>Primary Key in SQL #mysql #sql #primarykey</td>\n",
       "      <td>@faunseveryn3311</td>\n",
       "      <td>✨ &amp;#39;PromoSM&amp;#39;</td>\n",
       "      <td>2023-04-07 17:27:07+00:00</td>\n",
       "      <td>0</td>\n",
       "      <td>✨ &amp;#39;PromoSM&amp;#39;</td>\n",
       "    </tr>\n",
       "  </tbody>\n",
       "</table>\n",
       "</div>"
      ],
      "text/plain": [
       "                                         Video Title            Author  \\\n",
       "0                SQL CASE STATEMENT JOIN #mysql #sql  @maheshmenta6078   \n",
       "1                          SQL LEFT JOIN #mysql #sql      @pawanpt2682   \n",
       "2  Practical Implementation of enum data type in ...   @mostafaf.t3651   \n",
       "3  Unique Key and its Practical Implementation in...   @Arhankhan0786k   \n",
       "4         Primary Key in SQL #mysql #sql #primarykey  @faunseveryn3311   \n",
       "\n",
       "                                             Comment  \\\n",
       "0                                   good explanation   \n",
       "1                                     Very nice maam   \n",
       "2                                            Awesome   \n",
       "3  Next week is my semester exam and i don&#39;t ...   \n",
       "4                                ✨ &#39;PromoSM&#39;   \n",
       "\n",
       "               Published At  Like Count  \\\n",
       "0 2024-10-07 10:26:49+00:00           0   \n",
       "1 2023-09-10 14:04:01+00:00           0   \n",
       "2 2024-01-04 00:46:23+00:00           0   \n",
       "3 2023-02-05 17:15:52+00:00           0   \n",
       "4 2023-04-07 17:27:07+00:00           0   \n",
       "\n",
       "                                  translated_comment  \n",
       "0                                   good explanation  \n",
       "1                                    Very nice ma'am  \n",
       "2                                            Awesome  \n",
       "3  Next week is my semester exam and i don&#39;t ...  \n",
       "4                                ✨ &#39;PromoSM&#39;  "
      ]
     },
     "execution_count": 15,
     "metadata": {},
     "output_type": "execute_result"
    }
   ],
   "source": [
    "comments.head()"
   ]
  },
  {
   "cell_type": "code",
   "execution_count": 16,
   "id": "3dc3e3c7",
   "metadata": {
    "execution": {
     "iopub.execute_input": "2025-01-30T07:19:57.654905Z",
     "iopub.status.busy": "2025-01-30T07:19:57.654509Z",
     "iopub.status.idle": "2025-01-30T07:19:57.658694Z",
     "shell.execute_reply": "2025-01-30T07:19:57.657475Z"
    },
    "papermill": {
     "duration": 0.028587,
     "end_time": "2025-01-30T07:19:57.660587",
     "exception": false,
     "start_time": "2025-01-30T07:19:57.632000",
     "status": "completed"
    },
    "tags": []
   },
   "outputs": [],
   "source": [
    "# comments['Published At'] = comments['Published At'].dt.date"
   ]
  },
  {
   "cell_type": "code",
   "execution_count": 17,
   "id": "210ae575",
   "metadata": {
    "execution": {
     "iopub.execute_input": "2025-01-30T07:19:57.692700Z",
     "iopub.status.busy": "2025-01-30T07:19:57.692173Z",
     "iopub.status.idle": "2025-01-30T07:19:57.699555Z",
     "shell.execute_reply": "2025-01-30T07:19:57.698427Z"
    },
    "papermill": {
     "duration": 0.025289,
     "end_time": "2025-01-30T07:19:57.701825",
     "exception": false,
     "start_time": "2025-01-30T07:19:57.676536",
     "status": "completed"
    },
    "tags": []
   },
   "outputs": [],
   "source": [
    "comments['year'] = comments['Published At'].dt.year"
   ]
  },
  {
   "cell_type": "code",
   "execution_count": 18,
   "id": "a0955cfb",
   "metadata": {
    "execution": {
     "iopub.execute_input": "2025-01-30T07:19:57.744123Z",
     "iopub.status.busy": "2025-01-30T07:19:57.743729Z",
     "iopub.status.idle": "2025-01-30T07:19:57.750635Z",
     "shell.execute_reply": "2025-01-30T07:19:57.749418Z"
    },
    "papermill": {
     "duration": 0.026495,
     "end_time": "2025-01-30T07:19:57.752873",
     "exception": false,
     "start_time": "2025-01-30T07:19:57.726378",
     "status": "completed"
    },
    "tags": []
   },
   "outputs": [],
   "source": [
    "comments['month_name'] = comments['Published At'].dt.month_name()\n",
    "comments['month'] = comments['Published At'].dt.month"
   ]
  },
  {
   "cell_type": "code",
   "execution_count": 19,
   "id": "e485f2f3",
   "metadata": {
    "execution": {
     "iopub.execute_input": "2025-01-30T07:19:57.788483Z",
     "iopub.status.busy": "2025-01-30T07:19:57.788060Z",
     "iopub.status.idle": "2025-01-30T07:19:57.795016Z",
     "shell.execute_reply": "2025-01-30T07:19:57.793881Z"
    },
    "papermill": {
     "duration": 0.024163,
     "end_time": "2025-01-30T07:19:57.796885",
     "exception": false,
     "start_time": "2025-01-30T07:19:57.772722",
     "status": "completed"
    },
    "tags": []
   },
   "outputs": [],
   "source": [
    "comments['day'] = comments['Published At'].dt.day\n",
    "comments['day_name'] = comments['Published At'].dt.day_name()"
   ]
  },
  {
   "cell_type": "code",
   "execution_count": 20,
   "id": "24bc6e89",
   "metadata": {
    "execution": {
     "iopub.execute_input": "2025-01-30T07:19:57.832259Z",
     "iopub.status.busy": "2025-01-30T07:19:57.831876Z",
     "iopub.status.idle": "2025-01-30T07:19:57.846061Z",
     "shell.execute_reply": "2025-01-30T07:19:57.844766Z"
    },
    "papermill": {
     "duration": 0.034631,
     "end_time": "2025-01-30T07:19:57.847866",
     "exception": false,
     "start_time": "2025-01-30T07:19:57.813235",
     "status": "completed"
    },
    "tags": []
   },
   "outputs": [
    {
     "data": {
      "text/html": [
       "<div>\n",
       "<style scoped>\n",
       "    .dataframe tbody tr th:only-of-type {\n",
       "        vertical-align: middle;\n",
       "    }\n",
       "\n",
       "    .dataframe tbody tr th {\n",
       "        vertical-align: top;\n",
       "    }\n",
       "\n",
       "    .dataframe thead th {\n",
       "        text-align: right;\n",
       "    }\n",
       "</style>\n",
       "<table border=\"1\" class=\"dataframe\">\n",
       "  <thead>\n",
       "    <tr style=\"text-align: right;\">\n",
       "      <th></th>\n",
       "      <th>Video Title</th>\n",
       "      <th>Author</th>\n",
       "      <th>Comment</th>\n",
       "      <th>Published At</th>\n",
       "      <th>Like Count</th>\n",
       "      <th>translated_comment</th>\n",
       "      <th>year</th>\n",
       "      <th>month_name</th>\n",
       "      <th>month</th>\n",
       "      <th>day</th>\n",
       "      <th>day_name</th>\n",
       "    </tr>\n",
       "  </thead>\n",
       "  <tbody>\n",
       "    <tr>\n",
       "      <th>0</th>\n",
       "      <td>SQL CASE STATEMENT JOIN #mysql #sql</td>\n",
       "      <td>@maheshmenta6078</td>\n",
       "      <td>good explanation</td>\n",
       "      <td>2024-10-07 10:26:49+00:00</td>\n",
       "      <td>0</td>\n",
       "      <td>good explanation</td>\n",
       "      <td>2024</td>\n",
       "      <td>October</td>\n",
       "      <td>10</td>\n",
       "      <td>7</td>\n",
       "      <td>Monday</td>\n",
       "    </tr>\n",
       "    <tr>\n",
       "      <th>1</th>\n",
       "      <td>SQL LEFT JOIN #mysql #sql</td>\n",
       "      <td>@pawanpt2682</td>\n",
       "      <td>Very nice maam</td>\n",
       "      <td>2023-09-10 14:04:01+00:00</td>\n",
       "      <td>0</td>\n",
       "      <td>Very nice ma'am</td>\n",
       "      <td>2023</td>\n",
       "      <td>September</td>\n",
       "      <td>9</td>\n",
       "      <td>10</td>\n",
       "      <td>Sunday</td>\n",
       "    </tr>\n",
       "    <tr>\n",
       "      <th>2</th>\n",
       "      <td>Practical Implementation of enum data type in ...</td>\n",
       "      <td>@mostafaf.t3651</td>\n",
       "      <td>Awesome</td>\n",
       "      <td>2024-01-04 00:46:23+00:00</td>\n",
       "      <td>0</td>\n",
       "      <td>Awesome</td>\n",
       "      <td>2024</td>\n",
       "      <td>January</td>\n",
       "      <td>1</td>\n",
       "      <td>4</td>\n",
       "      <td>Thursday</td>\n",
       "    </tr>\n",
       "    <tr>\n",
       "      <th>3</th>\n",
       "      <td>Unique Key and its Practical Implementation in...</td>\n",
       "      <td>@Arhankhan0786k</td>\n",
       "      <td>Next week is my semester exam and i don&amp;#39;t ...</td>\n",
       "      <td>2023-02-05 17:15:52+00:00</td>\n",
       "      <td>0</td>\n",
       "      <td>Next week is my semester exam and i don&amp;#39;t ...</td>\n",
       "      <td>2023</td>\n",
       "      <td>February</td>\n",
       "      <td>2</td>\n",
       "      <td>5</td>\n",
       "      <td>Sunday</td>\n",
       "    </tr>\n",
       "    <tr>\n",
       "      <th>4</th>\n",
       "      <td>Primary Key in SQL #mysql #sql #primarykey</td>\n",
       "      <td>@faunseveryn3311</td>\n",
       "      <td>✨ &amp;#39;PromoSM&amp;#39;</td>\n",
       "      <td>2023-04-07 17:27:07+00:00</td>\n",
       "      <td>0</td>\n",
       "      <td>✨ &amp;#39;PromoSM&amp;#39;</td>\n",
       "      <td>2023</td>\n",
       "      <td>April</td>\n",
       "      <td>4</td>\n",
       "      <td>7</td>\n",
       "      <td>Friday</td>\n",
       "    </tr>\n",
       "  </tbody>\n",
       "</table>\n",
       "</div>"
      ],
      "text/plain": [
       "                                         Video Title            Author  \\\n",
       "0                SQL CASE STATEMENT JOIN #mysql #sql  @maheshmenta6078   \n",
       "1                          SQL LEFT JOIN #mysql #sql      @pawanpt2682   \n",
       "2  Practical Implementation of enum data type in ...   @mostafaf.t3651   \n",
       "3  Unique Key and its Practical Implementation in...   @Arhankhan0786k   \n",
       "4         Primary Key in SQL #mysql #sql #primarykey  @faunseveryn3311   \n",
       "\n",
       "                                             Comment  \\\n",
       "0                                   good explanation   \n",
       "1                                     Very nice maam   \n",
       "2                                            Awesome   \n",
       "3  Next week is my semester exam and i don&#39;t ...   \n",
       "4                                ✨ &#39;PromoSM&#39;   \n",
       "\n",
       "               Published At  Like Count  \\\n",
       "0 2024-10-07 10:26:49+00:00           0   \n",
       "1 2023-09-10 14:04:01+00:00           0   \n",
       "2 2024-01-04 00:46:23+00:00           0   \n",
       "3 2023-02-05 17:15:52+00:00           0   \n",
       "4 2023-04-07 17:27:07+00:00           0   \n",
       "\n",
       "                                  translated_comment  year month_name  month  \\\n",
       "0                                   good explanation  2024    October     10   \n",
       "1                                    Very nice ma'am  2023  September      9   \n",
       "2                                            Awesome  2024    January      1   \n",
       "3  Next week is my semester exam and i don&#39;t ...  2023   February      2   \n",
       "4                                ✨ &#39;PromoSM&#39;  2023      April      4   \n",
       "\n",
       "   day  day_name  \n",
       "0    7    Monday  \n",
       "1   10    Sunday  \n",
       "2    4  Thursday  \n",
       "3    5    Sunday  \n",
       "4    7    Friday  "
      ]
     },
     "execution_count": 20,
     "metadata": {},
     "output_type": "execute_result"
    }
   ],
   "source": [
    "comments.head()"
   ]
  },
  {
   "cell_type": "code",
   "execution_count": 21,
   "id": "36ccc54d",
   "metadata": {
    "execution": {
     "iopub.execute_input": "2025-01-30T07:19:57.879044Z",
     "iopub.status.busy": "2025-01-30T07:19:57.878532Z",
     "iopub.status.idle": "2025-01-30T07:19:58.230870Z",
     "shell.execute_reply": "2025-01-30T07:19:58.229692Z"
    },
    "papermill": {
     "duration": 0.370042,
     "end_time": "2025-01-30T07:19:58.232898",
     "exception": false,
     "start_time": "2025-01-30T07:19:57.862856",
     "status": "completed"
    },
    "tags": []
   },
   "outputs": [
    {
     "data": {
      "text/plain": [
       "<Axes: xlabel='year'>"
      ]
     },
     "execution_count": 21,
     "metadata": {},
     "output_type": "execute_result"
    },
    {
     "data": {
      "image/png": "[encoded data removed]",
      "text/plain": [
       "<Figure size 640x480 with 1 Axes>"
      ]
     },
     "metadata": {},
     "output_type": "display_data"
    }
   ],
   "source": [
    "comments['year'].value_counts().plot(kind = 'bar')"
   ]
  },
  {
   "cell_type": "code",
   "execution_count": 22,
   "id": "57e10bce",
   "metadata": {
    "execution": {
     "iopub.execute_input": "2025-01-30T07:19:58.263125Z",
     "iopub.status.busy": "2025-01-30T07:19:58.262761Z",
     "iopub.status.idle": "2025-01-30T07:19:58.454278Z",
     "shell.execute_reply": "2025-01-30T07:19:58.453017Z"
    },
    "papermill": {
     "duration": 0.20881,
     "end_time": "2025-01-30T07:19:58.456213",
     "exception": false,
     "start_time": "2025-01-30T07:19:58.247403",
     "status": "completed"
    },
    "tags": []
   },
   "outputs": [
    {
     "data": {
      "text/plain": [
       "<Axes: xlabel='day_name'>"
      ]
     },
     "execution_count": 22,
     "metadata": {},
     "output_type": "execute_result"
    },
    {
     "data": {
      "image/png": "[encoded data removed]",
      "text/plain": [
       "<Figure size 640x480 with 1 Axes>"
      ]
     },
     "metadata": {},
     "output_type": "display_data"
    }
   ],
   "source": [
    "comments['day_name'].value_counts().plot(kind = 'bar')"
   ]
  },
  {
   "cell_type": "code",
   "execution_count": 23,
   "id": "cc1be215",
   "metadata": {
    "execution": {
     "iopub.execute_input": "2025-01-30T07:19:58.488601Z",
     "iopub.status.busy": "2025-01-30T07:19:58.488080Z",
     "iopub.status.idle": "2025-01-30T07:19:58.512035Z",
     "shell.execute_reply": "2025-01-30T07:19:58.510881Z"
    },
    "papermill": {
     "duration": 0.042615,
     "end_time": "2025-01-30T07:19:58.514084",
     "exception": false,
     "start_time": "2025-01-30T07:19:58.471469",
     "status": "completed"
    },
    "tags": []
   },
   "outputs": [],
   "source": [
    "comment_counts  = comments.groupby(['year', 'month_name']).size().unstack()"
   ]
  },
  {
   "cell_type": "code",
   "execution_count": 24,
   "id": "aad534e1",
   "metadata": {
    "execution": {
     "iopub.execute_input": "2025-01-30T07:19:58.545308Z",
     "iopub.status.busy": "2025-01-30T07:19:58.544951Z",
     "iopub.status.idle": "2025-01-30T07:19:58.565410Z",
     "shell.execute_reply": "2025-01-30T07:19:58.564269Z"
    },
    "papermill": {
     "duration": 0.038016,
     "end_time": "2025-01-30T07:19:58.567080",
     "exception": false,
     "start_time": "2025-01-30T07:19:58.529064",
     "status": "completed"
    },
    "tags": []
   },
   "outputs": [
    {
     "data": {
      "text/html": [
       "<div>\n",
       "<style scoped>\n",
       "    .dataframe tbody tr th:only-of-type {\n",
       "        vertical-align: middle;\n",
       "    }\n",
       "\n",
       "    .dataframe tbody tr th {\n",
       "        vertical-align: top;\n",
       "    }\n",
       "\n",
       "    .dataframe thead th {\n",
       "        text-align: right;\n",
       "    }\n",
       "</style>\n",
       "<table border=\"1\" class=\"dataframe\">\n",
       "  <thead>\n",
       "    <tr style=\"text-align: right;\">\n",
       "      <th>month_name</th>\n",
       "      <th>April</th>\n",
       "      <th>August</th>\n",
       "      <th>December</th>\n",
       "      <th>February</th>\n",
       "      <th>January</th>\n",
       "      <th>July</th>\n",
       "      <th>June</th>\n",
       "      <th>March</th>\n",
       "      <th>May</th>\n",
       "      <th>November</th>\n",
       "      <th>October</th>\n",
       "      <th>September</th>\n",
       "    </tr>\n",
       "    <tr>\n",
       "      <th>year</th>\n",
       "      <th></th>\n",
       "      <th></th>\n",
       "      <th></th>\n",
       "      <th></th>\n",
       "      <th></th>\n",
       "      <th></th>\n",
       "      <th></th>\n",
       "      <th></th>\n",
       "      <th></th>\n",
       "      <th></th>\n",
       "      <th></th>\n",
       "      <th></th>\n",
       "    </tr>\n",
       "  </thead>\n",
       "  <tbody>\n",
       "    <tr>\n",
       "      <th>2019</th>\n",
       "      <td>NaN</td>\n",
       "      <td>6.0</td>\n",
       "      <td>2.0</td>\n",
       "      <td>14.0</td>\n",
       "      <td>NaN</td>\n",
       "      <td>3.0</td>\n",
       "      <td>1.0</td>\n",
       "      <td>2.0</td>\n",
       "      <td>NaN</td>\n",
       "      <td>3.0</td>\n",
       "      <td>2.0</td>\n",
       "      <td>1.0</td>\n",
       "    </tr>\n",
       "    <tr>\n",
       "      <th>2020</th>\n",
       "      <td>30.0</td>\n",
       "      <td>2.0</td>\n",
       "      <td>4.0</td>\n",
       "      <td>2.0</td>\n",
       "      <td>NaN</td>\n",
       "      <td>1.0</td>\n",
       "      <td>2.0</td>\n",
       "      <td>NaN</td>\n",
       "      <td>3.0</td>\n",
       "      <td>9.0</td>\n",
       "      <td>6.0</td>\n",
       "      <td>7.0</td>\n",
       "    </tr>\n",
       "    <tr>\n",
       "      <th>2021</th>\n",
       "      <td>3.0</td>\n",
       "      <td>6.0</td>\n",
       "      <td>9.0</td>\n",
       "      <td>6.0</td>\n",
       "      <td>8.0</td>\n",
       "      <td>1.0</td>\n",
       "      <td>4.0</td>\n",
       "      <td>1.0</td>\n",
       "      <td>5.0</td>\n",
       "      <td>6.0</td>\n",
       "      <td>11.0</td>\n",
       "      <td>11.0</td>\n",
       "    </tr>\n",
       "    <tr>\n",
       "      <th>2022</th>\n",
       "      <td>1.0</td>\n",
       "      <td>4.0</td>\n",
       "      <td>6.0</td>\n",
       "      <td>2.0</td>\n",
       "      <td>4.0</td>\n",
       "      <td>4.0</td>\n",
       "      <td>2.0</td>\n",
       "      <td>6.0</td>\n",
       "      <td>7.0</td>\n",
       "      <td>7.0</td>\n",
       "      <td>3.0</td>\n",
       "      <td>3.0</td>\n",
       "    </tr>\n",
       "    <tr>\n",
       "      <th>2023</th>\n",
       "      <td>1.0</td>\n",
       "      <td>NaN</td>\n",
       "      <td>2.0</td>\n",
       "      <td>5.0</td>\n",
       "      <td>3.0</td>\n",
       "      <td>NaN</td>\n",
       "      <td>3.0</td>\n",
       "      <td>4.0</td>\n",
       "      <td>2.0</td>\n",
       "      <td>2.0</td>\n",
       "      <td>2.0</td>\n",
       "      <td>6.0</td>\n",
       "    </tr>\n",
       "    <tr>\n",
       "      <th>2024</th>\n",
       "      <td>2.0</td>\n",
       "      <td>1.0</td>\n",
       "      <td>NaN</td>\n",
       "      <td>3.0</td>\n",
       "      <td>2.0</td>\n",
       "      <td>1.0</td>\n",
       "      <td>1.0</td>\n",
       "      <td>1.0</td>\n",
       "      <td>3.0</td>\n",
       "      <td>2.0</td>\n",
       "      <td>4.0</td>\n",
       "      <td>1.0</td>\n",
       "    </tr>\n",
       "  </tbody>\n",
       "</table>\n",
       "</div>"
      ],
      "text/plain": [
       "month_name  April  August  December  February  January  July  June  March  \\\n",
       "year                                                                        \n",
       "2019          NaN     6.0       2.0      14.0      NaN   3.0   1.0    2.0   \n",
       "2020         30.0     2.0       4.0       2.0      NaN   1.0   2.0    NaN   \n",
       "2021          3.0     6.0       9.0       6.0      8.0   1.0   4.0    1.0   \n",
       "2022          1.0     4.0       6.0       2.0      4.0   4.0   2.0    6.0   \n",
       "2023          1.0     NaN       2.0       5.0      3.0   NaN   3.0    4.0   \n",
       "2024          2.0     1.0       NaN       3.0      2.0   1.0   1.0    1.0   \n",
       "\n",
       "month_name  May  November  October  September  \n",
       "year                                           \n",
       "2019        NaN       3.0      2.0        1.0  \n",
       "2020        3.0       9.0      6.0        7.0  \n",
       "2021        5.0       6.0     11.0       11.0  \n",
       "2022        7.0       7.0      3.0        3.0  \n",
       "2023        2.0       2.0      2.0        6.0  \n",
       "2024        3.0       2.0      4.0        1.0  "
      ]
     },
     "execution_count": 24,
     "metadata": {},
     "output_type": "execute_result"
    }
   ],
   "source": [
    "comment_counts"
   ]
  },
  {
   "cell_type": "code",
   "execution_count": 25,
   "id": "24f30421",
   "metadata": {
    "execution": {
     "iopub.execute_input": "2025-01-30T07:19:58.598802Z",
     "iopub.status.busy": "2025-01-30T07:19:58.598449Z",
     "iopub.status.idle": "2025-01-30T07:19:58.603959Z",
     "shell.execute_reply": "2025-01-30T07:19:58.602839Z"
    },
    "papermill": {
     "duration": 0.023452,
     "end_time": "2025-01-30T07:19:58.605777",
     "exception": false,
     "start_time": "2025-01-30T07:19:58.582325",
     "status": "completed"
    },
    "tags": []
   },
   "outputs": [],
   "source": [
    "month_order = list(calendar.month_name[1:])\n",
    "comment_counts = comment_counts[month_order]"
   ]
  },
  {
   "cell_type": "code",
   "execution_count": 26,
   "id": "48f96734",
   "metadata": {
    "execution": {
     "iopub.execute_input": "2025-01-30T07:19:58.637705Z",
     "iopub.status.busy": "2025-01-30T07:19:58.637190Z",
     "iopub.status.idle": "2025-01-30T07:19:58.661799Z",
     "shell.execute_reply": "2025-01-30T07:19:58.660706Z"
    },
    "papermill": {
     "duration": 0.042526,
     "end_time": "2025-01-30T07:19:58.663544",
     "exception": false,
     "start_time": "2025-01-30T07:19:58.621018",
     "status": "completed"
    },
    "tags": []
   },
   "outputs": [
    {
     "data": {
      "text/html": [
       "<div>\n",
       "<style scoped>\n",
       "    .dataframe tbody tr th:only-of-type {\n",
       "        vertical-align: middle;\n",
       "    }\n",
       "\n",
       "    .dataframe tbody tr th {\n",
       "        vertical-align: top;\n",
       "    }\n",
       "\n",
       "    .dataframe thead th {\n",
       "        text-align: right;\n",
       "    }\n",
       "</style>\n",
       "<table border=\"1\" class=\"dataframe\">\n",
       "  <thead>\n",
       "    <tr style=\"text-align: right;\">\n",
       "      <th>month_name</th>\n",
       "      <th>January</th>\n",
       "      <th>February</th>\n",
       "      <th>March</th>\n",
       "      <th>April</th>\n",
       "      <th>May</th>\n",
       "      <th>June</th>\n",
       "      <th>July</th>\n",
       "      <th>August</th>\n",
       "      <th>September</th>\n",
       "      <th>October</th>\n",
       "      <th>November</th>\n",
       "      <th>December</th>\n",
       "    </tr>\n",
       "    <tr>\n",
       "      <th>year</th>\n",
       "      <th></th>\n",
       "      <th></th>\n",
       "      <th></th>\n",
       "      <th></th>\n",
       "      <th></th>\n",
       "      <th></th>\n",
       "      <th></th>\n",
       "      <th></th>\n",
       "      <th></th>\n",
       "      <th></th>\n",
       "      <th></th>\n",
       "      <th></th>\n",
       "    </tr>\n",
       "  </thead>\n",
       "  <tbody>\n",
       "    <tr>\n",
       "      <th>2019</th>\n",
       "      <td>NaN</td>\n",
       "      <td>14.0</td>\n",
       "      <td>2.0</td>\n",
       "      <td>NaN</td>\n",
       "      <td>NaN</td>\n",
       "      <td>1.0</td>\n",
       "      <td>3.0</td>\n",
       "      <td>6.0</td>\n",
       "      <td>1.0</td>\n",
       "      <td>2.0</td>\n",
       "      <td>3.0</td>\n",
       "      <td>2.0</td>\n",
       "    </tr>\n",
       "    <tr>\n",
       "      <th>2020</th>\n",
       "      <td>NaN</td>\n",
       "      <td>2.0</td>\n",
       "      <td>NaN</td>\n",
       "      <td>30.0</td>\n",
       "      <td>3.0</td>\n",
       "      <td>2.0</td>\n",
       "      <td>1.0</td>\n",
       "      <td>2.0</td>\n",
       "      <td>7.0</td>\n",
       "      <td>6.0</td>\n",
       "      <td>9.0</td>\n",
       "      <td>4.0</td>\n",
       "    </tr>\n",
       "    <tr>\n",
       "      <th>2021</th>\n",
       "      <td>8.0</td>\n",
       "      <td>6.0</td>\n",
       "      <td>1.0</td>\n",
       "      <td>3.0</td>\n",
       "      <td>5.0</td>\n",
       "      <td>4.0</td>\n",
       "      <td>1.0</td>\n",
       "      <td>6.0</td>\n",
       "      <td>11.0</td>\n",
       "      <td>11.0</td>\n",
       "      <td>6.0</td>\n",
       "      <td>9.0</td>\n",
       "    </tr>\n",
       "    <tr>\n",
       "      <th>2022</th>\n",
       "      <td>4.0</td>\n",
       "      <td>2.0</td>\n",
       "      <td>6.0</td>\n",
       "      <td>1.0</td>\n",
       "      <td>7.0</td>\n",
       "      <td>2.0</td>\n",
       "      <td>4.0</td>\n",
       "      <td>4.0</td>\n",
       "      <td>3.0</td>\n",
       "      <td>3.0</td>\n",
       "      <td>7.0</td>\n",
       "      <td>6.0</td>\n",
       "    </tr>\n",
       "    <tr>\n",
       "      <th>2023</th>\n",
       "      <td>3.0</td>\n",
       "      <td>5.0</td>\n",
       "      <td>4.0</td>\n",
       "      <td>1.0</td>\n",
       "      <td>2.0</td>\n",
       "      <td>3.0</td>\n",
       "      <td>NaN</td>\n",
       "      <td>NaN</td>\n",
       "      <td>6.0</td>\n",
       "      <td>2.0</td>\n",
       "      <td>2.0</td>\n",
       "      <td>2.0</td>\n",
       "    </tr>\n",
       "    <tr>\n",
       "      <th>2024</th>\n",
       "      <td>2.0</td>\n",
       "      <td>3.0</td>\n",
       "      <td>1.0</td>\n",
       "      <td>2.0</td>\n",
       "      <td>3.0</td>\n",
       "      <td>1.0</td>\n",
       "      <td>1.0</td>\n",
       "      <td>1.0</td>\n",
       "      <td>1.0</td>\n",
       "      <td>4.0</td>\n",
       "      <td>2.0</td>\n",
       "      <td>NaN</td>\n",
       "    </tr>\n",
       "  </tbody>\n",
       "</table>\n",
       "</div>"
      ],
      "text/plain": [
       "month_name  January  February  March  April  May  June  July  August  \\\n",
       "year                                                                   \n",
       "2019            NaN      14.0    2.0    NaN  NaN   1.0   3.0     6.0   \n",
       "2020            NaN       2.0    NaN   30.0  3.0   2.0   1.0     2.0   \n",
       "2021            8.0       6.0    1.0    3.0  5.0   4.0   1.0     6.0   \n",
       "2022            4.0       2.0    6.0    1.0  7.0   2.0   4.0     4.0   \n",
       "2023            3.0       5.0    4.0    1.0  2.0   3.0   NaN     NaN   \n",
       "2024            2.0       3.0    1.0    2.0  3.0   1.0   1.0     1.0   \n",
       "\n",
       "month_name  September  October  November  December  \n",
       "year                                                \n",
       "2019              1.0      2.0       3.0       2.0  \n",
       "2020              7.0      6.0       9.0       4.0  \n",
       "2021             11.0     11.0       6.0       9.0  \n",
       "2022              3.0      3.0       7.0       6.0  \n",
       "2023              6.0      2.0       2.0       2.0  \n",
       "2024              1.0      4.0       2.0       NaN  "
      ]
     },
     "execution_count": 26,
     "metadata": {},
     "output_type": "execute_result"
    }
   ],
   "source": [
    "comment_counts"
   ]
  },
  {
   "cell_type": "code",
   "execution_count": 27,
   "id": "4e559d0a",
   "metadata": {
    "execution": {
     "iopub.execute_input": "2025-01-30T07:19:58.697031Z",
     "iopub.status.busy": "2025-01-30T07:19:58.696638Z",
     "iopub.status.idle": "2025-01-30T07:19:59.163143Z",
     "shell.execute_reply": "2025-01-30T07:19:59.161070Z"
    },
    "papermill": {
     "duration": 0.486215,
     "end_time": "2025-01-30T07:19:59.165444",
     "exception": false,
     "start_time": "2025-01-30T07:19:58.679229",
     "status": "completed"
    },
    "tags": []
   },
   "outputs": [
    {
     "data": {
      "image/png": "[encoded data removed]",
      "text/plain": [
       "<Figure size 1000x600 with 1 Axes>"
      ]
     },
     "metadata": {},
     "output_type": "display_data"
    }
   ],
   "source": [
    "comment_counts.plot(kind='bar', figsize=(10, 6), ylabel='Number of Comments', title='Comments Published per Year & Month')\n",
    "plt.xticks(rotation=45)  \n",
    "plt.legend(title=\"Month\")\n",
    "plt.show()"
   ]
  },
  {
   "cell_type": "code",
   "execution_count": 28,
   "id": "26d298d6",
   "metadata": {
    "execution": {
     "iopub.execute_input": "2025-01-30T07:19:59.201966Z",
     "iopub.status.busy": "2025-01-30T07:19:59.201568Z",
     "iopub.status.idle": "2025-01-30T07:19:59.208558Z",
     "shell.execute_reply": "2025-01-30T07:19:59.207364Z"
    },
    "papermill": {
     "duration": 0.027205,
     "end_time": "2025-01-30T07:19:59.210466",
     "exception": false,
     "start_time": "2025-01-30T07:19:59.183261",
     "status": "completed"
    },
    "tags": []
   },
   "outputs": [
    {
     "data": {
      "text/plain": [
       "'Roses are red, Violets are blue<br>There will always be an Indian<br>Who would&#39;ve love to help you'"
      ]
     },
     "execution_count": 28,
     "metadata": {},
     "output_type": "execute_result"
    }
   ],
   "source": [
    "example = comments['translated_comment'][50]\n",
    "example"
   ]
  },
  {
   "cell_type": "code",
   "execution_count": 29,
   "id": "484947b3",
   "metadata": {
    "execution": {
     "iopub.execute_input": "2025-01-30T07:19:59.248706Z",
     "iopub.status.busy": "2025-01-30T07:19:59.248278Z",
     "iopub.status.idle": "2025-01-30T07:19:59.257929Z",
     "shell.execute_reply": "2025-01-30T07:19:59.256522Z"
    },
    "papermill": {
     "duration": 0.031947,
     "end_time": "2025-01-30T07:19:59.260719",
     "exception": false,
     "start_time": "2025-01-30T07:19:59.228772",
     "status": "completed"
    },
    "tags": []
   },
   "outputs": [
    {
     "data": {
      "text/plain": [
       "\"roses are red violets are blue there will always be an indian who would've love to help you\""
      ]
     },
     "execution_count": 29,
     "metadata": {},
     "output_type": "execute_result"
    }
   ],
   "source": [
    "comment = example.replace(\"<br>\", \" \")\n",
    "comment = BeautifulSoup(comment, \"html.parser\").get_text()\n",
    "comment = re.sub(r\"&#39;\", \"'\", comment)\n",
    "comment = re.sub(r\"[^a-zA-Z0-9\\s']\", \"\", comment)\n",
    "comment = comment.lower()\n",
    "# stop_words = set(stopwords.words('english'))\n",
    "words = comment.split()\n",
    "# filtered_words = [word for word in words if word not in stop_words]\n",
    "filtered_words = [word for word in words]\n",
    "example = \" \".join(filtered_words)\n",
    "example"
   ]
  },
  {
   "cell_type": "code",
   "execution_count": 30,
   "id": "e96be442",
   "metadata": {
    "execution": {
     "iopub.execute_input": "2025-01-30T07:19:59.297016Z",
     "iopub.status.busy": "2025-01-30T07:19:59.296591Z",
     "iopub.status.idle": "2025-01-30T07:19:59.314125Z",
     "shell.execute_reply": "2025-01-30T07:19:59.312954Z"
    },
    "papermill": {
     "duration": 0.038103,
     "end_time": "2025-01-30T07:19:59.316045",
     "exception": false,
     "start_time": "2025-01-30T07:19:59.277942",
     "status": "completed"
    },
    "tags": []
   },
   "outputs": [
    {
     "data": {
      "text/plain": [
       "['roses',\n",
       " 'are',\n",
       " 'red',\n",
       " 'violets',\n",
       " 'are',\n",
       " 'blue',\n",
       " 'there',\n",
       " 'will',\n",
       " 'always',\n",
       " 'be']"
      ]
     },
     "execution_count": 30,
     "metadata": {},
     "output_type": "execute_result"
    }
   ],
   "source": [
    "tokens = nltk.word_tokenize(example)\n",
    "tokens[:10]"
   ]
  },
  {
   "cell_type": "code",
   "execution_count": 31,
   "id": "df858a46",
   "metadata": {
    "execution": {
     "iopub.execute_input": "2025-01-30T07:19:59.351229Z",
     "iopub.status.busy": "2025-01-30T07:19:59.350818Z",
     "iopub.status.idle": "2025-01-30T07:19:59.490843Z",
     "shell.execute_reply": "2025-01-30T07:19:59.489708Z"
    },
    "papermill": {
     "duration": 0.159762,
     "end_time": "2025-01-30T07:19:59.492759",
     "exception": false,
     "start_time": "2025-01-30T07:19:59.332997",
     "status": "completed"
    },
    "tags": []
   },
   "outputs": [
    {
     "data": {
      "text/plain": [
       "[('roses', 'NNS'),\n",
       " ('are', 'VBP'),\n",
       " ('red', 'JJ'),\n",
       " ('violets', 'NNS'),\n",
       " ('are', 'VBP'),\n",
       " ('blue', 'JJ'),\n",
       " ('there', 'RB'),\n",
       " ('will', 'MD'),\n",
       " ('always', 'RB'),\n",
       " ('be', 'VB')]"
      ]
     },
     "execution_count": 31,
     "metadata": {},
     "output_type": "execute_result"
    }
   ],
   "source": [
    "tagged = nltk.pos_tag(tokens)\n",
    "tagged[:10]"
   ]
  },
  {
   "cell_type": "code",
   "execution_count": 32,
   "id": "cad3c671",
   "metadata": {
    "execution": {
     "iopub.execute_input": "2025-01-30T07:19:59.529028Z",
     "iopub.status.busy": "2025-01-30T07:19:59.528647Z",
     "iopub.status.idle": "2025-01-30T07:19:59.659820Z",
     "shell.execute_reply": "2025-01-30T07:19:59.658964Z"
    },
    "papermill": {
     "duration": 0.151237,
     "end_time": "2025-01-30T07:19:59.661814",
     "exception": false,
     "start_time": "2025-01-30T07:19:59.510577",
     "status": "completed"
    },
    "tags": []
   },
   "outputs": [],
   "source": [
    "entities = nltk.chunk.ne_chunk(tagged)"
   ]
  },
  {
   "cell_type": "code",
   "execution_count": 33,
   "id": "febabc96",
   "metadata": {
    "execution": {
     "iopub.execute_input": "2025-01-30T07:19:59.697475Z",
     "iopub.status.busy": "2025-01-30T07:19:59.697059Z",
     "iopub.status.idle": "2025-01-30T07:19:59.701956Z",
     "shell.execute_reply": "2025-01-30T07:19:59.700882Z"
    },
    "papermill": {
     "duration": 0.025187,
     "end_time": "2025-01-30T07:19:59.703870",
     "exception": false,
     "start_time": "2025-01-30T07:19:59.678683",
     "status": "completed"
    },
    "tags": []
   },
   "outputs": [
    {
     "name": "stdout",
     "output_type": "stream",
     "text": [
      "(S\n",
      "  roses/NNS\n",
      "  are/VBP\n",
      "  red/JJ\n",
      "  violets/NNS\n",
      "  are/VBP\n",
      "  blue/JJ\n",
      "  there/RB\n",
      "  will/MD\n",
      "  always/RB\n",
      "  be/VB\n",
      "  an/DT\n",
      "  indian/JJ\n",
      "  who/WP\n",
      "  would/MD\n",
      "  've/VBP\n",
      "  love/VB\n",
      "  to/TO\n",
      "  help/VB\n",
      "  you/PRP)\n"
     ]
    }
   ],
   "source": [
    "entities.pprint()"
   ]
  },
  {
   "cell_type": "code",
   "execution_count": 34,
   "id": "fd78bc70",
   "metadata": {
    "execution": {
     "iopub.execute_input": "2025-01-30T07:19:59.740943Z",
     "iopub.status.busy": "2025-01-30T07:19:59.740574Z",
     "iopub.status.idle": "2025-01-30T07:19:59.795893Z",
     "shell.execute_reply": "2025-01-30T07:19:59.794747Z"
    },
    "papermill": {
     "duration": 0.076957,
     "end_time": "2025-01-30T07:19:59.797854",
     "exception": false,
     "start_time": "2025-01-30T07:19:59.720897",
     "status": "completed"
    },
    "scrolled": true,
    "tags": []
   },
   "outputs": [],
   "source": [
    "## VADER sentiment scoring\n",
    "from nltk.sentiment import SentimentIntensityAnalyzer\n",
    "from tqdm.notebook import tqdm\n",
    "\n",
    "sia = SentimentIntensityAnalyzer()"
   ]
  },
  {
   "cell_type": "code",
   "execution_count": 35,
   "id": "8acffcf0",
   "metadata": {
    "execution": {
     "iopub.execute_input": "2025-01-30T07:19:59.832829Z",
     "iopub.status.busy": "2025-01-30T07:19:59.832469Z",
     "iopub.status.idle": "2025-01-30T07:19:59.838980Z",
     "shell.execute_reply": "2025-01-30T07:19:59.837878Z"
    },
    "papermill": {
     "duration": 0.026068,
     "end_time": "2025-01-30T07:19:59.840802",
     "exception": false,
     "start_time": "2025-01-30T07:19:59.814734",
     "status": "completed"
    },
    "tags": []
   },
   "outputs": [
    {
     "data": {
      "text/plain": [
       "{'neg': 0.0, 'neu': 0.318, 'pos': 0.682, 'compound': 0.6468}"
      ]
     },
     "execution_count": 35,
     "metadata": {},
     "output_type": "execute_result"
    }
   ],
   "source": [
    "sia.polarity_scores('I am so happy!') # negative, neutral, positive"
   ]
  },
  {
   "cell_type": "code",
   "execution_count": 36,
   "id": "dfedc3ee",
   "metadata": {
    "execution": {
     "iopub.execute_input": "2025-01-30T07:19:59.937259Z",
     "iopub.status.busy": "2025-01-30T07:19:59.936874Z",
     "iopub.status.idle": "2025-01-30T07:19:59.943553Z",
     "shell.execute_reply": "2025-01-30T07:19:59.942191Z"
    },
    "papermill": {
     "duration": 0.026628,
     "end_time": "2025-01-30T07:19:59.945369",
     "exception": false,
     "start_time": "2025-01-30T07:19:59.918741",
     "status": "completed"
    },
    "tags": []
   },
   "outputs": [
    {
     "data": {
      "text/plain": [
       "{'neg': 0.451, 'neu': 0.549, 'pos': 0.0, 'compound': -0.6249}"
      ]
     },
     "execution_count": 36,
     "metadata": {},
     "output_type": "execute_result"
    }
   ],
   "source": [
    "sia.polarity_scores('This is the worst thing ever.')"
   ]
  },
  {
   "cell_type": "code",
   "execution_count": 37,
   "id": "c2fb6bba",
   "metadata": {
    "execution": {
     "iopub.execute_input": "2025-01-30T07:19:59.981229Z",
     "iopub.status.busy": "2025-01-30T07:19:59.980877Z",
     "iopub.status.idle": "2025-01-30T07:19:59.986532Z",
     "shell.execute_reply": "2025-01-30T07:19:59.985584Z"
    },
    "papermill": {
     "duration": 0.02575,
     "end_time": "2025-01-30T07:19:59.988224",
     "exception": false,
     "start_time": "2025-01-30T07:19:59.962474",
     "status": "completed"
    },
    "tags": []
   },
   "outputs": [
    {
     "data": {
      "text/plain": [
       "\"roses are red violets are blue there will always be an indian who would've love to help you\""
      ]
     },
     "execution_count": 37,
     "metadata": {},
     "output_type": "execute_result"
    }
   ],
   "source": [
    "example"
   ]
  },
  {
   "cell_type": "code",
   "execution_count": 38,
   "id": "73ff1c4b",
   "metadata": {
    "execution": {
     "iopub.execute_input": "2025-01-30T07:20:00.023944Z",
     "iopub.status.busy": "2025-01-30T07:20:00.023567Z",
     "iopub.status.idle": "2025-01-30T07:20:00.030235Z",
     "shell.execute_reply": "2025-01-30T07:20:00.029216Z"
    },
    "papermill": {
     "duration": 0.02662,
     "end_time": "2025-01-30T07:20:00.032165",
     "exception": false,
     "start_time": "2025-01-30T07:20:00.005545",
     "status": "completed"
    },
    "tags": []
   },
   "outputs": [
    {
     "data": {
      "text/plain": [
       "{'neg': 0.0, 'neu': 0.699, 'pos': 0.301, 'compound': 0.7845}"
      ]
     },
     "execution_count": 38,
     "metadata": {},
     "output_type": "execute_result"
    }
   ],
   "source": [
    "sia.polarity_scores(example)"
   ]
  },
  {
   "cell_type": "code",
   "execution_count": 39,
   "id": "c310caec",
   "metadata": {
    "execution": {
     "iopub.execute_input": "2025-01-30T07:20:00.068438Z",
     "iopub.status.busy": "2025-01-30T07:20:00.068050Z",
     "iopub.status.idle": "2025-01-30T07:20:00.073845Z",
     "shell.execute_reply": "2025-01-30T07:20:00.072759Z"
    },
    "papermill": {
     "duration": 0.025743,
     "end_time": "2025-01-30T07:20:00.075570",
     "exception": false,
     "start_time": "2025-01-30T07:20:00.049827",
     "status": "completed"
    },
    "tags": []
   },
   "outputs": [],
   "source": [
    "## on whole dataset\n",
    "def clean_comment(comment):\n",
    "    if not isinstance(comment, str):  # Check if comment is None or NaN\n",
    "        return \"\"\n",
    "    comment = comment.replace(\"<br>\", \" \")\n",
    "    comment = BeautifulSoup(comment, \"html.parser\").get_text()\n",
    "    comment = re.sub(r\"&#39;\", \"'\", comment)  # &#39; → '\n",
    "    comment = re.sub(r\"[^a-zA-Z0-9\\s']\", \"\", comment)\n",
    "    comment = comment.lower()\n",
    "#     stop_words = set(stopwords.words('english'))\n",
    "    words = comment.split()\n",
    "    filtered_words = [word for word in words]\n",
    "    cleaned_comment  = \" \".join(filtered_words)\n",
    "    return cleaned_comment "
   ]
  },
  {
   "cell_type": "code",
   "execution_count": 40,
   "id": "621ecafe",
   "metadata": {
    "execution": {
     "iopub.execute_input": "2025-01-30T07:20:00.115421Z",
     "iopub.status.busy": "2025-01-30T07:20:00.115026Z",
     "iopub.status.idle": "2025-01-30T07:20:00.139440Z",
     "shell.execute_reply": "2025-01-30T07:20:00.137622Z"
    },
    "papermill": {
     "duration": 0.048405,
     "end_time": "2025-01-30T07:20:00.141684",
     "exception": false,
     "start_time": "2025-01-30T07:20:00.093279",
     "status": "completed"
    },
    "tags": []
   },
   "outputs": [],
   "source": [
    "## with stopwords removal\n",
    "comments['clean_comment'] = comments['translated_comment'].apply(clean_comment)"
   ]
  },
  {
   "cell_type": "code",
   "execution_count": 41,
   "id": "dd029a15",
   "metadata": {
    "execution": {
     "iopub.execute_input": "2025-01-30T07:20:00.179172Z",
     "iopub.status.busy": "2025-01-30T07:20:00.178785Z",
     "iopub.status.idle": "2025-01-30T07:20:00.184919Z",
     "shell.execute_reply": "2025-01-30T07:20:00.183785Z"
    },
    "papermill": {
     "duration": 0.027153,
     "end_time": "2025-01-30T07:20:00.186957",
     "exception": false,
     "start_time": "2025-01-30T07:20:00.159804",
     "status": "completed"
    },
    "tags": []
   },
   "outputs": [],
   "source": [
    "comments['Id'] = range(1, len(comments)+1)"
   ]
  },
  {
   "cell_type": "code",
   "execution_count": 42,
   "id": "35029ce7",
   "metadata": {
    "execution": {
     "iopub.execute_input": "2025-01-30T07:20:00.224913Z",
     "iopub.status.busy": "2025-01-30T07:20:00.224482Z",
     "iopub.status.idle": "2025-01-30T07:20:00.314150Z",
     "shell.execute_reply": "2025-01-30T07:20:00.313013Z"
    },
    "papermill": {
     "duration": 0.110599,
     "end_time": "2025-01-30T07:20:00.316020",
     "exception": false,
     "start_time": "2025-01-30T07:20:00.205421",
     "status": "completed"
    },
    "tags": []
   },
   "outputs": [
    {
     "data": {
      "application/vnd.jupyter.widget-view+json": {
       "model_id": "af97e746b0ac477e90f801302c22d64d",
       "version_major": 2,
       "version_minor": 0
      },
      "text/plain": [
       "  0%|          | 0/271 [00:00<?, ?it/s]"
      ]
     },
     "metadata": {},
     "output_type": "display_data"
    }
   ],
   "source": [
    "res={}\n",
    "for i, row in tqdm(comments.iterrows(), total=len(comments)):\n",
    "    text = row['clean_comment']\n",
    "    myid = row['Id']\n",
    "    res[myid] = sia.polarity_scores(text)"
   ]
  },
  {
   "cell_type": "code",
   "execution_count": 43,
   "id": "795d8cb6",
   "metadata": {
    "execution": {
     "iopub.execute_input": "2025-01-30T07:20:00.353758Z",
     "iopub.status.busy": "2025-01-30T07:20:00.353373Z",
     "iopub.status.idle": "2025-01-30T07:20:00.372452Z",
     "shell.execute_reply": "2025-01-30T07:20:00.371269Z"
    },
    "papermill": {
     "duration": 0.039665,
     "end_time": "2025-01-30T07:20:00.374470",
     "exception": false,
     "start_time": "2025-01-30T07:20:00.334805",
     "status": "completed"
    },
    "tags": []
   },
   "outputs": [],
   "source": [
    "vaders = pd.DataFrame(res).T\n",
    "vaders = vaders.reset_index().rename(columns={'index':'Id'})\n",
    "vaders = vaders.merge(comments, how = 'left')"
   ]
  },
  {
   "cell_type": "code",
   "execution_count": 44,
   "id": "998d1335",
   "metadata": {
    "execution": {
     "iopub.execute_input": "2025-01-30T07:20:00.412109Z",
     "iopub.status.busy": "2025-01-30T07:20:00.411749Z",
     "iopub.status.idle": "2025-01-30T07:20:00.431885Z",
     "shell.execute_reply": "2025-01-30T07:20:00.430673Z"
    },
    "papermill": {
     "duration": 0.041745,
     "end_time": "2025-01-30T07:20:00.434280",
     "exception": false,
     "start_time": "2025-01-30T07:20:00.392535",
     "status": "completed"
    },
    "tags": []
   },
   "outputs": [
    {
     "data": {
      "text/html": [
       "<div>\n",
       "<style scoped>\n",
       "    .dataframe tbody tr th:only-of-type {\n",
       "        vertical-align: middle;\n",
       "    }\n",
       "\n",
       "    .dataframe tbody tr th {\n",
       "        vertical-align: top;\n",
       "    }\n",
       "\n",
       "    .dataframe thead th {\n",
       "        text-align: right;\n",
       "    }\n",
       "</style>\n",
       "<table border=\"1\" class=\"dataframe\">\n",
       "  <thead>\n",
       "    <tr style=\"text-align: right;\">\n",
       "      <th></th>\n",
       "      <th>Id</th>\n",
       "      <th>neg</th>\n",
       "      <th>neu</th>\n",
       "      <th>pos</th>\n",
       "      <th>compound</th>\n",
       "      <th>Video Title</th>\n",
       "      <th>Author</th>\n",
       "      <th>Comment</th>\n",
       "      <th>Published At</th>\n",
       "      <th>Like Count</th>\n",
       "      <th>translated_comment</th>\n",
       "      <th>year</th>\n",
       "      <th>month_name</th>\n",
       "      <th>month</th>\n",
       "      <th>day</th>\n",
       "      <th>day_name</th>\n",
       "      <th>clean_comment</th>\n",
       "    </tr>\n",
       "  </thead>\n",
       "  <tbody>\n",
       "    <tr>\n",
       "      <th>0</th>\n",
       "      <td>1</td>\n",
       "      <td>0.0</td>\n",
       "      <td>0.256</td>\n",
       "      <td>0.744</td>\n",
       "      <td>0.4404</td>\n",
       "      <td>SQL CASE STATEMENT JOIN #mysql #sql</td>\n",
       "      <td>@maheshmenta6078</td>\n",
       "      <td>good explanation</td>\n",
       "      <td>2024-10-07 10:26:49+00:00</td>\n",
       "      <td>0</td>\n",
       "      <td>good explanation</td>\n",
       "      <td>2024</td>\n",
       "      <td>October</td>\n",
       "      <td>10</td>\n",
       "      <td>7</td>\n",
       "      <td>Monday</td>\n",
       "      <td>good explanation</td>\n",
       "    </tr>\n",
       "    <tr>\n",
       "      <th>1</th>\n",
       "      <td>2</td>\n",
       "      <td>0.0</td>\n",
       "      <td>0.393</td>\n",
       "      <td>0.607</td>\n",
       "      <td>0.4754</td>\n",
       "      <td>SQL LEFT JOIN #mysql #sql</td>\n",
       "      <td>@pawanpt2682</td>\n",
       "      <td>Very nice maam</td>\n",
       "      <td>2023-09-10 14:04:01+00:00</td>\n",
       "      <td>0</td>\n",
       "      <td>Very nice ma'am</td>\n",
       "      <td>2023</td>\n",
       "      <td>September</td>\n",
       "      <td>9</td>\n",
       "      <td>10</td>\n",
       "      <td>Sunday</td>\n",
       "      <td>very nice ma'am</td>\n",
       "    </tr>\n",
       "    <tr>\n",
       "      <th>2</th>\n",
       "      <td>3</td>\n",
       "      <td>0.0</td>\n",
       "      <td>0.000</td>\n",
       "      <td>1.000</td>\n",
       "      <td>0.6249</td>\n",
       "      <td>Practical Implementation of enum data type in ...</td>\n",
       "      <td>@mostafaf.t3651</td>\n",
       "      <td>Awesome</td>\n",
       "      <td>2024-01-04 00:46:23+00:00</td>\n",
       "      <td>0</td>\n",
       "      <td>Awesome</td>\n",
       "      <td>2024</td>\n",
       "      <td>January</td>\n",
       "      <td>1</td>\n",
       "      <td>4</td>\n",
       "      <td>Thursday</td>\n",
       "      <td>awesome</td>\n",
       "    </tr>\n",
       "    <tr>\n",
       "      <th>3</th>\n",
       "      <td>4</td>\n",
       "      <td>0.0</td>\n",
       "      <td>0.777</td>\n",
       "      <td>0.223</td>\n",
       "      <td>0.9011</td>\n",
       "      <td>Unique Key and its Practical Implementation in...</td>\n",
       "      <td>@Arhankhan0786k</td>\n",
       "      <td>Next week is my semester exam and i don&amp;#39;t ...</td>\n",
       "      <td>2023-02-05 17:15:52+00:00</td>\n",
       "      <td>0</td>\n",
       "      <td>Next week is my semester exam and i don&amp;#39;t ...</td>\n",
       "      <td>2023</td>\n",
       "      <td>February</td>\n",
       "      <td>2</td>\n",
       "      <td>5</td>\n",
       "      <td>Sunday</td>\n",
       "      <td>next week is my semester exam and i don't know...</td>\n",
       "    </tr>\n",
       "    <tr>\n",
       "      <th>4</th>\n",
       "      <td>5</td>\n",
       "      <td>0.0</td>\n",
       "      <td>1.000</td>\n",
       "      <td>0.000</td>\n",
       "      <td>0.0000</td>\n",
       "      <td>Primary Key in SQL #mysql #sql #primarykey</td>\n",
       "      <td>@faunseveryn3311</td>\n",
       "      <td>✨ &amp;#39;PromoSM&amp;#39;</td>\n",
       "      <td>2023-04-07 17:27:07+00:00</td>\n",
       "      <td>0</td>\n",
       "      <td>✨ &amp;#39;PromoSM&amp;#39;</td>\n",
       "      <td>2023</td>\n",
       "      <td>April</td>\n",
       "      <td>4</td>\n",
       "      <td>7</td>\n",
       "      <td>Friday</td>\n",
       "      <td>'promosm'</td>\n",
       "    </tr>\n",
       "  </tbody>\n",
       "</table>\n",
       "</div>"
      ],
      "text/plain": [
       "   Id  neg    neu    pos  compound  \\\n",
       "0   1  0.0  0.256  0.744    0.4404   \n",
       "1   2  0.0  0.393  0.607    0.4754   \n",
       "2   3  0.0  0.000  1.000    0.6249   \n",
       "3   4  0.0  0.777  0.223    0.9011   \n",
       "4   5  0.0  1.000  0.000    0.0000   \n",
       "\n",
       "                                         Video Title            Author  \\\n",
       "0                SQL CASE STATEMENT JOIN #mysql #sql  @maheshmenta6078   \n",
       "1                          SQL LEFT JOIN #mysql #sql      @pawanpt2682   \n",
       "2  Practical Implementation of enum data type in ...   @mostafaf.t3651   \n",
       "3  Unique Key and its Practical Implementation in...   @Arhankhan0786k   \n",
       "4         Primary Key in SQL #mysql #sql #primarykey  @faunseveryn3311   \n",
       "\n",
       "                                             Comment  \\\n",
       "0                                   good explanation   \n",
       "1                                     Very nice maam   \n",
       "2                                            Awesome   \n",
       "3  Next week is my semester exam and i don&#39;t ...   \n",
       "4                                ✨ &#39;PromoSM&#39;   \n",
       "\n",
       "               Published At  Like Count  \\\n",
       "0 2024-10-07 10:26:49+00:00           0   \n",
       "1 2023-09-10 14:04:01+00:00           0   \n",
       "2 2024-01-04 00:46:23+00:00           0   \n",
       "3 2023-02-05 17:15:52+00:00           0   \n",
       "4 2023-04-07 17:27:07+00:00           0   \n",
       "\n",
       "                                  translated_comment  year month_name  month  \\\n",
       "0                                   good explanation  2024    October     10   \n",
       "1                                    Very nice ma'am  2023  September      9   \n",
       "2                                            Awesome  2024    January      1   \n",
       "3  Next week is my semester exam and i don&#39;t ...  2023   February      2   \n",
       "4                                ✨ &#39;PromoSM&#39;  2023      April      4   \n",
       "\n",
       "   day  day_name                                      clean_comment  \n",
       "0    7    Monday                                   good explanation  \n",
       "1   10    Sunday                                    very nice ma'am  \n",
       "2    4  Thursday                                            awesome  \n",
       "3    5    Sunday  next week is my semester exam and i don't know...  \n",
       "4    7    Friday                                          'promosm'  "
      ]
     },
     "execution_count": 44,
     "metadata": {},
     "output_type": "execute_result"
    }
   ],
   "source": [
    "# sentiment scores with the metadata\n",
    "vaders.head()"
   ]
  },
  {
   "cell_type": "code",
   "execution_count": 45,
   "id": "b9ddf83b",
   "metadata": {
    "execution": {
     "iopub.execute_input": "2025-01-30T07:20:00.472034Z",
     "iopub.status.busy": "2025-01-30T07:20:00.471651Z",
     "iopub.status.idle": "2025-01-30T07:20:03.232429Z",
     "shell.execute_reply": "2025-01-30T07:20:03.231244Z"
    },
    "papermill": {
     "duration": 2.781725,
     "end_time": "2025-01-30T07:20:03.234558",
     "exception": false,
     "start_time": "2025-01-30T07:20:00.452833",
     "status": "completed"
    },
    "tags": []
   },
   "outputs": [
    {
     "data": {
      "image/png": "[encoded data removed]",
      "text/plain": [
       "<Figure size 1200x600 with 1 Axes>"
      ]
     },
     "metadata": {},
     "output_type": "display_data"
    }
   ],
   "source": [
    "# Plot stacked bar chart\n",
    "vaders[['neg', 'neu', 'pos']].plot(kind='bar', stacked=True, colormap='coolwarm', figsize=(12,6))\n",
    "\n",
    "plt.title(\"Sentiment Distribution Per Category\", fontsize=14)\n",
    "plt.xlabel(\"Categories\", fontsize=12)\n",
    "plt.ylabel(\"Sentiment Score\", fontsize=12)\n",
    "plt.legend([\"Negative\", \"Neutral\", \"Positive\"], loc=\"upper right\")\n",
    "plt.grid(axis='y', linestyle='--', alpha=0.7)\n",
    "plt.show()"
   ]
  },
  {
   "cell_type": "code",
   "execution_count": 46,
   "id": "7f05b95f",
   "metadata": {
    "execution": {
     "iopub.execute_input": "2025-01-30T07:20:03.275297Z",
     "iopub.status.busy": "2025-01-30T07:20:03.274931Z",
     "iopub.status.idle": "2025-01-30T07:20:03.396102Z",
     "shell.execute_reply": "2025-01-30T07:20:03.395009Z"
    },
    "papermill": {
     "duration": 0.143262,
     "end_time": "2025-01-30T07:20:03.397970",
     "exception": false,
     "start_time": "2025-01-30T07:20:03.254708",
     "status": "completed"
    },
    "tags": []
   },
   "outputs": [
    {
     "data": {
      "image/png": "[encoded data removed]",
      "text/plain": [
       "<Figure size 640x480 with 1 Axes>"
      ]
     },
     "metadata": {},
     "output_type": "display_data"
    }
   ],
   "source": [
    "vaders[['neg', 'neu', 'pos']].mean().plot(kind='pie', autopct='%1.1f%%', colors=['red', 'gray', 'green'], startangle=140, wedgeprops={'edgecolor': 'black'})\n",
    "\n",
    "plt.title(\"Overall Sentiment Distribution\")\n",
    "plt.ylabel(\"\")  # Hide y-axis label\n",
    "plt.show()"
   ]
  },
  {
   "cell_type": "code",
   "execution_count": 47,
   "id": "5ec0c396",
   "metadata": {
    "execution": {
     "iopub.execute_input": "2025-01-30T07:20:03.440740Z",
     "iopub.status.busy": "2025-01-30T07:20:03.440387Z",
     "iopub.status.idle": "2025-01-30T07:20:03.633734Z",
     "shell.execute_reply": "2025-01-30T07:20:03.632834Z"
    },
    "papermill": {
     "duration": 0.217092,
     "end_time": "2025-01-30T07:20:03.635510",
     "exception": false,
     "start_time": "2025-01-30T07:20:03.418418",
     "status": "completed"
    },
    "tags": []
   },
   "outputs": [
    {
     "data": {
      "image/png": "[encoded data removed]",
      "text/plain": [
       "<Figure size 800x600 with 1 Axes>"
      ]
     },
     "metadata": {},
     "output_type": "display_data"
    }
   ],
   "source": [
    "plt.figure(figsize=(8,6))\n",
    "sns.boxenplot(data=vaders[['neg', 'neu', 'pos']], palette=\"coolwarm\")\n",
    "plt.title(\"Sentiment Score Spread\", fontsize=14)\n",
    "plt.xlabel(\"Sentiment Type\", fontsize=12)\n",
    "plt.ylabel(\"Score\", fontsize=12)\n",
    "plt.show()"
   ]
  },
  {
   "cell_type": "code",
   "execution_count": 48,
   "id": "0547bb9d",
   "metadata": {
    "execution": {
     "iopub.execute_input": "2025-01-30T07:20:03.680787Z",
     "iopub.status.busy": "2025-01-30T07:20:03.680426Z",
     "iopub.status.idle": "2025-01-30T07:20:15.110146Z",
     "shell.execute_reply": "2025-01-30T07:20:15.108650Z"
    },
    "papermill": {
     "duration": 11.45469,
     "end_time": "2025-01-30T07:20:15.112288",
     "exception": false,
     "start_time": "2025-01-30T07:20:03.657598",
     "status": "completed"
    },
    "tags": []
   },
   "outputs": [],
   "source": [
    "## Roberta pretrained model (twitter sentiment)\n",
    "from transformers import AutoTokenizer\n",
    "from transformers import AutoModelForSequenceClassification\n",
    "from scipy.special import softmax\n",
    "import requests"
   ]
  },
  {
   "cell_type": "code",
   "execution_count": 49,
   "id": "4080c1dc",
   "metadata": {
    "execution": {
     "iopub.execute_input": "2025-01-30T07:20:15.160776Z",
     "iopub.status.busy": "2025-01-30T07:20:15.160040Z",
     "iopub.status.idle": "2025-01-30T07:20:40.740953Z",
     "shell.execute_reply": "2025-01-30T07:20:40.738712Z"
    },
    "papermill": {
     "duration": 25.6079,
     "end_time": "2025-01-30T07:20:40.743481",
     "exception": false,
     "start_time": "2025-01-30T07:20:15.135581",
     "status": "completed"
    },
    "tags": []
   },
   "outputs": [
    {
     "data": {
      "application/vnd.jupyter.widget-view+json": {
       "model_id": "a457079215194cd6a3398324e305fd76",
       "version_major": 2,
       "version_minor": 0
      },
      "text/plain": [
       "config.json:   0%|          | 0.00/747 [00:00<?, ?B/s]"
      ]
     },
     "metadata": {},
     "output_type": "display_data"
    },
    {
     "data": {
      "application/vnd.jupyter.widget-view+json": {
       "model_id": "f5ceffc73cbc4a7baa25aa6a603aa1ff",
       "version_major": 2,
       "version_minor": 0
      },
      "text/plain": [
       "vocab.json:   0%|          | 0.00/899k [00:00<?, ?B/s]"
      ]
     },
     "metadata": {},
     "output_type": "display_data"
    },
    {
     "data": {
      "application/vnd.jupyter.widget-view+json": {
       "model_id": "e602f8ecca38493b86e318432d5b3225",
       "version_major": 2,
       "version_minor": 0
      },
      "text/plain": [
       "merges.txt:   0%|          | 0.00/456k [00:00<?, ?B/s]"
      ]
     },
     "metadata": {},
     "output_type": "display_data"
    },
    {
     "data": {
      "application/vnd.jupyter.widget-view+json": {
       "model_id": "1ebe455ebb234df7947c6e731300bc84",
       "version_major": 2,
       "version_minor": 0
      },
      "text/plain": [
       "special_tokens_map.json:   0%|          | 0.00/150 [00:00<?, ?B/s]"
      ]
     },
     "metadata": {},
     "output_type": "display_data"
    },
    {
     "data": {
      "application/vnd.jupyter.widget-view+json": {
       "model_id": "2d10e4437c084a8bb3c522bd5c7c1dff",
       "version_major": 2,
       "version_minor": 0
      },
      "text/plain": [
       "pytorch_model.bin:   0%|          | 0.00/499M [00:00<?, ?B/s]"
      ]
     },
     "metadata": {},
     "output_type": "display_data"
    }
   ],
   "source": [
    "MODEL = f\"cardiffnlp/twitter-roberta-base-sentiment\"\n",
    "tokenizer = AutoTokenizer.from_pretrained(MODEL)\n",
    "model = AutoModelForSequenceClassification.from_pretrained(MODEL)"
   ]
  },
  {
   "cell_type": "code",
   "execution_count": 50,
   "id": "525b145c",
   "metadata": {
    "execution": {
     "iopub.execute_input": "2025-01-30T07:20:40.793009Z",
     "iopub.status.busy": "2025-01-30T07:20:40.790753Z",
     "iopub.status.idle": "2025-01-30T07:20:40.800718Z",
     "shell.execute_reply": "2025-01-30T07:20:40.799627Z"
    },
    "papermill": {
     "duration": 0.036317,
     "end_time": "2025-01-30T07:20:40.802691",
     "exception": false,
     "start_time": "2025-01-30T07:20:40.766374",
     "status": "completed"
    },
    "tags": []
   },
   "outputs": [
    {
     "data": {
      "text/plain": [
       "\"roses are red violets are blue there will always be an indian who would've love to help you\""
      ]
     },
     "execution_count": 50,
     "metadata": {},
     "output_type": "execute_result"
    }
   ],
   "source": [
    "example"
   ]
  },
  {
   "cell_type": "code",
   "execution_count": 51,
   "id": "2cf39ce0",
   "metadata": {
    "execution": {
     "iopub.execute_input": "2025-01-30T07:20:40.849509Z",
     "iopub.status.busy": "2025-01-30T07:20:40.849096Z",
     "iopub.status.idle": "2025-01-30T07:20:40.855800Z",
     "shell.execute_reply": "2025-01-30T07:20:40.854874Z"
    },
    "papermill": {
     "duration": 0.03168,
     "end_time": "2025-01-30T07:20:40.857425",
     "exception": false,
     "start_time": "2025-01-30T07:20:40.825745",
     "status": "completed"
    },
    "tags": []
   },
   "outputs": [
    {
     "data": {
      "text/plain": [
       "{'neg': 0.0, 'neu': 0.699, 'pos': 0.301, 'compound': 0.7845}"
      ]
     },
     "execution_count": 51,
     "metadata": {},
     "output_type": "execute_result"
    }
   ],
   "source": [
    "sia.polarity_scores(example)"
   ]
  },
  {
   "cell_type": "code",
   "execution_count": 52,
   "id": "626c350d",
   "metadata": {
    "execution": {
     "iopub.execute_input": "2025-01-30T07:20:40.904560Z",
     "iopub.status.busy": "2025-01-30T07:20:40.904171Z",
     "iopub.status.idle": "2025-01-30T07:20:41.161477Z",
     "shell.execute_reply": "2025-01-30T07:20:41.160313Z"
    },
    "papermill": {
     "duration": 0.283235,
     "end_time": "2025-01-30T07:20:41.163400",
     "exception": false,
     "start_time": "2025-01-30T07:20:40.880165",
     "status": "completed"
    },
    "tags": []
   },
   "outputs": [
    {
     "data": {
      "text/plain": [
       "{'roberta_neg': 0.0033383372,\n",
       " 'roberta_neu': 0.08075349,\n",
       " 'roberta_pos': 0.91590816}"
      ]
     },
     "execution_count": 52,
     "metadata": {},
     "output_type": "execute_result"
    }
   ],
   "source": [
    "# Run for Roberta Model\n",
    "encoded_text = tokenizer(example, return_tensors='pt')\n",
    "output = model(**encoded_text)\n",
    "scores = output[0][0].detach().numpy()\n",
    "scores = softmax(scores)\n",
    "scores_dict = {\n",
    "    'roberta_neg': scores[0],\n",
    "    'roberta_neu': scores[1],\n",
    "    'roberta_pos': scores[2]\n",
    "}\n",
    "scores_dict"
   ]
  },
  {
   "cell_type": "code",
   "execution_count": 53,
   "id": "df8d511c",
   "metadata": {
    "execution": {
     "iopub.execute_input": "2025-01-30T07:20:41.210827Z",
     "iopub.status.busy": "2025-01-30T07:20:41.210403Z",
     "iopub.status.idle": "2025-01-30T07:20:41.215851Z",
     "shell.execute_reply": "2025-01-30T07:20:41.214698Z"
    },
    "papermill": {
     "duration": 0.030962,
     "end_time": "2025-01-30T07:20:41.217493",
     "exception": false,
     "start_time": "2025-01-30T07:20:41.186531",
     "status": "completed"
    },
    "tags": []
   },
   "outputs": [],
   "source": [
    "def polarity_scores_roberta(example):\n",
    "    encoded_text = tokenizer(example, return_tensors='pt')\n",
    "    output = model(**encoded_text)\n",
    "    scores = output[0][0].detach().numpy()\n",
    "    scores = softmax(scores)\n",
    "    scores_dict = {\n",
    "        'roberta_neg': scores[0],\n",
    "        'roberta_neu': scores[1],\n",
    "        'roberta_pos': scores[2]\n",
    "    }\n",
    "    return scores_dict"
   ]
  },
  {
   "cell_type": "code",
   "execution_count": 54,
   "id": "70abc1a7",
   "metadata": {
    "execution": {
     "iopub.execute_input": "2025-01-30T07:20:41.265957Z",
     "iopub.status.busy": "2025-01-30T07:20:41.265544Z",
     "iopub.status.idle": "2025-01-30T07:20:58.287975Z",
     "shell.execute_reply": "2025-01-30T07:20:58.286893Z"
    },
    "papermill": {
     "duration": 17.048093,
     "end_time": "2025-01-30T07:20:58.289744",
     "exception": false,
     "start_time": "2025-01-30T07:20:41.241651",
     "status": "completed"
    },
    "tags": []
   },
   "outputs": [
    {
     "data": {
      "application/vnd.jupyter.widget-view+json": {
       "model_id": "da114ce1bcd74393a8640ace87cdab20",
       "version_major": 2,
       "version_minor": 0
      },
      "text/plain": [
       "  0%|          | 0/271 [00:00<?, ?it/s]"
      ]
     },
     "metadata": {},
     "output_type": "display_data"
    }
   ],
   "source": [
    "res={}\n",
    "for i, row in tqdm(comments.iterrows(), total=len(comments)):\n",
    "    try:\n",
    "        text = row['clean_comment']\n",
    "        myid = row['Id']\n",
    "        vader_result = sia.polarity_scores(text)\n",
    "        vader_result_rename={}\n",
    "        for key, value in vader_result.items():\n",
    "            vader_result_rename[f'vader_{key}']=value\n",
    "        roberta_result = polarity_scores_roberta(text)\n",
    "        both = {**vader_result_rename, **roberta_result}\n",
    "        res[myid] = both\n",
    "    except RuntimeError:\n",
    "        print(f'broke for id: {myid}')"
   ]
  },
  {
   "cell_type": "code",
   "execution_count": 55,
   "id": "bb27aec8",
   "metadata": {
    "execution": {
     "iopub.execute_input": "2025-01-30T07:20:58.342601Z",
     "iopub.status.busy": "2025-01-30T07:20:58.342169Z",
     "iopub.status.idle": "2025-01-30T07:20:58.348091Z",
     "shell.execute_reply": "2025-01-30T07:20:58.347190Z"
    },
    "papermill": {
     "duration": 0.034121,
     "end_time": "2025-01-30T07:20:58.349773",
     "exception": false,
     "start_time": "2025-01-30T07:20:58.315652",
     "status": "completed"
    },
    "tags": []
   },
   "outputs": [
    {
     "data": {
      "text/plain": [
       "{'vader_neg': 0.0,\n",
       " 'vader_neu': 0.244,\n",
       " 'vader_pos': 0.756,\n",
       " 'vader_compound': 0.4754,\n",
       " 'roberta_neg': 0.0066650845,\n",
       " 'roberta_neu': 0.046571787,\n",
       " 'roberta_pos': 0.9467631}"
      ]
     },
     "execution_count": 55,
     "metadata": {},
     "output_type": "execute_result"
    }
   ],
   "source": [
    "both"
   ]
  },
  {
   "cell_type": "code",
   "execution_count": 56,
   "id": "fc88dd72",
   "metadata": {
    "execution": {
     "iopub.execute_input": "2025-01-30T07:20:58.396741Z",
     "iopub.status.busy": "2025-01-30T07:20:58.396323Z",
     "iopub.status.idle": "2025-01-30T07:20:58.414638Z",
     "shell.execute_reply": "2025-01-30T07:20:58.413690Z"
    },
    "papermill": {
     "duration": 0.044209,
     "end_time": "2025-01-30T07:20:58.416858",
     "exception": false,
     "start_time": "2025-01-30T07:20:58.372649",
     "status": "completed"
    },
    "tags": []
   },
   "outputs": [],
   "source": [
    "results_df = pd.DataFrame(res).T\n",
    "results_df = results_df.reset_index().rename(columns={'index':'Id'})\n",
    "results_df = results_df.merge(comments, how = 'left')"
   ]
  },
  {
   "cell_type": "code",
   "execution_count": 57,
   "id": "14f0fcb3",
   "metadata": {
    "execution": {
     "iopub.execute_input": "2025-01-30T07:20:58.465412Z",
     "iopub.status.busy": "2025-01-30T07:20:58.465006Z",
     "iopub.status.idle": "2025-01-30T07:20:58.583934Z",
     "shell.execute_reply": "2025-01-30T07:20:58.582556Z"
    },
    "papermill": {
     "duration": 0.145564,
     "end_time": "2025-01-30T07:20:58.585717",
     "exception": false,
     "start_time": "2025-01-30T07:20:58.440153",
     "status": "completed"
    },
    "tags": []
   },
   "outputs": [
    {
     "data": {
      "image/png": "[encoded data removed]",
      "text/plain": [
       "<Figure size 640x480 with 1 Axes>"
      ]
     },
     "metadata": {},
     "output_type": "display_data"
    }
   ],
   "source": [
    "results_df[['roberta_neg', 'roberta_neu', 'roberta_pos']].mean().plot(kind='pie', autopct='%1.1f%%', colors=['red', 'gray', 'green'], startangle=140, wedgeprops={'edgecolor': 'black'})\n",
    "\n",
    "plt.title(\"Overall Sentiment Distribution\")\n",
    "plt.ylabel(\"\")  # Hide y-axis label\n",
    "plt.show()"
   ]
  },
  {
   "cell_type": "code",
   "execution_count": 58,
   "id": "a31061fe",
   "metadata": {
    "execution": {
     "iopub.execute_input": "2025-01-30T07:20:58.635071Z",
     "iopub.status.busy": "2025-01-30T07:20:58.634723Z",
     "iopub.status.idle": "2025-01-30T07:20:58.640981Z",
     "shell.execute_reply": "2025-01-30T07:20:58.639848Z"
    },
    "papermill": {
     "duration": 0.032876,
     "end_time": "2025-01-30T07:20:58.642836",
     "exception": false,
     "start_time": "2025-01-30T07:20:58.609960",
     "status": "completed"
    },
    "tags": []
   },
   "outputs": [
    {
     "data": {
      "text/plain": [
       "Index(['Id', 'vader_neg', 'vader_neu', 'vader_pos', 'vader_compound',\n",
       "       'roberta_neg', 'roberta_neu', 'roberta_pos', 'Video Title', 'Author',\n",
       "       'Comment', 'Published At', 'Like Count', 'translated_comment', 'year',\n",
       "       'month_name', 'month', 'day', 'day_name', 'clean_comment'],\n",
       "      dtype='object')"
      ]
     },
     "execution_count": 58,
     "metadata": {},
     "output_type": "execute_result"
    }
   ],
   "source": [
    "results_df.columns"
   ]
  },
  {
   "cell_type": "code",
   "execution_count": 59,
   "id": "e36eeb28",
   "metadata": {
    "execution": {
     "iopub.execute_input": "2025-01-30T07:20:58.693149Z",
     "iopub.status.busy": "2025-01-30T07:20:58.692772Z",
     "iopub.status.idle": "2025-01-30T07:21:08.461356Z",
     "shell.execute_reply": "2025-01-30T07:21:08.460052Z"
    },
    "papermill": {
     "duration": 9.800801,
     "end_time": "2025-01-30T07:21:08.467733",
     "exception": false,
     "start_time": "2025-01-30T07:20:58.666932",
     "status": "completed"
    },
    "tags": []
   },
   "outputs": [
    {
     "data": {
      "image/png": "[encoded data removed]",
      "text/plain": [
       "<Figure size 1500x1500 with 42 Axes>"
      ]
     },
     "metadata": {},
     "output_type": "display_data"
    }
   ],
   "source": [
    "sns.pairplot(data = results_df, vars=['vader_neg', 'vader_neu', 'vader_pos',\n",
    "       'roberta_neg', 'roberta_neu', 'roberta_pos'], palette='tab10')\n",
    "plt.show()"
   ]
  },
  {
   "cell_type": "code",
   "execution_count": 60,
   "id": "f27ab0e8",
   "metadata": {
    "execution": {
     "iopub.execute_input": "2025-01-30T07:21:08.536626Z",
     "iopub.status.busy": "2025-01-30T07:21:08.536115Z",
     "iopub.status.idle": "2025-01-30T07:21:15.208265Z",
     "shell.execute_reply": "2025-01-30T07:21:15.207191Z"
    },
    "papermill": {
     "duration": 6.708519,
     "end_time": "2025-01-30T07:21:15.210011",
     "exception": false,
     "start_time": "2025-01-30T07:21:08.501492",
     "status": "completed"
    },
    "tags": []
   },
   "outputs": [
    {
     "name": "stderr",
     "output_type": "stream",
     "text": [
      "No model was supplied, defaulted to distilbert/distilbert-base-uncased-finetuned-sst-2-english and revision 714eb0f (https://huggingface.co/distilbert/distilbert-base-uncased-finetuned-sst-2-english).\n",
      "Using a pipeline without specifying a model name and revision in production is not recommended.\n"
     ]
    },
    {
     "data": {
      "application/vnd.jupyter.widget-view+json": {
       "model_id": "1d50d32b75d34ad8b9b08f6dbd0cde64",
       "version_major": 2,
       "version_minor": 0
      },
      "text/plain": [
       "config.json:   0%|          | 0.00/629 [00:00<?, ?B/s]"
      ]
     },
     "metadata": {},
     "output_type": "display_data"
    },
    {
     "data": {
      "application/vnd.jupyter.widget-view+json": {
       "model_id": "ff308f4feb004e41bef45c719eb08ab9",
       "version_major": 2,
       "version_minor": 0
      },
      "text/plain": [
       "model.safetensors:   0%|          | 0.00/268M [00:00<?, ?B/s]"
      ]
     },
     "metadata": {},
     "output_type": "display_data"
    },
    {
     "data": {
      "application/vnd.jupyter.widget-view+json": {
       "model_id": "1cd3483fb0dc4cd5b400b27f3897c984",
       "version_major": 2,
       "version_minor": 0
      },
      "text/plain": [
       "tokenizer_config.json:   0%|          | 0.00/48.0 [00:00<?, ?B/s]"
      ]
     },
     "metadata": {},
     "output_type": "display_data"
    },
    {
     "data": {
      "application/vnd.jupyter.widget-view+json": {
       "model_id": "fd1403d62e5746b4a1a539e02e29d592",
       "version_major": 2,
       "version_minor": 0
      },
      "text/plain": [
       "vocab.txt:   0%|          | 0.00/232k [00:00<?, ?B/s]"
      ]
     },
     "metadata": {},
     "output_type": "display_data"
    },
    {
     "name": "stderr",
     "output_type": "stream",
     "text": [
      "Device set to use cpu\n"
     ]
    }
   ],
   "source": [
    "## transformer pipeline\n",
    "from transformers import pipeline\n",
    "sent_pipeline = pipeline('sentiment-analysis')"
   ]
  },
  {
   "cell_type": "code",
   "execution_count": 61,
   "id": "cf395ef3",
   "metadata": {
    "execution": {
     "iopub.execute_input": "2025-01-30T07:21:15.277952Z",
     "iopub.status.busy": "2025-01-30T07:21:15.277596Z",
     "iopub.status.idle": "2025-01-30T07:21:15.319719Z",
     "shell.execute_reply": "2025-01-30T07:21:15.318595Z"
    },
    "papermill": {
     "duration": 0.078472,
     "end_time": "2025-01-30T07:21:15.321548",
     "exception": false,
     "start_time": "2025-01-30T07:21:15.243076",
     "status": "completed"
    },
    "tags": []
   },
   "outputs": [
    {
     "data": {
      "text/plain": [
       "'POSITIVE'"
      ]
     },
     "execution_count": 61,
     "metadata": {},
     "output_type": "execute_result"
    }
   ],
   "source": [
    "sent_pipeline('I am happy!')[0]['label']"
   ]
  },
  {
   "cell_type": "code",
   "execution_count": 62,
   "id": "bab5ba2c",
   "metadata": {
    "execution": {
     "iopub.execute_input": "2025-01-30T07:21:15.388223Z",
     "iopub.status.busy": "2025-01-30T07:21:15.387878Z",
     "iopub.status.idle": "2025-01-30T07:21:23.518672Z",
     "shell.execute_reply": "2025-01-30T07:21:23.517714Z"
    },
    "papermill": {
     "duration": 8.16618,
     "end_time": "2025-01-30T07:21:23.520609",
     "exception": false,
     "start_time": "2025-01-30T07:21:15.354429",
     "status": "completed"
    },
    "tags": []
   },
   "outputs": [],
   "source": [
    "comments['sent_pipeline_op'] = comments['clean_comment'].apply(sent_pipeline).str[0].str['label']"
   ]
  },
  {
   "cell_type": "code",
   "execution_count": 63,
   "id": "e1648fdc",
   "metadata": {
    "execution": {
     "iopub.execute_input": "2025-01-30T07:21:23.586528Z",
     "iopub.status.busy": "2025-01-30T07:21:23.586145Z",
     "iopub.status.idle": "2025-01-30T07:21:23.601911Z",
     "shell.execute_reply": "2025-01-30T07:21:23.600897Z"
    },
    "papermill": {
     "duration": 0.050342,
     "end_time": "2025-01-30T07:21:23.603411",
     "exception": false,
     "start_time": "2025-01-30T07:21:23.553069",
     "status": "completed"
    },
    "tags": []
   },
   "outputs": [
    {
     "data": {
      "text/html": [
       "<div>\n",
       "<style scoped>\n",
       "    .dataframe tbody tr th:only-of-type {\n",
       "        vertical-align: middle;\n",
       "    }\n",
       "\n",
       "    .dataframe tbody tr th {\n",
       "        vertical-align: top;\n",
       "    }\n",
       "\n",
       "    .dataframe thead th {\n",
       "        text-align: right;\n",
       "    }\n",
       "</style>\n",
       "<table border=\"1\" class=\"dataframe\">\n",
       "  <thead>\n",
       "    <tr style=\"text-align: right;\">\n",
       "      <th></th>\n",
       "      <th>Video Title</th>\n",
       "      <th>Author</th>\n",
       "      <th>Comment</th>\n",
       "      <th>Published At</th>\n",
       "      <th>Like Count</th>\n",
       "      <th>translated_comment</th>\n",
       "      <th>year</th>\n",
       "      <th>month_name</th>\n",
       "      <th>month</th>\n",
       "      <th>day</th>\n",
       "      <th>day_name</th>\n",
       "      <th>clean_comment</th>\n",
       "      <th>Id</th>\n",
       "      <th>sent_pipeline_op</th>\n",
       "    </tr>\n",
       "  </thead>\n",
       "  <tbody>\n",
       "    <tr>\n",
       "      <th>0</th>\n",
       "      <td>SQL CASE STATEMENT JOIN #mysql #sql</td>\n",
       "      <td>@maheshmenta6078</td>\n",
       "      <td>good explanation</td>\n",
       "      <td>2024-10-07 10:26:49+00:00</td>\n",
       "      <td>0</td>\n",
       "      <td>good explanation</td>\n",
       "      <td>2024</td>\n",
       "      <td>October</td>\n",
       "      <td>10</td>\n",
       "      <td>7</td>\n",
       "      <td>Monday</td>\n",
       "      <td>good explanation</td>\n",
       "      <td>1</td>\n",
       "      <td>POSITIVE</td>\n",
       "    </tr>\n",
       "    <tr>\n",
       "      <th>1</th>\n",
       "      <td>SQL LEFT JOIN #mysql #sql</td>\n",
       "      <td>@pawanpt2682</td>\n",
       "      <td>Very nice maam</td>\n",
       "      <td>2023-09-10 14:04:01+00:00</td>\n",
       "      <td>0</td>\n",
       "      <td>Very nice ma'am</td>\n",
       "      <td>2023</td>\n",
       "      <td>September</td>\n",
       "      <td>9</td>\n",
       "      <td>10</td>\n",
       "      <td>Sunday</td>\n",
       "      <td>very nice ma'am</td>\n",
       "      <td>2</td>\n",
       "      <td>POSITIVE</td>\n",
       "    </tr>\n",
       "    <tr>\n",
       "      <th>2</th>\n",
       "      <td>Practical Implementation of enum data type in ...</td>\n",
       "      <td>@mostafaf.t3651</td>\n",
       "      <td>Awesome</td>\n",
       "      <td>2024-01-04 00:46:23+00:00</td>\n",
       "      <td>0</td>\n",
       "      <td>Awesome</td>\n",
       "      <td>2024</td>\n",
       "      <td>January</td>\n",
       "      <td>1</td>\n",
       "      <td>4</td>\n",
       "      <td>Thursday</td>\n",
       "      <td>awesome</td>\n",
       "      <td>3</td>\n",
       "      <td>POSITIVE</td>\n",
       "    </tr>\n",
       "    <tr>\n",
       "      <th>3</th>\n",
       "      <td>Unique Key and its Practical Implementation in...</td>\n",
       "      <td>@Arhankhan0786k</td>\n",
       "      <td>Next week is my semester exam and i don&amp;#39;t ...</td>\n",
       "      <td>2023-02-05 17:15:52+00:00</td>\n",
       "      <td>0</td>\n",
       "      <td>Next week is my semester exam and i don&amp;#39;t ...</td>\n",
       "      <td>2023</td>\n",
       "      <td>February</td>\n",
       "      <td>2</td>\n",
       "      <td>5</td>\n",
       "      <td>Sunday</td>\n",
       "      <td>next week is my semester exam and i don't know...</td>\n",
       "      <td>4</td>\n",
       "      <td>POSITIVE</td>\n",
       "    </tr>\n",
       "    <tr>\n",
       "      <th>4</th>\n",
       "      <td>Primary Key in SQL #mysql #sql #primarykey</td>\n",
       "      <td>@faunseveryn3311</td>\n",
       "      <td>✨ &amp;#39;PromoSM&amp;#39;</td>\n",
       "      <td>2023-04-07 17:27:07+00:00</td>\n",
       "      <td>0</td>\n",
       "      <td>✨ &amp;#39;PromoSM&amp;#39;</td>\n",
       "      <td>2023</td>\n",
       "      <td>April</td>\n",
       "      <td>4</td>\n",
       "      <td>7</td>\n",
       "      <td>Friday</td>\n",
       "      <td>'promosm'</td>\n",
       "      <td>5</td>\n",
       "      <td>NEGATIVE</td>\n",
       "    </tr>\n",
       "  </tbody>\n",
       "</table>\n",
       "</div>"
      ],
      "text/plain": [
       "                                         Video Title            Author  \\\n",
       "0                SQL CASE STATEMENT JOIN #mysql #sql  @maheshmenta6078   \n",
       "1                          SQL LEFT JOIN #mysql #sql      @pawanpt2682   \n",
       "2  Practical Implementation of enum data type in ...   @mostafaf.t3651   \n",
       "3  Unique Key and its Practical Implementation in...   @Arhankhan0786k   \n",
       "4         Primary Key in SQL #mysql #sql #primarykey  @faunseveryn3311   \n",
       "\n",
       "                                             Comment  \\\n",
       "0                                   good explanation   \n",
       "1                                     Very nice maam   \n",
       "2                                            Awesome   \n",
       "3  Next week is my semester exam and i don&#39;t ...   \n",
       "4                                ✨ &#39;PromoSM&#39;   \n",
       "\n",
       "               Published At  Like Count  \\\n",
       "0 2024-10-07 10:26:49+00:00           0   \n",
       "1 2023-09-10 14:04:01+00:00           0   \n",
       "2 2024-01-04 00:46:23+00:00           0   \n",
       "3 2023-02-05 17:15:52+00:00           0   \n",
       "4 2023-04-07 17:27:07+00:00           0   \n",
       "\n",
       "                                  translated_comment  year month_name  month  \\\n",
       "0                                   good explanation  2024    October     10   \n",
       "1                                    Very nice ma'am  2023  September      9   \n",
       "2                                            Awesome  2024    January      1   \n",
       "3  Next week is my semester exam and i don&#39;t ...  2023   February      2   \n",
       "4                                ✨ &#39;PromoSM&#39;  2023      April      4   \n",
       "\n",
       "   day  day_name                                      clean_comment  Id  \\\n",
       "0    7    Monday                                   good explanation   1   \n",
       "1   10    Sunday                                    very nice ma'am   2   \n",
       "2    4  Thursday                                            awesome   3   \n",
       "3    5    Sunday  next week is my semester exam and i don't know...   4   \n",
       "4    7    Friday                                          'promosm'   5   \n",
       "\n",
       "  sent_pipeline_op  \n",
       "0         POSITIVE  \n",
       "1         POSITIVE  \n",
       "2         POSITIVE  \n",
       "3         POSITIVE  \n",
       "4         NEGATIVE  "
      ]
     },
     "execution_count": 63,
     "metadata": {},
     "output_type": "execute_result"
    }
   ],
   "source": [
    "comments.head()"
   ]
  },
  {
   "cell_type": "code",
   "execution_count": 64,
   "id": "0acc49b6",
   "metadata": {
    "execution": {
     "iopub.execute_input": "2025-01-30T07:21:23.670676Z",
     "iopub.status.busy": "2025-01-30T07:21:23.670296Z",
     "iopub.status.idle": "2025-01-30T07:21:23.677131Z",
     "shell.execute_reply": "2025-01-30T07:21:23.676211Z"
    },
    "papermill": {
     "duration": 0.042228,
     "end_time": "2025-01-30T07:21:23.678682",
     "exception": false,
     "start_time": "2025-01-30T07:21:23.636454",
     "status": "completed"
    },
    "tags": []
   },
   "outputs": [],
   "source": [
    "value_counts = comments[['sent_pipeline_op']].value_counts()"
   ]
  },
  {
   "cell_type": "code",
   "execution_count": 65,
   "id": "c2b2b205",
   "metadata": {
    "execution": {
     "iopub.execute_input": "2025-01-30T07:21:23.745365Z",
     "iopub.status.busy": "2025-01-30T07:21:23.744984Z",
     "iopub.status.idle": "2025-01-30T07:21:23.845729Z",
     "shell.execute_reply": "2025-01-30T07:21:23.844664Z"
    },
    "papermill": {
     "duration": 0.136145,
     "end_time": "2025-01-30T07:21:23.847570",
     "exception": false,
     "start_time": "2025-01-30T07:21:23.711425",
     "status": "completed"
    },
    "tags": []
   },
   "outputs": [
    {
     "data": {
      "text/plain": [
       "<Axes: ylabel='count'>"
      ]
     },
     "execution_count": 65,
     "metadata": {},
     "output_type": "execute_result"
    },
    {
     "data": {
      "image/png": "[encoded data removed]",
      "text/plain": [
       "<Figure size 640x480 with 1 Axes>"
      ]
     },
     "metadata": {},
     "output_type": "display_data"
    }
   ],
   "source": [
    "value_counts.plot(kind='pie', autopct='%1.1f%%', colors=['green', 'red'], startangle=140, wedgeprops={'edgecolor': 'black'})"
   ]
  },
  {
   "cell_type": "code",
   "execution_count": 66,
   "id": "415841ee",
   "metadata": {
    "execution": {
     "iopub.execute_input": "2025-01-30T07:21:23.916128Z",
     "iopub.status.busy": "2025-01-30T07:21:23.915785Z",
     "iopub.status.idle": "2025-01-30T07:21:31.829156Z",
     "shell.execute_reply": "2025-01-30T07:21:31.828067Z"
    },
    "papermill": {
     "duration": 7.949749,
     "end_time": "2025-01-30T07:21:31.831175",
     "exception": false,
     "start_time": "2025-01-30T07:21:23.881426",
     "status": "completed"
    },
    "tags": []
   },
   "outputs": [],
   "source": [
    "results_df['sent_pipeline_op'] = results_df['clean_comment'].apply(sent_pipeline).str[0].str['label']"
   ]
  },
  {
   "cell_type": "code",
   "execution_count": 67,
   "id": "9f1080a5",
   "metadata": {
    "execution": {
     "iopub.execute_input": "2025-01-30T07:21:31.900409Z",
     "iopub.status.busy": "2025-01-30T07:21:31.899999Z",
     "iopub.status.idle": "2025-01-30T07:21:31.923665Z",
     "shell.execute_reply": "2025-01-30T07:21:31.922597Z"
    },
    "papermill": {
     "duration": 0.06044,
     "end_time": "2025-01-30T07:21:31.925554",
     "exception": false,
     "start_time": "2025-01-30T07:21:31.865114",
     "status": "completed"
    },
    "tags": []
   },
   "outputs": [
    {
     "data": {
      "text/html": [
       "<div>\n",
       "<style scoped>\n",
       "    .dataframe tbody tr th:only-of-type {\n",
       "        vertical-align: middle;\n",
       "    }\n",
       "\n",
       "    .dataframe tbody tr th {\n",
       "        vertical-align: top;\n",
       "    }\n",
       "\n",
       "    .dataframe thead th {\n",
       "        text-align: right;\n",
       "    }\n",
       "</style>\n",
       "<table border=\"1\" class=\"dataframe\">\n",
       "  <thead>\n",
       "    <tr style=\"text-align: right;\">\n",
       "      <th></th>\n",
       "      <th>Id</th>\n",
       "      <th>vader_neg</th>\n",
       "      <th>vader_neu</th>\n",
       "      <th>vader_pos</th>\n",
       "      <th>vader_compound</th>\n",
       "      <th>roberta_neg</th>\n",
       "      <th>roberta_neu</th>\n",
       "      <th>roberta_pos</th>\n",
       "      <th>Video Title</th>\n",
       "      <th>Author</th>\n",
       "      <th>...</th>\n",
       "      <th>Published At</th>\n",
       "      <th>Like Count</th>\n",
       "      <th>translated_comment</th>\n",
       "      <th>year</th>\n",
       "      <th>month_name</th>\n",
       "      <th>month</th>\n",
       "      <th>day</th>\n",
       "      <th>day_name</th>\n",
       "      <th>clean_comment</th>\n",
       "      <th>sent_pipeline_op</th>\n",
       "    </tr>\n",
       "  </thead>\n",
       "  <tbody>\n",
       "    <tr>\n",
       "      <th>0</th>\n",
       "      <td>1</td>\n",
       "      <td>0.0</td>\n",
       "      <td>0.256</td>\n",
       "      <td>0.744</td>\n",
       "      <td>0.4404</td>\n",
       "      <td>0.035895</td>\n",
       "      <td>0.295575</td>\n",
       "      <td>0.668530</td>\n",
       "      <td>SQL CASE STATEMENT JOIN #mysql #sql</td>\n",
       "      <td>@maheshmenta6078</td>\n",
       "      <td>...</td>\n",
       "      <td>2024-10-07 10:26:49+00:00</td>\n",
       "      <td>0</td>\n",
       "      <td>good explanation</td>\n",
       "      <td>2024</td>\n",
       "      <td>October</td>\n",
       "      <td>10</td>\n",
       "      <td>7</td>\n",
       "      <td>Monday</td>\n",
       "      <td>good explanation</td>\n",
       "      <td>POSITIVE</td>\n",
       "    </tr>\n",
       "    <tr>\n",
       "      <th>1</th>\n",
       "      <td>2</td>\n",
       "      <td>0.0</td>\n",
       "      <td>0.393</td>\n",
       "      <td>0.607</td>\n",
       "      <td>0.4754</td>\n",
       "      <td>0.003809</td>\n",
       "      <td>0.044531</td>\n",
       "      <td>0.951659</td>\n",
       "      <td>SQL LEFT JOIN #mysql #sql</td>\n",
       "      <td>@pawanpt2682</td>\n",
       "      <td>...</td>\n",
       "      <td>2023-09-10 14:04:01+00:00</td>\n",
       "      <td>0</td>\n",
       "      <td>Very nice ma'am</td>\n",
       "      <td>2023</td>\n",
       "      <td>September</td>\n",
       "      <td>9</td>\n",
       "      <td>10</td>\n",
       "      <td>Sunday</td>\n",
       "      <td>very nice ma'am</td>\n",
       "      <td>POSITIVE</td>\n",
       "    </tr>\n",
       "    <tr>\n",
       "      <th>2</th>\n",
       "      <td>3</td>\n",
       "      <td>0.0</td>\n",
       "      <td>0.000</td>\n",
       "      <td>1.000</td>\n",
       "      <td>0.6249</td>\n",
       "      <td>0.023495</td>\n",
       "      <td>0.196776</td>\n",
       "      <td>0.779729</td>\n",
       "      <td>Practical Implementation of enum data type in ...</td>\n",
       "      <td>@mostafaf.t3651</td>\n",
       "      <td>...</td>\n",
       "      <td>2024-01-04 00:46:23+00:00</td>\n",
       "      <td>0</td>\n",
       "      <td>Awesome</td>\n",
       "      <td>2024</td>\n",
       "      <td>January</td>\n",
       "      <td>1</td>\n",
       "      <td>4</td>\n",
       "      <td>Thursday</td>\n",
       "      <td>awesome</td>\n",
       "      <td>POSITIVE</td>\n",
       "    </tr>\n",
       "    <tr>\n",
       "      <th>3</th>\n",
       "      <td>4</td>\n",
       "      <td>0.0</td>\n",
       "      <td>0.777</td>\n",
       "      <td>0.223</td>\n",
       "      <td>0.9011</td>\n",
       "      <td>0.010076</td>\n",
       "      <td>0.048903</td>\n",
       "      <td>0.941022</td>\n",
       "      <td>Unique Key and its Practical Implementation in...</td>\n",
       "      <td>@Arhankhan0786k</td>\n",
       "      <td>...</td>\n",
       "      <td>2023-02-05 17:15:52+00:00</td>\n",
       "      <td>0</td>\n",
       "      <td>Next week is my semester exam and i don&amp;#39;t ...</td>\n",
       "      <td>2023</td>\n",
       "      <td>February</td>\n",
       "      <td>2</td>\n",
       "      <td>5</td>\n",
       "      <td>Sunday</td>\n",
       "      <td>next week is my semester exam and i don't know...</td>\n",
       "      <td>POSITIVE</td>\n",
       "    </tr>\n",
       "    <tr>\n",
       "      <th>4</th>\n",
       "      <td>5</td>\n",
       "      <td>0.0</td>\n",
       "      <td>1.000</td>\n",
       "      <td>0.000</td>\n",
       "      <td>0.0000</td>\n",
       "      <td>0.190779</td>\n",
       "      <td>0.692082</td>\n",
       "      <td>0.117139</td>\n",
       "      <td>Primary Key in SQL #mysql #sql #primarykey</td>\n",
       "      <td>@faunseveryn3311</td>\n",
       "      <td>...</td>\n",
       "      <td>2023-04-07 17:27:07+00:00</td>\n",
       "      <td>0</td>\n",
       "      <td>✨ &amp;#39;PromoSM&amp;#39;</td>\n",
       "      <td>2023</td>\n",
       "      <td>April</td>\n",
       "      <td>4</td>\n",
       "      <td>7</td>\n",
       "      <td>Friday</td>\n",
       "      <td>'promosm'</td>\n",
       "      <td>NEGATIVE</td>\n",
       "    </tr>\n",
       "  </tbody>\n",
       "</table>\n",
       "<p>5 rows × 21 columns</p>\n",
       "</div>"
      ],
      "text/plain": [
       "   Id  vader_neg  vader_neu  vader_pos  vader_compound  roberta_neg  \\\n",
       "0   1        0.0      0.256      0.744          0.4404     0.035895   \n",
       "1   2        0.0      0.393      0.607          0.4754     0.003809   \n",
       "2   3        0.0      0.000      1.000          0.6249     0.023495   \n",
       "3   4        0.0      0.777      0.223          0.9011     0.010076   \n",
       "4   5        0.0      1.000      0.000          0.0000     0.190779   \n",
       "\n",
       "   roberta_neu  roberta_pos  \\\n",
       "0     0.295575     0.668530   \n",
       "1     0.044531     0.951659   \n",
       "2     0.196776     0.779729   \n",
       "3     0.048903     0.941022   \n",
       "4     0.692082     0.117139   \n",
       "\n",
       "                                         Video Title            Author  ...  \\\n",
       "0                SQL CASE STATEMENT JOIN #mysql #sql  @maheshmenta6078  ...   \n",
       "1                          SQL LEFT JOIN #mysql #sql      @pawanpt2682  ...   \n",
       "2  Practical Implementation of enum data type in ...   @mostafaf.t3651  ...   \n",
       "3  Unique Key and its Practical Implementation in...   @Arhankhan0786k  ...   \n",
       "4         Primary Key in SQL #mysql #sql #primarykey  @faunseveryn3311  ...   \n",
       "\n",
       "               Published At Like Count  \\\n",
       "0 2024-10-07 10:26:49+00:00          0   \n",
       "1 2023-09-10 14:04:01+00:00          0   \n",
       "2 2024-01-04 00:46:23+00:00          0   \n",
       "3 2023-02-05 17:15:52+00:00          0   \n",
       "4 2023-04-07 17:27:07+00:00          0   \n",
       "\n",
       "                                  translated_comment  year  month_name month  \\\n",
       "0                                   good explanation  2024     October    10   \n",
       "1                                    Very nice ma'am  2023   September     9   \n",
       "2                                            Awesome  2024     January     1   \n",
       "3  Next week is my semester exam and i don&#39;t ...  2023    February     2   \n",
       "4                                ✨ &#39;PromoSM&#39;  2023       April     4   \n",
       "\n",
       "   day  day_name                                      clean_comment  \\\n",
       "0    7    Monday                                   good explanation   \n",
       "1   10    Sunday                                    very nice ma'am   \n",
       "2    4  Thursday                                            awesome   \n",
       "3    5    Sunday  next week is my semester exam and i don't know...   \n",
       "4    7    Friday                                          'promosm'   \n",
       "\n",
       "  sent_pipeline_op  \n",
       "0         POSITIVE  \n",
       "1         POSITIVE  \n",
       "2         POSITIVE  \n",
       "3         POSITIVE  \n",
       "4         NEGATIVE  \n",
       "\n",
       "[5 rows x 21 columns]"
      ]
     },
     "execution_count": 67,
     "metadata": {},
     "output_type": "execute_result"
    }
   ],
   "source": [
    "results_df.head()"
   ]
  },
  {
   "cell_type": "code",
   "execution_count": 68,
   "id": "b0998617",
   "metadata": {
    "execution": {
     "iopub.execute_input": "2025-01-30T07:21:31.995904Z",
     "iopub.status.busy": "2025-01-30T07:21:31.995513Z",
     "iopub.status.idle": "2025-01-30T07:21:31.999323Z",
     "shell.execute_reply": "2025-01-30T07:21:31.998288Z"
    },
    "papermill": {
     "duration": 0.041272,
     "end_time": "2025-01-30T07:21:32.001174",
     "exception": false,
     "start_time": "2025-01-30T07:21:31.959902",
     "status": "completed"
    },
    "tags": []
   },
   "outputs": [],
   "source": [
    "# results_df['Published At'] = results_df['Published At'].astype(str)\n",
    "# results_df.to_excel('sentiment_analysis_report.xlsx', index=False)"
   ]
  },
  {
   "cell_type": "code",
   "execution_count": null,
   "id": "ac4452e0",
   "metadata": {
    "papermill": {
     "duration": 0.033722,
     "end_time": "2025-01-30T07:21:32.069050",
     "exception": false,
     "start_time": "2025-01-30T07:21:32.035328",
     "status": "completed"
    },
    "tags": []
   },
   "outputs": [],
   "source": []
  },
  {
   "cell_type": "code",
   "execution_count": null,
   "id": "26bc9616",
   "metadata": {
    "papermill": {
     "duration": 0.034455,
     "end_time": "2025-01-30T07:21:32.137832",
     "exception": false,
     "start_time": "2025-01-30T07:21:32.103377",
     "status": "completed"
    },
    "tags": []
   },
   "outputs": [],
   "source": []
  }
 ],
 "metadata": {
  "kaggle": {
   "accelerator": "none",
   "dataSources": [
    {
     "datasetId": 6571750,
     "sourceId": 10614890,
     "sourceType": "datasetVersion"
    },
    {
     "datasetId": 6571761,
     "sourceId": 10614903,
     "sourceType": "datasetVersion"
    }
   ],
   "dockerImageVersionId": 30839,
   "isGpuEnabled": false,
   "isInternetEnabled": true,
   "language": "python",
   "sourceType": "notebook"
  },
  "kernelspec": {
   "display_name": "Python 3 (ipykernel)",
   "language": "python",
   "name": "python3"
  },
  "language_info": {
   "codemirror_mode": {
    "name": "ipython",
    "version": 3
   },
   "file_extension": ".py",
   "mimetype": "text/x-python",
   "name": "python",
   "nbconvert_exporter": "python",
   "pygments_lexer": "ipython3",
   "version": "3.10.12"
  },
  "papermill": {
   "default_parameters": {},
   "duration": 130.109182,
   "end_time": "2025-01-30T07:21:35.286223",
   "environment_variables": {},
   "exception": null,
   "input_path": "__notebook__.ipynb",
   "output_path": "__notebook__.ipynb",
   "parameters": {},
   "start_time": "2025-01-30T07:19:25.177041",
   "version": "2.6.0"
  },
  "widgets": {
   "application/vnd.jupyter.widget-state+json": {
    "state": {
     "021edf3dff9843a4a734227cdf3b2fea": {
      "model_module": "@jupyter-widgets/controls",
      "model_module_version": "2.0.0",
      "model_name": "HTMLStyleModel",
      "state": {
       "_model_module": "@jupyter-widgets/controls",
       "_model_module_version": "2.0.0",
       "_model_name": "HTMLStyleModel",
       "_view_count": null,
       "_view_module": "@jupyter-widgets/base",
       "_view_module_version": "2.0.0",
       "_view_name": "StyleView",
       "background": null,
       "description_width": "",
       "font_size": null,
       "text_color": null
      }
     },
     "0477f05dfb9148e69435d92286599842": {
      "model_module": "@jupyter-widgets/controls",
      "model_module_version": "2.0.0",
      "model_name": "HTMLModel",
      "state": {
       "_dom_classes": [],
       "_model_module": "@jupyter-widgets/controls",
       "_model_module_version": "2.0.0",
       "_model_name": "HTMLModel",
       "_view_count": null,
       "_view_module": "@jupyter-widgets/controls",
       "_view_module_version": "2.0.0",
       "_view_name": "HTMLView",
       "description": "",
       "description_allow_html": false,
       "layout": "IPY_MODEL_d3dd822371204f72980277b69363deac",
       "placeholder": "​",
       "style": "IPY_MODEL_6b08b393fdf047c0a1aa95117bbe98a4",
       "tabbable": null,
       "tooltip": null,
       "value": "special_tokens_map.json: 100%"
      }
     },
     "05dd3b2af7af43c5b5644651f539f3c9": {
      "model_module": "@jupyter-widgets/base",
      "model_module_version": "2.0.0",
      "model_name": "LayoutModel",
      "state": {
       "_model_module": "@jupyter-widgets/base",
       "_model_module_version": "2.0.0",
       "_model_name": "LayoutModel",
       "_view_count": null,
       "_view_module": "@jupyter-widgets/base",
       "_view_module_version": "2.0.0",
       "_view_name": "LayoutView",
       "align_content": null,
       "align_items": null,
       "align_self": null,
       "border_bottom": null,
       "border_left": null,
       "border_right": null,
       "border_top": null,
       "bottom": null,
       "display": null,
       "flex": null,
       "flex_flow": null,
       "grid_area": null,
       "grid_auto_columns": null,
       "grid_auto_flow": null,
       "grid_auto_rows": null,
       "grid_column": null,
       "grid_gap": null,
       "grid_row": null,
       "grid_template_areas": null,
       "grid_template_columns": null,
       "grid_template_rows": null,
       "height": null,
       "justify_content": null,
       "justify_items": null,
       "left": null,
       "margin": null,
       "max_height": null,
       "max_width": null,
       "min_height": null,
       "min_width": null,
       "object_fit": null,
       "object_position": null,
       "order": null,
       "overflow": null,
       "padding": null,
       "right": null,
       "top": null,
       "visibility": null,
       "width": null
      }
     },
     "08448ec2f4314bca893c3c17059c1d8a": {
      "model_module": "@jupyter-widgets/base",
      "model_module_version": "2.0.0",
      "model_name": "LayoutModel",
      "state": {
       "_model_module": "@jupyter-widgets/base",
       "_model_module_version": "2.0.0",
       "_model_name": "LayoutModel",
       "_view_count": null,
       "_view_module": "@jupyter-widgets/base",
       "_view_module_version": "2.0.0",
       "_view_name": "LayoutView",
       "align_content": null,
       "align_items": null,
       "align_self": null,
       "border_bottom": null,
       "border_left": null,
       "border_right": null,
       "border_top": null,
       "bottom": null,
       "display": null,
       "flex": null,
       "flex_flow": null,
       "grid_area": null,
       "grid_auto_columns": null,
       "grid_auto_flow": null,
       "grid_auto_rows": null,
       "grid_column": null,
       "grid_gap": null,
       "grid_row": null,
       "grid_template_areas": null,
       "grid_template_columns": null,
       "grid_template_rows": null,
       "height": null,
       "justify_content": null,
       "justify_items": null,
       "left": null,
       "margin": null,
       "max_height": null,
       "max_width": null,
       "min_height": null,
       "min_width": null,
       "object_fit": null,
       "object_position": null,
       "order": null,
       "overflow": null,
       "padding": null,
       "right": null,
       "top": null,
       "visibility": null,
       "width": null
      }
     },
     "0d8a9d5d5d7641cfa68876acb42aa82e": {
      "model_module": "@jupyter-widgets/controls",
      "model_module_version": "2.0.0",
      "model_name": "FloatProgressModel",
      "state": {
       "_dom_classes": [],
       "_model_module": "@jupyter-widgets/controls",
       "_model_module_version": "2.0.0",
       "_model_name": "FloatProgressModel",
       "_view_count": null,
       "_view_module": "@jupyter-widgets/controls",
       "_view_module_version": "2.0.0",
       "_view_name": "ProgressView",
       "bar_style": "success",
       "description": "",
       "description_allow_html": false,
       "layout": "IPY_MODEL_4070e14884cb48bb9fe95010b81224aa",
       "max": 498679497.0,
       "min": 0.0,
       "orientation": "horizontal",
       "style": "IPY_MODEL_3b72b2881d384443b12fb37ca5280ac6",
       "tabbable": null,
       "tooltip": null,
       "value": 498679497.0
      }
     },
     "0fc0771ee3f4406981032c18cd90369b": {
      "model_module": "@jupyter-widgets/controls",
      "model_module_version": "2.0.0",
      "model_name": "FloatProgressModel",
      "state": {
       "_dom_classes": [],
       "_model_module": "@jupyter-widgets/controls",
       "_model_module_version": "2.0.0",
       "_model_name": "FloatProgressModel",
       "_view_count": null,
       "_view_module": "@jupyter-widgets/controls",
       "_view_module_version": "2.0.0",
       "_view_name": "ProgressView",
       "bar_style": "success",
       "description": "",
       "description_allow_html": false,
       "layout": "IPY_MODEL_c3e579b8a0c846458edb2ffdfa8bbfce",
       "max": 48.0,
       "min": 0.0,
       "orientation": "horizontal",
       "style": "IPY_MODEL_d439875900ab4a00ac207a7f31cdaee5",
       "tabbable": null,
       "tooltip": null,
       "value": 48.0
      }
     },
     "13d1727e563445e1bb2ecbfc2177fb81": {
      "model_module": "@jupyter-widgets/controls",
      "model_module_version": "2.0.0",
      "model_name": "HTMLStyleModel",
      "state": {
       "_model_module": "@jupyter-widgets/controls",
       "_model_module_version": "2.0.0",
       "_model_name": "HTMLStyleModel",
       "_view_count": null,
       "_view_module": "@jupyter-widgets/base",
       "_view_module_version": "2.0.0",
       "_view_name": "StyleView",
       "background": null,
       "description_width": "",
       "font_size": null,
       "text_color": null
      }
     },
     "158f8f41826a4e4eaec6968a0b0e57d5": {
      "model_module": "@jupyter-widgets/base",
      "model_module_version": "2.0.0",
      "model_name": "LayoutModel",
      "state": {
       "_model_module": "@jupyter-widgets/base",
       "_model_module_version": "2.0.0",
       "_model_name": "LayoutModel",
       "_view_count": null,
       "_view_module": "@jupyter-widgets/base",
       "_view_module_version": "2.0.0",
       "_view_name": "LayoutView",
       "align_content": null,
       "align_items": null,
       "align_self": null,
       "border_bottom": null,
       "border_left": null,
       "border_right": null,
       "border_top": null,
       "bottom": null,
       "display": null,
       "flex": null,
       "flex_flow": null,
       "grid_area": null,
       "grid_auto_columns": null,
       "grid_auto_flow": null,
       "grid_auto_rows": null,
       "grid_column": null,
       "grid_gap": null,
       "grid_row": null,
       "grid_template_areas": null,
       "grid_template_columns": null,
       "grid_template_rows": null,
       "height": null,
       "justify_content": null,
       "justify_items": null,
       "left": null,
       "margin": null,
       "max_height": null,
       "max_width": null,
       "min_height": null,
       "min_width": null,
       "object_fit": null,
       "object_position": null,
       "order": null,
       "overflow": null,
       "padding": null,
       "right": null,
       "top": null,
       "visibility": null,
       "width": null
      }
     },
     "1922455bae4b4190be8add1967649542": {
      "model_module": "@jupyter-widgets/controls",
      "model_module_version": "2.0.0",
      "model_name": "HTMLModel",
      "state": {
       "_dom_classes": [],
       "_model_module": "@jupyter-widgets/controls",
       "_model_module_version": "2.0.0",
       "_model_name": "HTMLModel",
       "_view_count": null,
       "_view_module": "@jupyter-widgets/controls",
       "_view_module_version": "2.0.0",
       "_view_name": "HTMLView",
       "description": "",
       "description_allow_html": false,
       "layout": "IPY_MODEL_f187b3a71fcc4c8e8a23dc89474899d3",
       "placeholder": "​",
       "style": "IPY_MODEL_dbccedc9611f41648dd83a22ee46c421",
       "tabbable": null,
       "tooltip": null,
       "value": " 268M/268M [00:01&lt;00:00, 241MB/s]"
      }
     },
     "1cd3483fb0dc4cd5b400b27f3897c984": {
      "model_module": "@jupyter-widgets/controls",
      "model_module_version": "2.0.0",
      "model_name": "HBoxModel",
      "state": {
       "_dom_classes": [],
       "_model_module": "@jupyter-widgets/controls",
       "_model_module_version": "2.0.0",
       "_model_name": "HBoxModel",
       "_view_count": null,
       "_view_module": "@jupyter-widgets/controls",
       "_view_module_version": "2.0.0",
       "_view_name": "HBoxView",
       "box_style": "",
       "children": [
        "IPY_MODEL_acf9c2ebea1f4f0083e3a4a1115db10b",
        "IPY_MODEL_0fc0771ee3f4406981032c18cd90369b",
        "IPY_MODEL_f21298a151b4418797bf6911c5c75d1f"
       ],
       "layout": "IPY_MODEL_05dd3b2af7af43c5b5644651f539f3c9",
       "tabbable": null,
       "tooltip": null
      }
     },
     "1d50d32b75d34ad8b9b08f6dbd0cde64": {
      "model_module": "@jupyter-widgets/controls",
      "model_module_version": "2.0.0",
      "model_name": "HBoxModel",
      "state": {
       "_dom_classes": [],
       "_model_module": "@jupyter-widgets/controls",
       "_model_module_version": "2.0.0",
       "_model_name": "HBoxModel",
       "_view_count": null,
       "_view_module": "@jupyter-widgets/controls",
       "_view_module_version": "2.0.0",
       "_view_name": "HBoxView",
       "box_style": "",
       "children": [
        "IPY_MODEL_c1b006c70211441e9c4d84cf5c98cdad",
        "IPY_MODEL_9908ff0bc57c4d9bafe614fea42c8fc1",
        "IPY_MODEL_eed566faac484524990fad8858f42274"
       ],
       "layout": "IPY_MODEL_58de94dec3eb42e9bc5a521f4b024d12",
       "tabbable": null,
       "tooltip": null
      }
     },
     "1ebe455ebb234df7947c6e731300bc84": {
      "model_module": "@jupyter-widgets/controls",
      "model_module_version": "2.0.0",
      "model_name": "HBoxModel",
      "state": {
       "_dom_classes": [],
       "_model_module": "@jupyter-widgets/controls",
       "_model_module_version": "2.0.0",
       "_model_name": "HBoxModel",
       "_view_count": null,
       "_view_module": "@jupyter-widgets/controls",
       "_view_module_version": "2.0.0",
       "_view_name": "HBoxView",
       "box_style": "",
       "children": [
        "IPY_MODEL_0477f05dfb9148e69435d92286599842",
        "IPY_MODEL_32bae492b8c04aa1806adaecd457bb12",
        "IPY_MODEL_ad7748fe2e754fbea80b276439ef011c"
       ],
       "layout": "IPY_MODEL_c43c179aa5b148c0bd49afe1906c5f0b",
       "tabbable": null,
       "tooltip": null
      }
     },
     "1fc64e6ac2034dcea04a36525c694805": {
      "model_module": "@jupyter-widgets/base",
      "model_module_version": "2.0.0",
      "model_name": "LayoutModel",
      "state": {
       "_model_module": "@jupyter-widgets/base",
       "_model_module_version": "2.0.0",
       "_model_name": "LayoutModel",
       "_view_count": null,
       "_view_module": "@jupyter-widgets/base",
       "_view_module_version": "2.0.0",
       "_view_name": "LayoutView",
       "align_content": null,
       "align_items": null,
       "align_self": null,
       "border_bottom": null,
       "border_left": null,
       "border_right": null,
       "border_top": null,
       "bottom": null,
       "display": null,
       "flex": null,
       "flex_flow": null,
       "grid_area": null,
       "grid_auto_columns": null,
       "grid_auto_flow": null,
       "grid_auto_rows": null,
       "grid_column": null,
       "grid_gap": null,
       "grid_row": null,
       "grid_template_areas": null,
       "grid_template_columns": null,
       "grid_template_rows": null,
       "height": null,
       "justify_content": null,
       "justify_items": null,
       "left": null,
       "margin": null,
       "max_height": null,
       "max_width": null,
       "min_height": null,
       "min_width": null,
       "object_fit": null,
       "object_position": null,
       "order": null,
       "overflow": null,
       "padding": null,
       "right": null,
       "top": null,
       "visibility": null,
       "width": null
      }
     },
     "200202ca9886426f9640e6712b38b7f3": {
      "model_module": "@jupyter-widgets/controls",
      "model_module_version": "2.0.0",
      "model_name": "ProgressStyleModel",
      "state": {
       "_model_module": "@jupyter-widgets/controls",
       "_model_module_version": "2.0.0",
       "_model_name": "ProgressStyleModel",
       "_view_count": null,
       "_view_module": "@jupyter-widgets/base",
       "_view_module_version": "2.0.0",
       "_view_name": "StyleView",
       "bar_color": null,
       "description_width": ""
      }
     },
     "24cfce0b29bc47f787df282c5679bb20": {
      "model_module": "@jupyter-widgets/controls",
      "model_module_version": "2.0.0",
      "model_name": "HTMLModel",
      "state": {
       "_dom_classes": [],
       "_model_module": "@jupyter-widgets/controls",
       "_model_module_version": "2.0.0",
       "_model_name": "HTMLModel",
       "_view_count": null,
       "_view_module": "@jupyter-widgets/controls",
       "_view_module_version": "2.0.0",
       "_view_name": "HTMLView",
       "description": "",
       "description_allow_html": false,
       "layout": "IPY_MODEL_e030f811a9c348e0964a1ce0761a13bc",
       "placeholder": "​",
       "style": "IPY_MODEL_3fd03fb344e049a38e3613ee4b2133e4",
       "tabbable": null,
       "tooltip": null,
       "value": " 499M/499M [00:02&lt;00:00, 208MB/s]"
      }
     },
     "252f1a9d89854db98c5335bb3140169d": {
      "model_module": "@jupyter-widgets/base",
      "model_module_version": "2.0.0",
      "model_name": "LayoutModel",
      "state": {
       "_model_module": "@jupyter-widgets/base",
       "_model_module_version": "2.0.0",
       "_model_name": "LayoutModel",
       "_view_count": null,
       "_view_module": "@jupyter-widgets/base",
       "_view_module_version": "2.0.0",
       "_view_name": "LayoutView",
       "align_content": null,
       "align_items": null,
       "align_self": null,
       "border_bottom": null,
       "border_left": null,
       "border_right": null,
       "border_top": null,
       "bottom": null,
       "display": null,
       "flex": null,
       "flex_flow": null,
       "grid_area": null,
       "grid_auto_columns": null,
       "grid_auto_flow": null,
       "grid_auto_rows": null,
       "grid_column": null,
       "grid_gap": null,
       "grid_row": null,
       "grid_template_areas": null,
       "grid_template_columns": null,
       "grid_template_rows": null,
       "height": null,
       "justify_content": null,
       "justify_items": null,
       "left": null,
       "margin": null,
       "max_height": null,
       "max_width": null,
       "min_height": null,
       "min_width": null,
       "object_fit": null,
       "object_position": null,
       "order": null,
       "overflow": null,
       "padding": null,
       "right": null,
       "top": null,
       "visibility": null,
       "width": null
      }
     },
     "269e68bbde944a6c88fa37f91fcf59ea": {
      "model_module": "@jupyter-widgets/controls",
      "model_module_version": "2.0.0",
      "model_name": "HTMLStyleModel",
      "state": {
       "_model_module": "@jupyter-widgets/controls",
       "_model_module_version": "2.0.0",
       "_model_name": "HTMLStyleModel",
       "_view_count": null,
       "_view_module": "@jupyter-widgets/base",
       "_view_module_version": "2.0.0",
       "_view_name": "StyleView",
       "background": null,
       "description_width": "",
       "font_size": null,
       "text_color": null
      }
     },
     "2b47ff93793946af954715516bff3b73": {
      "model_module": "@jupyter-widgets/controls",
      "model_module_version": "2.0.0",
      "model_name": "ProgressStyleModel",
      "state": {
       "_model_module": "@jupyter-widgets/controls",
       "_model_module_version": "2.0.0",
       "_model_name": "ProgressStyleModel",
       "_view_count": null,
       "_view_module": "@jupyter-widgets/base",
       "_view_module_version": "2.0.0",
       "_view_name": "StyleView",
       "bar_color": null,
       "description_width": ""
      }
     },
     "2bd4153d9f3a4316b5331ac322015d31": {
      "model_module": "@jupyter-widgets/controls",
      "model_module_version": "2.0.0",
      "model_name": "FloatProgressModel",
      "state": {
       "_dom_classes": [],
       "_model_module": "@jupyter-widgets/controls",
       "_model_module_version": "2.0.0",
       "_model_name": "FloatProgressModel",
       "_view_count": null,
       "_view_module": "@jupyter-widgets/controls",
       "_view_module_version": "2.0.0",
       "_view_name": "ProgressView",
       "bar_style": "success",
       "description": "",
       "description_allow_html": false,
       "layout": "IPY_MODEL_7d32632142dc4bbc864810c70b7fb715",
       "max": 747.0,
       "min": 0.0,
       "orientation": "horizontal",
       "style": "IPY_MODEL_728312e1d6a642f49e55a8a2a69a01ad",
       "tabbable": null,
       "tooltip": null,
       "value": 747.0
      }
     },
     "2d10e4437c084a8bb3c522bd5c7c1dff": {
      "model_module": "@jupyter-widgets/controls",
      "model_module_version": "2.0.0",
      "model_name": "HBoxModel",
      "state": {
       "_dom_classes": [],
       "_model_module": "@jupyter-widgets/controls",
       "_model_module_version": "2.0.0",
       "_model_name": "HBoxModel",
       "_view_count": null,
       "_view_module": "@jupyter-widgets/controls",
       "_view_module_version": "2.0.0",
       "_view_name": "HBoxView",
       "box_style": "",
       "children": [
        "IPY_MODEL_3e92cd97b1464393a0ad8f9b5d13c356",
        "IPY_MODEL_0d8a9d5d5d7641cfa68876acb42aa82e",
        "IPY_MODEL_24cfce0b29bc47f787df282c5679bb20"
       ],
       "layout": "IPY_MODEL_dae2e681fdb74ffa9667f207d119222c",
       "tabbable": null,
       "tooltip": null
      }
     },
     "2ec7a440e52c40a2ae37a841b4fa0793": {
      "model_module": "@jupyter-widgets/base",
      "model_module_version": "2.0.0",
      "model_name": "LayoutModel",
      "state": {
       "_model_module": "@jupyter-widgets/base",
       "_model_module_version": "2.0.0",
       "_model_name": "LayoutModel",
       "_view_count": null,
       "_view_module": "@jupyter-widgets/base",
       "_view_module_version": "2.0.0",
       "_view_name": "LayoutView",
       "align_content": null,
       "align_items": null,
       "align_self": null,
       "border_bottom": null,
       "border_left": null,
       "border_right": null,
       "border_top": null,
       "bottom": null,
       "display": null,
       "flex": null,
       "flex_flow": null,
       "grid_area": null,
       "grid_auto_columns": null,
       "grid_auto_flow": null,
       "grid_auto_rows": null,
       "grid_column": null,
       "grid_gap": null,
       "grid_row": null,
       "grid_template_areas": null,
       "grid_template_columns": null,
       "grid_template_rows": null,
       "height": null,
       "justify_content": null,
       "justify_items": null,
       "left": null,
       "margin": null,
       "max_height": null,
       "max_width": null,
       "min_height": null,
       "min_width": null,
       "object_fit": null,
       "object_position": null,
       "order": null,
       "overflow": null,
       "padding": null,
       "right": null,
       "top": null,
       "visibility": null,
       "width": null
      }
     },
     "30ff9a36d3e64b2bafcf292acc41c324": {
      "model_module": "@jupyter-widgets/base",
      "model_module_version": "2.0.0",
      "model_name": "LayoutModel",
      "state": {
       "_model_module": "@jupyter-widgets/base",
       "_model_module_version": "2.0.0",
       "_model_name": "LayoutModel",
       "_view_count": null,
       "_view_module": "@jupyter-widgets/base",
       "_view_module_version": "2.0.0",
       "_view_name": "LayoutView",
       "align_content": null,
       "align_items": null,
       "align_self": null,
       "border_bottom": null,
       "border_left": null,
       "border_right": null,
       "border_top": null,
       "bottom": null,
       "display": null,
       "flex": null,
       "flex_flow": null,
       "grid_area": null,
       "grid_auto_columns": null,
       "grid_auto_flow": null,
       "grid_auto_rows": null,
       "grid_column": null,
       "grid_gap": null,
       "grid_row": null,
       "grid_template_areas": null,
       "grid_template_columns": null,
       "grid_template_rows": null,
       "height": null,
       "justify_content": null,
       "justify_items": null,
       "left": null,
       "margin": null,
       "max_height": null,
       "max_width": null,
       "min_height": null,
       "min_width": null,
       "object_fit": null,
       "object_position": null,
       "order": null,
       "overflow": null,
       "padding": null,
       "right": null,
       "top": null,
       "visibility": null,
       "width": null
      }
     },
     "32bae492b8c04aa1806adaecd457bb12": {
      "model_module": "@jupyter-widgets/controls",
      "model_module_version": "2.0.0",
      "model_name": "FloatProgressModel",
      "state": {
       "_dom_classes": [],
       "_model_module": "@jupyter-widgets/controls",
       "_model_module_version": "2.0.0",
       "_model_name": "FloatProgressModel",
       "_view_count": null,
       "_view_module": "@jupyter-widgets/controls",
       "_view_module_version": "2.0.0",
       "_view_name": "ProgressView",
       "bar_style": "success",
       "description": "",
       "description_allow_html": false,
       "layout": "IPY_MODEL_eb2fe6be244243dca82df45e789e0fda",
       "max": 150.0,
       "min": 0.0,
       "orientation": "horizontal",
       "style": "IPY_MODEL_56a2139f68dc40dbb4b03526621a6e9c",
       "tabbable": null,
       "tooltip": null,
       "value": 150.0
      }
     },
     "33c214e85140426285202eee60255858": {
      "model_module": "@jupyter-widgets/controls",
      "model_module_version": "2.0.0",
      "model_name": "FloatProgressModel",
      "state": {
       "_dom_classes": [],
       "_model_module": "@jupyter-widgets/controls",
       "_model_module_version": "2.0.0",
       "_model_name": "FloatProgressModel",
       "_view_count": null,
       "_view_module": "@jupyter-widgets/controls",
       "_view_module_version": "2.0.0",
       "_view_name": "ProgressView",
       "bar_style": "success",
       "description": "",
       "description_allow_html": false,
       "layout": "IPY_MODEL_08448ec2f4314bca893c3c17059c1d8a",
       "max": 271.0,
       "min": 0.0,
       "orientation": "horizontal",
       "style": "IPY_MODEL_2b47ff93793946af954715516bff3b73",
       "tabbable": null,
       "tooltip": null,
       "value": 271.0
      }
     },
     "355d2a701139468ba40eb36e39f49e97": {
      "model_module": "@jupyter-widgets/controls",
      "model_module_version": "2.0.0",
      "model_name": "HTMLModel",
      "state": {
       "_dom_classes": [],
       "_model_module": "@jupyter-widgets/controls",
       "_model_module_version": "2.0.0",
       "_model_name": "HTMLModel",
       "_view_count": null,
       "_view_module": "@jupyter-widgets/controls",
       "_view_module_version": "2.0.0",
       "_view_name": "HTMLView",
       "description": "",
       "description_allow_html": false,
       "layout": "IPY_MODEL_30ff9a36d3e64b2bafcf292acc41c324",
       "placeholder": "​",
       "style": "IPY_MODEL_7cfde148d0334560b0fddeccda39a438",
       "tabbable": null,
       "tooltip": null,
       "value": " 232k/232k [00:00&lt;00:00, 664kB/s]"
      }
     },
     "3a974986d89747bf82b91fef75126353": {
      "model_module": "@jupyter-widgets/base",
      "model_module_version": "2.0.0",
      "model_name": "LayoutModel",
      "state": {
       "_model_module": "@jupyter-widgets/base",
       "_model_module_version": "2.0.0",
       "_model_name": "LayoutModel",
       "_view_count": null,
       "_view_module": "@jupyter-widgets/base",
       "_view_module_version": "2.0.0",
       "_view_name": "LayoutView",
       "align_content": null,
       "align_items": null,
       "align_self": null,
       "border_bottom": null,
       "border_left": null,
       "border_right": null,
       "border_top": null,
       "bottom": null,
       "display": null,
       "flex": null,
       "flex_flow": null,
       "grid_area": null,
       "grid_auto_columns": null,
       "grid_auto_flow": null,
       "grid_auto_rows": null,
       "grid_column": null,
       "grid_gap": null,
       "grid_row": null,
       "grid_template_areas": null,
       "grid_template_columns": null,
       "grid_template_rows": null,
       "height": null,
       "justify_content": null,
       "justify_items": null,
       "left": null,
       "margin": null,
       "max_height": null,
       "max_width": null,
       "min_height": null,
       "min_width": null,
       "object_fit": null,
       "object_position": null,
       "order": null,
       "overflow": null,
       "padding": null,
       "right": null,
       "top": null,
       "visibility": null,
       "width": null
      }
     },
     "3ad4268e2cea4ce8aaa6e2e0d1ea620a": {
      "model_module": "@jupyter-widgets/base",
      "model_module_version": "2.0.0",
      "model_name": "LayoutModel",
      "state": {
       "_model_module": "@jupyter-widgets/base",
       "_model_module_version": "2.0.0",
       "_model_name": "LayoutModel",
       "_view_count": null,
       "_view_module": "@jupyter-widgets/base",
       "_view_module_version": "2.0.0",
       "_view_name": "LayoutView",
       "align_content": null,
       "align_items": null,
       "align_self": null,
       "border_bottom": null,
       "border_left": null,
       "border_right": null,
       "border_top": null,
       "bottom": null,
       "display": null,
       "flex": null,
       "flex_flow": null,
       "grid_area": null,
       "grid_auto_columns": null,
       "grid_auto_flow": null,
       "grid_auto_rows": null,
       "grid_column": null,
       "grid_gap": null,
       "grid_row": null,
       "grid_template_areas": null,
       "grid_template_columns": null,
       "grid_template_rows": null,
       "height": null,
       "justify_content": null,
       "justify_items": null,
       "left": null,
       "margin": null,
       "max_height": null,
       "max_width": null,
       "min_height": null,
       "min_width": null,
       "object_fit": null,
       "object_position": null,
       "order": null,
       "overflow": null,
       "padding": null,
       "right": null,
       "top": null,
       "visibility": null,
       "width": null
      }
     },
     "3b72b2881d384443b12fb37ca5280ac6": {
      "model_module": "@jupyter-widgets/controls",
      "model_module_version": "2.0.0",
      "model_name": "ProgressStyleModel",
      "state": {
       "_model_module": "@jupyter-widgets/controls",
       "_model_module_version": "2.0.0",
       "_model_name": "ProgressStyleModel",
       "_view_count": null,
       "_view_module": "@jupyter-widgets/base",
       "_view_module_version": "2.0.0",
       "_view_name": "StyleView",
       "bar_color": null,
       "description_width": ""
      }
     },
     "3e92cd97b1464393a0ad8f9b5d13c356": {
      "model_module": "@jupyter-widgets/controls",
      "model_module_version": "2.0.0",
      "model_name": "HTMLModel",
      "state": {
       "_dom_classes": [],
       "_model_module": "@jupyter-widgets/controls",
       "_model_module_version": "2.0.0",
       "_model_name": "HTMLModel",
       "_view_count": null,
       "_view_module": "@jupyter-widgets/controls",
       "_view_module_version": "2.0.0",
       "_view_name": "HTMLView",
       "description": "",
       "description_allow_html": false,
       "layout": "IPY_MODEL_3a974986d89747bf82b91fef75126353",
       "placeholder": "​",
       "style": "IPY_MODEL_988d068bc9b54e03adebfbb428d00270",
       "tabbable": null,
       "tooltip": null,
       "value": "pytorch_model.bin: 100%"
      }
     },
     "3fd03fb344e049a38e3613ee4b2133e4": {
      "model_module": "@jupyter-widgets/controls",
      "model_module_version": "2.0.0",
      "model_name": "HTMLStyleModel",
      "state": {
       "_model_module": "@jupyter-widgets/controls",
       "_model_module_version": "2.0.0",
       "_model_name": "HTMLStyleModel",
       "_view_count": null,
       "_view_module": "@jupyter-widgets/base",
       "_view_module_version": "2.0.0",
       "_view_name": "StyleView",
       "background": null,
       "description_width": "",
       "font_size": null,
       "text_color": null
      }
     },
     "4070e14884cb48bb9fe95010b81224aa": {
      "model_module": "@jupyter-widgets/base",
      "model_module_version": "2.0.0",
      "model_name": "LayoutModel",
      "state": {
       "_model_module": "@jupyter-widgets/base",
       "_model_module_version": "2.0.0",
       "_model_name": "LayoutModel",
       "_view_count": null,
       "_view_module": "@jupyter-widgets/base",
       "_view_module_version": "2.0.0",
       "_view_name": "LayoutView",
       "align_content": null,
       "align_items": null,
       "align_self": null,
       "border_bottom": null,
       "border_left": null,
       "border_right": null,
       "border_top": null,
       "bottom": null,
       "display": null,
       "flex": null,
       "flex_flow": null,
       "grid_area": null,
       "grid_auto_columns": null,
       "grid_auto_flow": null,
       "grid_auto_rows": null,
       "grid_column": null,
       "grid_gap": null,
       "grid_row": null,
       "grid_template_areas": null,
       "grid_template_columns": null,
       "grid_template_rows": null,
       "height": null,
       "justify_content": null,
       "justify_items": null,
       "left": null,
       "margin": null,
       "max_height": null,
       "max_width": null,
       "min_height": null,
       "min_width": null,
       "object_fit": null,
       "object_position": null,
       "order": null,
       "overflow": null,
       "padding": null,
       "right": null,
       "top": null,
       "visibility": null,
       "width": null
      }
     },
     "4861422f73cb4dd59063d1d512b349ff": {
      "model_module": "@jupyter-widgets/controls",
      "model_module_version": "2.0.0",
      "model_name": "HTMLStyleModel",
      "state": {
       "_model_module": "@jupyter-widgets/controls",
       "_model_module_version": "2.0.0",
       "_model_name": "HTMLStyleModel",
       "_view_count": null,
       "_view_module": "@jupyter-widgets/base",
       "_view_module_version": "2.0.0",
       "_view_name": "StyleView",
       "background": null,
       "description_width": "",
       "font_size": null,
       "text_color": null
      }
     },
     "4a1a98b1e959440382296575b46d1a47": {
      "model_module": "@jupyter-widgets/base",
      "model_module_version": "2.0.0",
      "model_name": "LayoutModel",
      "state": {
       "_model_module": "@jupyter-widgets/base",
       "_model_module_version": "2.0.0",
       "_model_name": "LayoutModel",
       "_view_count": null,
       "_view_module": "@jupyter-widgets/base",
       "_view_module_version": "2.0.0",
       "_view_name": "LayoutView",
       "align_content": null,
       "align_items": null,
       "align_self": null,
       "border_bottom": null,
       "border_left": null,
       "border_right": null,
       "border_top": null,
       "bottom": null,
       "display": null,
       "flex": null,
       "flex_flow": null,
       "grid_area": null,
       "grid_auto_columns": null,
       "grid_auto_flow": null,
       "grid_auto_rows": null,
       "grid_column": null,
       "grid_gap": null,
       "grid_row": null,
       "grid_template_areas": null,
       "grid_template_columns": null,
       "grid_template_rows": null,
       "height": null,
       "justify_content": null,
       "justify_items": null,
       "left": null,
       "margin": null,
       "max_height": null,
       "max_width": null,
       "min_height": null,
       "min_width": null,
       "object_fit": null,
       "object_position": null,
       "order": null,
       "overflow": null,
       "padding": null,
       "right": null,
       "top": null,
       "visibility": null,
       "width": null
      }
     },
     "4f82a2a48a0545da8e9a2ed4653fa49e": {
      "model_module": "@jupyter-widgets/controls",
      "model_module_version": "2.0.0",
      "model_name": "HTMLModel",
      "state": {
       "_dom_classes": [],
       "_model_module": "@jupyter-widgets/controls",
       "_model_module_version": "2.0.0",
       "_model_name": "HTMLModel",
       "_view_count": null,
       "_view_module": "@jupyter-widgets/controls",
       "_view_module_version": "2.0.0",
       "_view_name": "HTMLView",
       "description": "",
       "description_allow_html": false,
       "layout": "IPY_MODEL_54150696a1c24b3bab6d1f21e574df38",
       "placeholder": "​",
       "style": "IPY_MODEL_bd398fe40bdb456188fe26a4794839f9",
       "tabbable": null,
       "tooltip": null,
       "value": " 899k/899k [00:00&lt;00:00, 1.70MB/s]"
      }
     },
     "4fabc09ab864436aa3c0ddd5b7d08342": {
      "model_module": "@jupyter-widgets/controls",
      "model_module_version": "2.0.0",
      "model_name": "FloatProgressModel",
      "state": {
       "_dom_classes": [],
       "_model_module": "@jupyter-widgets/controls",
       "_model_module_version": "2.0.0",
       "_model_name": "FloatProgressModel",
       "_view_count": null,
       "_view_module": "@jupyter-widgets/controls",
       "_view_module_version": "2.0.0",
       "_view_name": "ProgressView",
       "bar_style": "success",
       "description": "",
       "description_allow_html": false,
       "layout": "IPY_MODEL_df302430ccc743da94e8230f1af08094",
       "max": 898822.0,
       "min": 0.0,
       "orientation": "horizontal",
       "style": "IPY_MODEL_d2288ebe8ee8446d80124ba3230a47f7",
       "tabbable": null,
       "tooltip": null,
       "value": 898822.0
      }
     },
     "5361f25dc73c4544afb1f840d3bb58ac": {
      "model_module": "@jupyter-widgets/base",
      "model_module_version": "2.0.0",
      "model_name": "LayoutModel",
      "state": {
       "_model_module": "@jupyter-widgets/base",
       "_model_module_version": "2.0.0",
       "_model_name": "LayoutModel",
       "_view_count": null,
       "_view_module": "@jupyter-widgets/base",
       "_view_module_version": "2.0.0",
       "_view_name": "LayoutView",
       "align_content": null,
       "align_items": null,
       "align_self": null,
       "border_bottom": null,
       "border_left": null,
       "border_right": null,
       "border_top": null,
       "bottom": null,
       "display": null,
       "flex": null,
       "flex_flow": null,
       "grid_area": null,
       "grid_auto_columns": null,
       "grid_auto_flow": null,
       "grid_auto_rows": null,
       "grid_column": null,
       "grid_gap": null,
       "grid_row": null,
       "grid_template_areas": null,
       "grid_template_columns": null,
       "grid_template_rows": null,
       "height": null,
       "justify_content": null,
       "justify_items": null,
       "left": null,
       "margin": null,
       "max_height": null,
       "max_width": null,
       "min_height": null,
       "min_width": null,
       "object_fit": null,
       "object_position": null,
       "order": null,
       "overflow": null,
       "padding": null,
       "right": null,
       "top": null,
       "visibility": null,
       "width": null
      }
     },
     "53d757c519a9403c9fcd927985d700bc": {
      "model_module": "@jupyter-widgets/base",
      "model_module_version": "2.0.0",
      "model_name": "LayoutModel",
      "state": {
       "_model_module": "@jupyter-widgets/base",
       "_model_module_version": "2.0.0",
       "_model_name": "LayoutModel",
       "_view_count": null,
       "_view_module": "@jupyter-widgets/base",
       "_view_module_version": "2.0.0",
       "_view_name": "LayoutView",
       "align_content": null,
       "align_items": null,
       "align_self": null,
       "border_bottom": null,
       "border_left": null,
       "border_right": null,
       "border_top": null,
       "bottom": null,
       "display": null,
       "flex": null,
       "flex_flow": null,
       "grid_area": null,
       "grid_auto_columns": null,
       "grid_auto_flow": null,
       "grid_auto_rows": null,
       "grid_column": null,
       "grid_gap": null,
       "grid_row": null,
       "grid_template_areas": null,
       "grid_template_columns": null,
       "grid_template_rows": null,
       "height": null,
       "justify_content": null,
       "justify_items": null,
       "left": null,
       "margin": null,
       "max_height": null,
       "max_width": null,
       "min_height": null,
       "min_width": null,
       "object_fit": null,
       "object_position": null,
       "order": null,
       "overflow": null,
       "padding": null,
       "right": null,
       "top": null,
       "visibility": null,
       "width": null
      }
     },
     "53ecbc26eb8c4ed09eb56d9c3d47ed02": {
      "model_module": "@jupyter-widgets/controls",
      "model_module_version": "2.0.0",
      "model_name": "ProgressStyleModel",
      "state": {
       "_model_module": "@jupyter-widgets/controls",
       "_model_module_version": "2.0.0",
       "_model_name": "ProgressStyleModel",
       "_view_count": null,
       "_view_module": "@jupyter-widgets/base",
       "_view_module_version": "2.0.0",
       "_view_name": "StyleView",
       "bar_color": null,
       "description_width": ""
      }
     },
     "54150696a1c24b3bab6d1f21e574df38": {
      "model_module": "@jupyter-widgets/base",
      "model_module_version": "2.0.0",
      "model_name": "LayoutModel",
      "state": {
       "_model_module": "@jupyter-widgets/base",
       "_model_module_version": "2.0.0",
       "_model_name": "LayoutModel",
       "_view_count": null,
       "_view_module": "@jupyter-widgets/base",
       "_view_module_version": "2.0.0",
       "_view_name": "LayoutView",
       "align_content": null,
       "align_items": null,
       "align_self": null,
       "border_bottom": null,
       "border_left": null,
       "border_right": null,
       "border_top": null,
       "bottom": null,
       "display": null,
       "flex": null,
       "flex_flow": null,
       "grid_area": null,
       "grid_auto_columns": null,
       "grid_auto_flow": null,
       "grid_auto_rows": null,
       "grid_column": null,
       "grid_gap": null,
       "grid_row": null,
       "grid_template_areas": null,
       "grid_template_columns": null,
       "grid_template_rows": null,
       "height": null,
       "justify_content": null,
       "justify_items": null,
       "left": null,
       "margin": null,
       "max_height": null,
       "max_width": null,
       "min_height": null,
       "min_width": null,
       "object_fit": null,
       "object_position": null,
       "order": null,
       "overflow": null,
       "padding": null,
       "right": null,
       "top": null,
       "visibility": null,
       "width": null
      }
     },
     "557811fea8af4ad7b7a06918375f7c07": {
      "model_module": "@jupyter-widgets/controls",
      "model_module_version": "2.0.0",
      "model_name": "HTMLStyleModel",
      "state": {
       "_model_module": "@jupyter-widgets/controls",
       "_model_module_version": "2.0.0",
       "_model_name": "HTMLStyleModel",
       "_view_count": null,
       "_view_module": "@jupyter-widgets/base",
       "_view_module_version": "2.0.0",
       "_view_name": "StyleView",
       "background": null,
       "description_width": "",
       "font_size": null,
       "text_color": null
      }
     },
     "56a2139f68dc40dbb4b03526621a6e9c": {
      "model_module": "@jupyter-widgets/controls",
      "model_module_version": "2.0.0",
      "model_name": "ProgressStyleModel",
      "state": {
       "_model_module": "@jupyter-widgets/controls",
       "_model_module_version": "2.0.0",
       "_model_name": "ProgressStyleModel",
       "_view_count": null,
       "_view_module": "@jupyter-widgets/base",
       "_view_module_version": "2.0.0",
       "_view_name": "StyleView",
       "bar_color": null,
       "description_width": ""
      }
     },
     "58de94dec3eb42e9bc5a521f4b024d12": {
      "model_module": "@jupyter-widgets/base",
      "model_module_version": "2.0.0",
      "model_name": "LayoutModel",
      "state": {
       "_model_module": "@jupyter-widgets/base",
       "_model_module_version": "2.0.0",
       "_model_name": "LayoutModel",
       "_view_count": null,
       "_view_module": "@jupyter-widgets/base",
       "_view_module_version": "2.0.0",
       "_view_name": "LayoutView",
       "align_content": null,
       "align_items": null,
       "align_self": null,
       "border_bottom": null,
       "border_left": null,
       "border_right": null,
       "border_top": null,
       "bottom": null,
       "display": null,
       "flex": null,
       "flex_flow": null,
       "grid_area": null,
       "grid_auto_columns": null,
       "grid_auto_flow": null,
       "grid_auto_rows": null,
       "grid_column": null,
       "grid_gap": null,
       "grid_row": null,
       "grid_template_areas": null,
       "grid_template_columns": null,
       "grid_template_rows": null,
       "height": null,
       "justify_content": null,
       "justify_items": null,
       "left": null,
       "margin": null,
       "max_height": null,
       "max_width": null,
       "min_height": null,
       "min_width": null,
       "object_fit": null,
       "object_position": null,
       "order": null,
       "overflow": null,
       "padding": null,
       "right": null,
       "top": null,
       "visibility": null,
       "width": null
      }
     },
     "5af51de1db4a423fb9a12ea06244dc9c": {
      "model_module": "@jupyter-widgets/base",
      "model_module_version": "2.0.0",
      "model_name": "LayoutModel",
      "state": {
       "_model_module": "@jupyter-widgets/base",
       "_model_module_version": "2.0.0",
       "_model_name": "LayoutModel",
       "_view_count": null,
       "_view_module": "@jupyter-widgets/base",
       "_view_module_version": "2.0.0",
       "_view_name": "LayoutView",
       "align_content": null,
       "align_items": null,
       "align_self": null,
       "border_bottom": null,
       "border_left": null,
       "border_right": null,
       "border_top": null,
       "bottom": null,
       "display": null,
       "flex": null,
       "flex_flow": null,
       "grid_area": null,
       "grid_auto_columns": null,
       "grid_auto_flow": null,
       "grid_auto_rows": null,
       "grid_column": null,
       "grid_gap": null,
       "grid_row": null,
       "grid_template_areas": null,
       "grid_template_columns": null,
       "grid_template_rows": null,
       "height": null,
       "justify_content": null,
       "justify_items": null,
       "left": null,
       "margin": null,
       "max_height": null,
       "max_width": null,
       "min_height": null,
       "min_width": null,
       "object_fit": null,
       "object_position": null,
       "order": null,
       "overflow": null,
       "padding": null,
       "right": null,
       "top": null,
       "visibility": null,
       "width": null
      }
     },
     "5db9a5859d484db9b4dc83d041665197": {
      "model_module": "@jupyter-widgets/base",
      "model_module_version": "2.0.0",
      "model_name": "LayoutModel",
      "state": {
       "_model_module": "@jupyter-widgets/base",
       "_model_module_version": "2.0.0",
       "_model_name": "LayoutModel",
       "_view_count": null,
       "_view_module": "@jupyter-widgets/base",
       "_view_module_version": "2.0.0",
       "_view_name": "LayoutView",
       "align_content": null,
       "align_items": null,
       "align_self": null,
       "border_bottom": null,
       "border_left": null,
       "border_right": null,
       "border_top": null,
       "bottom": null,
       "display": null,
       "flex": null,
       "flex_flow": null,
       "grid_area": null,
       "grid_auto_columns": null,
       "grid_auto_flow": null,
       "grid_auto_rows": null,
       "grid_column": null,
       "grid_gap": null,
       "grid_row": null,
       "grid_template_areas": null,
       "grid_template_columns": null,
       "grid_template_rows": null,
       "height": null,
       "justify_content": null,
       "justify_items": null,
       "left": null,
       "margin": null,
       "max_height": null,
       "max_width": null,
       "min_height": null,
       "min_width": null,
       "object_fit": null,
       "object_position": null,
       "order": null,
       "overflow": null,
       "padding": null,
       "right": null,
       "top": null,
       "visibility": null,
       "width": null
      }
     },
     "5f2faf953c614e779455d788c1d3acd4": {
      "model_module": "@jupyter-widgets/controls",
      "model_module_version": "2.0.0",
      "model_name": "HTMLStyleModel",
      "state": {
       "_model_module": "@jupyter-widgets/controls",
       "_model_module_version": "2.0.0",
       "_model_name": "HTMLStyleModel",
       "_view_count": null,
       "_view_module": "@jupyter-widgets/base",
       "_view_module_version": "2.0.0",
       "_view_name": "StyleView",
       "background": null,
       "description_width": "",
       "font_size": null,
       "text_color": null
      }
     },
     "622fc0e21555432c9f76ad388ee9d25a": {
      "model_module": "@jupyter-widgets/base",
      "model_module_version": "2.0.0",
      "model_name": "LayoutModel",
      "state": {
       "_model_module": "@jupyter-widgets/base",
       "_model_module_version": "2.0.0",
       "_model_name": "LayoutModel",
       "_view_count": null,
       "_view_module": "@jupyter-widgets/base",
       "_view_module_version": "2.0.0",
       "_view_name": "LayoutView",
       "align_content": null,
       "align_items": null,
       "align_self": null,
       "border_bottom": null,
       "border_left": null,
       "border_right": null,
       "border_top": null,
       "bottom": null,
       "display": null,
       "flex": null,
       "flex_flow": null,
       "grid_area": null,
       "grid_auto_columns": null,
       "grid_auto_flow": null,
       "grid_auto_rows": null,
       "grid_column": null,
       "grid_gap": null,
       "grid_row": null,
       "grid_template_areas": null,
       "grid_template_columns": null,
       "grid_template_rows": null,
       "height": null,
       "justify_content": null,
       "justify_items": null,
       "left": null,
       "margin": null,
       "max_height": null,
       "max_width": null,
       "min_height": null,
       "min_width": null,
       "object_fit": null,
       "object_position": null,
       "order": null,
       "overflow": null,
       "padding": null,
       "right": null,
       "top": null,
       "visibility": null,
       "width": null
      }
     },
     "6364af42b7a74e91b03d72af2703347e": {
      "model_module": "@jupyter-widgets/controls",
      "model_module_version": "2.0.0",
      "model_name": "FloatProgressModel",
      "state": {
       "_dom_classes": [],
       "_model_module": "@jupyter-widgets/controls",
       "_model_module_version": "2.0.0",
       "_model_name": "FloatProgressModel",
       "_view_count": null,
       "_view_module": "@jupyter-widgets/controls",
       "_view_module_version": "2.0.0",
       "_view_name": "ProgressView",
       "bar_style": "success",
       "description": "",
       "description_allow_html": false,
       "layout": "IPY_MODEL_53d757c519a9403c9fcd927985d700bc",
       "max": 267832558.0,
       "min": 0.0,
       "orientation": "horizontal",
       "style": "IPY_MODEL_826fd5c8dd2e4f32aee02e2ba6cef6ad",
       "tabbable": null,
       "tooltip": null,
       "value": 267832558.0
      }
     },
     "639df31b088a4e3f9a3e463091af53d7": {
      "model_module": "@jupyter-widgets/base",
      "model_module_version": "2.0.0",
      "model_name": "LayoutModel",
      "state": {
       "_model_module": "@jupyter-widgets/base",
       "_model_module_version": "2.0.0",
       "_model_name": "LayoutModel",
       "_view_count": null,
       "_view_module": "@jupyter-widgets/base",
       "_view_module_version": "2.0.0",
       "_view_name": "LayoutView",
       "align_content": null,
       "align_items": null,
       "align_self": null,
       "border_bottom": null,
       "border_left": null,
       "border_right": null,
       "border_top": null,
       "bottom": null,
       "display": null,
       "flex": null,
       "flex_flow": null,
       "grid_area": null,
       "grid_auto_columns": null,
       "grid_auto_flow": null,
       "grid_auto_rows": null,
       "grid_column": null,
       "grid_gap": null,
       "grid_row": null,
       "grid_template_areas": null,
       "grid_template_columns": null,
       "grid_template_rows": null,
       "height": null,
       "justify_content": null,
       "justify_items": null,
       "left": null,
       "margin": null,
       "max_height": null,
       "max_width": null,
       "min_height": null,
       "min_width": null,
       "object_fit": null,
       "object_position": null,
       "order": null,
       "overflow": null,
       "padding": null,
       "right": null,
       "top": null,
       "visibility": null,
       "width": null
      }
     },
     "69042ae8eb124aa4930f5888eae6db07": {
      "model_module": "@jupyter-widgets/controls",
      "model_module_version": "2.0.0",
      "model_name": "HTMLModel",
      "state": {
       "_dom_classes": [],
       "_model_module": "@jupyter-widgets/controls",
       "_model_module_version": "2.0.0",
       "_model_name": "HTMLModel",
       "_view_count": null,
       "_view_module": "@jupyter-widgets/controls",
       "_view_module_version": "2.0.0",
       "_view_name": "HTMLView",
       "description": "",
       "description_allow_html": false,
       "layout": "IPY_MODEL_a2f303060c4c4a009d3a6a469ac7c30e",
       "placeholder": "​",
       "style": "IPY_MODEL_cfe44468d82743f38afb39813c42be07",
       "tabbable": null,
       "tooltip": null,
       "value": "100%"
      }
     },
     "6b08b393fdf047c0a1aa95117bbe98a4": {
      "model_module": "@jupyter-widgets/controls",
      "model_module_version": "2.0.0",
      "model_name": "HTMLStyleModel",
      "state": {
       "_model_module": "@jupyter-widgets/controls",
       "_model_module_version": "2.0.0",
       "_model_name": "HTMLStyleModel",
       "_view_count": null,
       "_view_module": "@jupyter-widgets/base",
       "_view_module_version": "2.0.0",
       "_view_name": "StyleView",
       "background": null,
       "description_width": "",
       "font_size": null,
       "text_color": null
      }
     },
     "6dac98c9c8b84607a041c25071d1874a": {
      "model_module": "@jupyter-widgets/controls",
      "model_module_version": "2.0.0",
      "model_name": "HTMLModel",
      "state": {
       "_dom_classes": [],
       "_model_module": "@jupyter-widgets/controls",
       "_model_module_version": "2.0.0",
       "_model_name": "HTMLModel",
       "_view_count": null,
       "_view_module": "@jupyter-widgets/controls",
       "_view_module_version": "2.0.0",
       "_view_name": "HTMLView",
       "description": "",
       "description_allow_html": false,
       "layout": "IPY_MODEL_eb0b663c99f34b1aab63f4ca5f226287",
       "placeholder": "​",
       "style": "IPY_MODEL_ad2fa0165a06412aa368c76f3bf254b9",
       "tabbable": null,
       "tooltip": null,
       "value": "vocab.txt: 100%"
      }
     },
     "6e28dce61bcb46bcad489c45957d3ada": {
      "model_module": "@jupyter-widgets/controls",
      "model_module_version": "2.0.0",
      "model_name": "HTMLModel",
      "state": {
       "_dom_classes": [],
       "_model_module": "@jupyter-widgets/controls",
       "_model_module_version": "2.0.0",
       "_model_name": "HTMLModel",
       "_view_count": null,
       "_view_module": "@jupyter-widgets/controls",
       "_view_module_version": "2.0.0",
       "_view_name": "HTMLView",
       "description": "",
       "description_allow_html": false,
       "layout": "IPY_MODEL_b6aecf88800c4d7c844d12d73e1d009d",
       "placeholder": "​",
       "style": "IPY_MODEL_cea00dec601744f78ac929720960bca3",
       "tabbable": null,
       "tooltip": null,
       "value": "vocab.json: 100%"
      }
     },
     "728312e1d6a642f49e55a8a2a69a01ad": {
      "model_module": "@jupyter-widgets/controls",
      "model_module_version": "2.0.0",
      "model_name": "ProgressStyleModel",
      "state": {
       "_model_module": "@jupyter-widgets/controls",
       "_model_module_version": "2.0.0",
       "_model_name": "ProgressStyleModel",
       "_view_count": null,
       "_view_module": "@jupyter-widgets/base",
       "_view_module_version": "2.0.0",
       "_view_name": "StyleView",
       "bar_color": null,
       "description_width": ""
      }
     },
     "7cfde148d0334560b0fddeccda39a438": {
      "model_module": "@jupyter-widgets/controls",
      "model_module_version": "2.0.0",
      "model_name": "HTMLStyleModel",
      "state": {
       "_model_module": "@jupyter-widgets/controls",
       "_model_module_version": "2.0.0",
       "_model_name": "HTMLStyleModel",
       "_view_count": null,
       "_view_module": "@jupyter-widgets/base",
       "_view_module_version": "2.0.0",
       "_view_name": "StyleView",
       "background": null,
       "description_width": "",
       "font_size": null,
       "text_color": null
      }
     },
     "7d32632142dc4bbc864810c70b7fb715": {
      "model_module": "@jupyter-widgets/base",
      "model_module_version": "2.0.0",
      "model_name": "LayoutModel",
      "state": {
       "_model_module": "@jupyter-widgets/base",
       "_model_module_version": "2.0.0",
       "_model_name": "LayoutModel",
       "_view_count": null,
       "_view_module": "@jupyter-widgets/base",
       "_view_module_version": "2.0.0",
       "_view_name": "LayoutView",
       "align_content": null,
       "align_items": null,
       "align_self": null,
       "border_bottom": null,
       "border_left": null,
       "border_right": null,
       "border_top": null,
       "bottom": null,
       "display": null,
       "flex": null,
       "flex_flow": null,
       "grid_area": null,
       "grid_auto_columns": null,
       "grid_auto_flow": null,
       "grid_auto_rows": null,
       "grid_column": null,
       "grid_gap": null,
       "grid_row": null,
       "grid_template_areas": null,
       "grid_template_columns": null,
       "grid_template_rows": null,
       "height": null,
       "justify_content": null,
       "justify_items": null,
       "left": null,
       "margin": null,
       "max_height": null,
       "max_width": null,
       "min_height": null,
       "min_width": null,
       "object_fit": null,
       "object_position": null,
       "order": null,
       "overflow": null,
       "padding": null,
       "right": null,
       "top": null,
       "visibility": null,
       "width": null
      }
     },
     "826fd5c8dd2e4f32aee02e2ba6cef6ad": {
      "model_module": "@jupyter-widgets/controls",
      "model_module_version": "2.0.0",
      "model_name": "ProgressStyleModel",
      "state": {
       "_model_module": "@jupyter-widgets/controls",
       "_model_module_version": "2.0.0",
       "_model_name": "ProgressStyleModel",
       "_view_count": null,
       "_view_module": "@jupyter-widgets/base",
       "_view_module_version": "2.0.0",
       "_view_name": "StyleView",
       "bar_color": null,
       "description_width": ""
      }
     },
     "844e28edea844e0fb0a2dcb87398a8a6": {
      "model_module": "@jupyter-widgets/controls",
      "model_module_version": "2.0.0",
      "model_name": "HTMLModel",
      "state": {
       "_dom_classes": [],
       "_model_module": "@jupyter-widgets/controls",
       "_model_module_version": "2.0.0",
       "_model_name": "HTMLModel",
       "_view_count": null,
       "_view_module": "@jupyter-widgets/controls",
       "_view_module_version": "2.0.0",
       "_view_name": "HTMLView",
       "description": "",
       "description_allow_html": false,
       "layout": "IPY_MODEL_639df31b088a4e3f9a3e463091af53d7",
       "placeholder": "​",
       "style": "IPY_MODEL_021edf3dff9843a4a734227cdf3b2fea",
       "tabbable": null,
       "tooltip": null,
       "value": "model.safetensors: 100%"
      }
     },
     "85ed9a07f7804715aed5ca18221c5505": {
      "model_module": "@jupyter-widgets/controls",
      "model_module_version": "2.0.0",
      "model_name": "HTMLStyleModel",
      "state": {
       "_model_module": "@jupyter-widgets/controls",
       "_model_module_version": "2.0.0",
       "_model_name": "HTMLStyleModel",
       "_view_count": null,
       "_view_module": "@jupyter-widgets/base",
       "_view_module_version": "2.0.0",
       "_view_name": "StyleView",
       "background": null,
       "description_width": "",
       "font_size": null,
       "text_color": null
      }
     },
     "87260a9c83ab4ff6b600ab5fa1f95559": {
      "model_module": "@jupyter-widgets/controls",
      "model_module_version": "2.0.0",
      "model_name": "HTMLModel",
      "state": {
       "_dom_classes": [],
       "_model_module": "@jupyter-widgets/controls",
       "_model_module_version": "2.0.0",
       "_model_name": "HTMLModel",
       "_view_count": null,
       "_view_module": "@jupyter-widgets/controls",
       "_view_module_version": "2.0.0",
       "_view_name": "HTMLView",
       "description": "",
       "description_allow_html": false,
       "layout": "IPY_MODEL_ff7360d232f749f9a880e472f3e4ad78",
       "placeholder": "​",
       "style": "IPY_MODEL_e12c41160abe4a64962dee2256d274c7",
       "tabbable": null,
       "tooltip": null,
       "value": "config.json: 100%"
      }
     },
     "87d75bda3f7a419ab3521eb4a81b09cc": {
      "model_module": "@jupyter-widgets/base",
      "model_module_version": "2.0.0",
      "model_name": "LayoutModel",
      "state": {
       "_model_module": "@jupyter-widgets/base",
       "_model_module_version": "2.0.0",
       "_model_name": "LayoutModel",
       "_view_count": null,
       "_view_module": "@jupyter-widgets/base",
       "_view_module_version": "2.0.0",
       "_view_name": "LayoutView",
       "align_content": null,
       "align_items": null,
       "align_self": null,
       "border_bottom": null,
       "border_left": null,
       "border_right": null,
       "border_top": null,
       "bottom": null,
       "display": null,
       "flex": null,
       "flex_flow": null,
       "grid_area": null,
       "grid_auto_columns": null,
       "grid_auto_flow": null,
       "grid_auto_rows": null,
       "grid_column": null,
       "grid_gap": null,
       "grid_row": null,
       "grid_template_areas": null,
       "grid_template_columns": null,
       "grid_template_rows": null,
       "height": null,
       "justify_content": null,
       "justify_items": null,
       "left": null,
       "margin": null,
       "max_height": null,
       "max_width": null,
       "min_height": null,
       "min_width": null,
       "object_fit": null,
       "object_position": null,
       "order": null,
       "overflow": null,
       "padding": null,
       "right": null,
       "top": null,
       "visibility": null,
       "width": null
      }
     },
     "8b88deb8a0d9455082abc65af75c19b2": {
      "model_module": "@jupyter-widgets/controls",
      "model_module_version": "2.0.0",
      "model_name": "FloatProgressModel",
      "state": {
       "_dom_classes": [],
       "_model_module": "@jupyter-widgets/controls",
       "_model_module_version": "2.0.0",
       "_model_name": "FloatProgressModel",
       "_view_count": null,
       "_view_module": "@jupyter-widgets/controls",
       "_view_module_version": "2.0.0",
       "_view_name": "ProgressView",
       "bar_style": "success",
       "description": "",
       "description_allow_html": false,
       "layout": "IPY_MODEL_f6f18490430645c7bc8551178fd4b2ad",
       "max": 456318.0,
       "min": 0.0,
       "orientation": "horizontal",
       "style": "IPY_MODEL_200202ca9886426f9640e6712b38b7f3",
       "tabbable": null,
       "tooltip": null,
       "value": 456318.0
      }
     },
     "8bec216307314876a5b50bc295af9fc0": {
      "model_module": "@jupyter-widgets/base",
      "model_module_version": "2.0.0",
      "model_name": "LayoutModel",
      "state": {
       "_model_module": "@jupyter-widgets/base",
       "_model_module_version": "2.0.0",
       "_model_name": "LayoutModel",
       "_view_count": null,
       "_view_module": "@jupyter-widgets/base",
       "_view_module_version": "2.0.0",
       "_view_name": "LayoutView",
       "align_content": null,
       "align_items": null,
       "align_self": null,
       "border_bottom": null,
       "border_left": null,
       "border_right": null,
       "border_top": null,
       "bottom": null,
       "display": null,
       "flex": null,
       "flex_flow": null,
       "grid_area": null,
       "grid_auto_columns": null,
       "grid_auto_flow": null,
       "grid_auto_rows": null,
       "grid_column": null,
       "grid_gap": null,
       "grid_row": null,
       "grid_template_areas": null,
       "grid_template_columns": null,
       "grid_template_rows": null,
       "height": null,
       "justify_content": null,
       "justify_items": null,
       "left": null,
       "margin": null,
       "max_height": null,
       "max_width": null,
       "min_height": null,
       "min_width": null,
       "object_fit": null,
       "object_position": null,
       "order": null,
       "overflow": null,
       "padding": null,
       "right": null,
       "top": null,
       "visibility": null,
       "width": null
      }
     },
     "90464404ea054b1cbd2e4bac76dba785": {
      "model_module": "@jupyter-widgets/controls",
      "model_module_version": "2.0.0",
      "model_name": "HTMLStyleModel",
      "state": {
       "_model_module": "@jupyter-widgets/controls",
       "_model_module_version": "2.0.0",
       "_model_name": "HTMLStyleModel",
       "_view_count": null,
       "_view_module": "@jupyter-widgets/base",
       "_view_module_version": "2.0.0",
       "_view_name": "StyleView",
       "background": null,
       "description_width": "",
       "font_size": null,
       "text_color": null
      }
     },
     "91f257e3dfb048318b2396e97e2189a5": {
      "model_module": "@jupyter-widgets/controls",
      "model_module_version": "2.0.0",
      "model_name": "HTMLModel",
      "state": {
       "_dom_classes": [],
       "_model_module": "@jupyter-widgets/controls",
       "_model_module_version": "2.0.0",
       "_model_name": "HTMLModel",
       "_view_count": null,
       "_view_module": "@jupyter-widgets/controls",
       "_view_module_version": "2.0.0",
       "_view_name": "HTMLView",
       "description": "",
       "description_allow_html": false,
       "layout": "IPY_MODEL_5db9a5859d484db9b4dc83d041665197",
       "placeholder": "​",
       "style": "IPY_MODEL_ee7cd953893b43debf7a474b9aab66c1",
       "tabbable": null,
       "tooltip": null,
       "value": " 271/271 [00:17&lt;00:00, 16.63it/s]"
      }
     },
     "959f8cdf4a0a4f86a95d20d2fe343000": {
      "model_module": "@jupyter-widgets/base",
      "model_module_version": "2.0.0",
      "model_name": "LayoutModel",
      "state": {
       "_model_module": "@jupyter-widgets/base",
       "_model_module_version": "2.0.0",
       "_model_name": "LayoutModel",
       "_view_count": null,
       "_view_module": "@jupyter-widgets/base",
       "_view_module_version": "2.0.0",
       "_view_name": "LayoutView",
       "align_content": null,
       "align_items": null,
       "align_self": null,
       "border_bottom": null,
       "border_left": null,
       "border_right": null,
       "border_top": null,
       "bottom": null,
       "display": null,
       "flex": null,
       "flex_flow": null,
       "grid_area": null,
       "grid_auto_columns": null,
       "grid_auto_flow": null,
       "grid_auto_rows": null,
       "grid_column": null,
       "grid_gap": null,
       "grid_row": null,
       "grid_template_areas": null,
       "grid_template_columns": null,
       "grid_template_rows": null,
       "height": null,
       "justify_content": null,
       "justify_items": null,
       "left": null,
       "margin": null,
       "max_height": null,
       "max_width": null,
       "min_height": null,
       "min_width": null,
       "object_fit": null,
       "object_position": null,
       "order": null,
       "overflow": null,
       "padding": null,
       "right": null,
       "top": null,
       "visibility": null,
       "width": null
      }
     },
     "978af3a944f74aed8087b8a33cbf7c13": {
      "model_module": "@jupyter-widgets/controls",
      "model_module_version": "2.0.0",
      "model_name": "HTMLModel",
      "state": {
       "_dom_classes": [],
       "_model_module": "@jupyter-widgets/controls",
       "_model_module_version": "2.0.0",
       "_model_name": "HTMLModel",
       "_view_count": null,
       "_view_module": "@jupyter-widgets/controls",
       "_view_module_version": "2.0.0",
       "_view_name": "HTMLView",
       "description": "",
       "description_allow_html": false,
       "layout": "IPY_MODEL_c74c5ea541a2498c92049bf77ac8baaa",
       "placeholder": "​",
       "style": "IPY_MODEL_85ed9a07f7804715aed5ca18221c5505",
       "tabbable": null,
       "tooltip": null,
       "value": "merges.txt: 100%"
      }
     },
     "988d068bc9b54e03adebfbb428d00270": {
      "model_module": "@jupyter-widgets/controls",
      "model_module_version": "2.0.0",
      "model_name": "HTMLStyleModel",
      "state": {
       "_model_module": "@jupyter-widgets/controls",
       "_model_module_version": "2.0.0",
       "_model_name": "HTMLStyleModel",
       "_view_count": null,
       "_view_module": "@jupyter-widgets/base",
       "_view_module_version": "2.0.0",
       "_view_name": "StyleView",
       "background": null,
       "description_width": "",
       "font_size": null,
       "text_color": null
      }
     },
     "9908ff0bc57c4d9bafe614fea42c8fc1": {
      "model_module": "@jupyter-widgets/controls",
      "model_module_version": "2.0.0",
      "model_name": "FloatProgressModel",
      "state": {
       "_dom_classes": [],
       "_model_module": "@jupyter-widgets/controls",
       "_model_module_version": "2.0.0",
       "_model_name": "FloatProgressModel",
       "_view_count": null,
       "_view_module": "@jupyter-widgets/controls",
       "_view_module_version": "2.0.0",
       "_view_name": "ProgressView",
       "bar_style": "success",
       "description": "",
       "description_allow_html": false,
       "layout": "IPY_MODEL_d7726d5cacf542dda9f0ce8ae4242759",
       "max": 629.0,
       "min": 0.0,
       "orientation": "horizontal",
       "style": "IPY_MODEL_53ecbc26eb8c4ed09eb56d9c3d47ed02",
       "tabbable": null,
       "tooltip": null,
       "value": 629.0
      }
     },
     "9a2957a0f0b141a3a1ecd81df003e441": {
      "model_module": "@jupyter-widgets/controls",
      "model_module_version": "2.0.0",
      "model_name": "ProgressStyleModel",
      "state": {
       "_model_module": "@jupyter-widgets/controls",
       "_model_module_version": "2.0.0",
       "_model_name": "ProgressStyleModel",
       "_view_count": null,
       "_view_module": "@jupyter-widgets/base",
       "_view_module_version": "2.0.0",
       "_view_name": "StyleView",
       "bar_color": null,
       "description_width": ""
      }
     },
     "9e15acc4143f40f880bb1535fa2667ad": {
      "model_module": "@jupyter-widgets/base",
      "model_module_version": "2.0.0",
      "model_name": "LayoutModel",
      "state": {
       "_model_module": "@jupyter-widgets/base",
       "_model_module_version": "2.0.0",
       "_model_name": "LayoutModel",
       "_view_count": null,
       "_view_module": "@jupyter-widgets/base",
       "_view_module_version": "2.0.0",
       "_view_name": "LayoutView",
       "align_content": null,
       "align_items": null,
       "align_self": null,
       "border_bottom": null,
       "border_left": null,
       "border_right": null,
       "border_top": null,
       "bottom": null,
       "display": null,
       "flex": null,
       "flex_flow": null,
       "grid_area": null,
       "grid_auto_columns": null,
       "grid_auto_flow": null,
       "grid_auto_rows": null,
       "grid_column": null,
       "grid_gap": null,
       "grid_row": null,
       "grid_template_areas": null,
       "grid_template_columns": null,
       "grid_template_rows": null,
       "height": null,
       "justify_content": null,
       "justify_items": null,
       "left": null,
       "margin": null,
       "max_height": null,
       "max_width": null,
       "min_height": null,
       "min_width": null,
       "object_fit": null,
       "object_position": null,
       "order": null,
       "overflow": null,
       "padding": null,
       "right": null,
       "top": null,
       "visibility": null,
       "width": null
      }
     },
     "a2f303060c4c4a009d3a6a469ac7c30e": {
      "model_module": "@jupyter-widgets/base",
      "model_module_version": "2.0.0",
      "model_name": "LayoutModel",
      "state": {
       "_model_module": "@jupyter-widgets/base",
       "_model_module_version": "2.0.0",
       "_model_name": "LayoutModel",
       "_view_count": null,
       "_view_module": "@jupyter-widgets/base",
       "_view_module_version": "2.0.0",
       "_view_name": "LayoutView",
       "align_content": null,
       "align_items": null,
       "align_self": null,
       "border_bottom": null,
       "border_left": null,
       "border_right": null,
       "border_top": null,
       "bottom": null,
       "display": null,
       "flex": null,
       "flex_flow": null,
       "grid_area": null,
       "grid_auto_columns": null,
       "grid_auto_flow": null,
       "grid_auto_rows": null,
       "grid_column": null,
       "grid_gap": null,
       "grid_row": null,
       "grid_template_areas": null,
       "grid_template_columns": null,
       "grid_template_rows": null,
       "height": null,
       "justify_content": null,
       "justify_items": null,
       "left": null,
       "margin": null,
       "max_height": null,
       "max_width": null,
       "min_height": null,
       "min_width": null,
       "object_fit": null,
       "object_position": null,
       "order": null,
       "overflow": null,
       "padding": null,
       "right": null,
       "top": null,
       "visibility": null,
       "width": null
      }
     },
     "a4126040a4a04790a449e68ee3605fd0": {
      "model_module": "@jupyter-widgets/controls",
      "model_module_version": "2.0.0",
      "model_name": "HTMLModel",
      "state": {
       "_dom_classes": [],
       "_model_module": "@jupyter-widgets/controls",
       "_model_module_version": "2.0.0",
       "_model_name": "HTMLModel",
       "_view_count": null,
       "_view_module": "@jupyter-widgets/controls",
       "_view_module_version": "2.0.0",
       "_view_name": "HTMLView",
       "description": "",
       "description_allow_html": false,
       "layout": "IPY_MODEL_2ec7a440e52c40a2ae37a841b4fa0793",
       "placeholder": "​",
       "style": "IPY_MODEL_e3903cd1fdbe4f8ba0cfc9c0b8691792",
       "tabbable": null,
       "tooltip": null,
       "value": " 271/271 [00:00&lt;00:00, 3314.81it/s]"
      }
     },
     "a457079215194cd6a3398324e305fd76": {
      "model_module": "@jupyter-widgets/controls",
      "model_module_version": "2.0.0",
      "model_name": "HBoxModel",
      "state": {
       "_dom_classes": [],
       "_model_module": "@jupyter-widgets/controls",
       "_model_module_version": "2.0.0",
       "_model_name": "HBoxModel",
       "_view_count": null,
       "_view_module": "@jupyter-widgets/controls",
       "_view_module_version": "2.0.0",
       "_view_name": "HBoxView",
       "box_style": "",
       "children": [
        "IPY_MODEL_87260a9c83ab4ff6b600ab5fa1f95559",
        "IPY_MODEL_2bd4153d9f3a4316b5331ac322015d31",
        "IPY_MODEL_cc52fd323a94466c8ada076b9ee73b7f"
       ],
       "layout": "IPY_MODEL_1fc64e6ac2034dcea04a36525c694805",
       "tabbable": null,
       "tooltip": null
      }
     },
     "a81ca40ea5e74474a9f6c92a23b6e540": {
      "model_module": "@jupyter-widgets/base",
      "model_module_version": "2.0.0",
      "model_name": "LayoutModel",
      "state": {
       "_model_module": "@jupyter-widgets/base",
       "_model_module_version": "2.0.0",
       "_model_name": "LayoutModel",
       "_view_count": null,
       "_view_module": "@jupyter-widgets/base",
       "_view_module_version": "2.0.0",
       "_view_name": "LayoutView",
       "align_content": null,
       "align_items": null,
       "align_self": null,
       "border_bottom": null,
       "border_left": null,
       "border_right": null,
       "border_top": null,
       "bottom": null,
       "display": null,
       "flex": null,
       "flex_flow": null,
       "grid_area": null,
       "grid_auto_columns": null,
       "grid_auto_flow": null,
       "grid_auto_rows": null,
       "grid_column": null,
       "grid_gap": null,
       "grid_row": null,
       "grid_template_areas": null,
       "grid_template_columns": null,
       "grid_template_rows": null,
       "height": null,
       "justify_content": null,
       "justify_items": null,
       "left": null,
       "margin": null,
       "max_height": null,
       "max_width": null,
       "min_height": null,
       "min_width": null,
       "object_fit": null,
       "object_position": null,
       "order": null,
       "overflow": null,
       "padding": null,
       "right": null,
       "top": null,
       "visibility": null,
       "width": null
      }
     },
     "acf08ff69ca147e79ec2736abf371b47": {
      "model_module": "@jupyter-widgets/base",
      "model_module_version": "2.0.0",
      "model_name": "LayoutModel",
      "state": {
       "_model_module": "@jupyter-widgets/base",
       "_model_module_version": "2.0.0",
       "_model_name": "LayoutModel",
       "_view_count": null,
       "_view_module": "@jupyter-widgets/base",
       "_view_module_version": "2.0.0",
       "_view_name": "LayoutView",
       "align_content": null,
       "align_items": null,
       "align_self": null,
       "border_bottom": null,
       "border_left": null,
       "border_right": null,
       "border_top": null,
       "bottom": null,
       "display": null,
       "flex": null,
       "flex_flow": null,
       "grid_area": null,
       "grid_auto_columns": null,
       "grid_auto_flow": null,
       "grid_auto_rows": null,
       "grid_column": null,
       "grid_gap": null,
       "grid_row": null,
       "grid_template_areas": null,
       "grid_template_columns": null,
       "grid_template_rows": null,
       "height": null,
       "justify_content": null,
       "justify_items": null,
       "left": null,
       "margin": null,
       "max_height": null,
       "max_width": null,
       "min_height": null,
       "min_width": null,
       "object_fit": null,
       "object_position": null,
       "order": null,
       "overflow": null,
       "padding": null,
       "right": null,
       "top": null,
       "visibility": null,
       "width": null
      }
     },
     "acf9c2ebea1f4f0083e3a4a1115db10b": {
      "model_module": "@jupyter-widgets/controls",
      "model_module_version": "2.0.0",
      "model_name": "HTMLModel",
      "state": {
       "_dom_classes": [],
       "_model_module": "@jupyter-widgets/controls",
       "_model_module_version": "2.0.0",
       "_model_name": "HTMLModel",
       "_view_count": null,
       "_view_module": "@jupyter-widgets/controls",
       "_view_module_version": "2.0.0",
       "_view_name": "HTMLView",
       "description": "",
       "description_allow_html": false,
       "layout": "IPY_MODEL_5af51de1db4a423fb9a12ea06244dc9c",
       "placeholder": "​",
       "style": "IPY_MODEL_d93009dcfc294c9189a9f68919202853",
       "tabbable": null,
       "tooltip": null,
       "value": "tokenizer_config.json: 100%"
      }
     },
     "ad2fa0165a06412aa368c76f3bf254b9": {
      "model_module": "@jupyter-widgets/controls",
      "model_module_version": "2.0.0",
      "model_name": "HTMLStyleModel",
      "state": {
       "_model_module": "@jupyter-widgets/controls",
       "_model_module_version": "2.0.0",
       "_model_name": "HTMLStyleModel",
       "_view_count": null,
       "_view_module": "@jupyter-widgets/base",
       "_view_module_version": "2.0.0",
       "_view_name": "StyleView",
       "background": null,
       "description_width": "",
       "font_size": null,
       "text_color": null
      }
     },
     "ad7748fe2e754fbea80b276439ef011c": {
      "model_module": "@jupyter-widgets/controls",
      "model_module_version": "2.0.0",
      "model_name": "HTMLModel",
      "state": {
       "_dom_classes": [],
       "_model_module": "@jupyter-widgets/controls",
       "_model_module_version": "2.0.0",
       "_model_name": "HTMLModel",
       "_view_count": null,
       "_view_module": "@jupyter-widgets/controls",
       "_view_module_version": "2.0.0",
       "_view_name": "HTMLView",
       "description": "",
       "description_allow_html": false,
       "layout": "IPY_MODEL_5361f25dc73c4544afb1f840d3bb58ac",
       "placeholder": "​",
       "style": "IPY_MODEL_90464404ea054b1cbd2e4bac76dba785",
       "tabbable": null,
       "tooltip": null,
       "value": " 150/150 [00:00&lt;00:00, 11.8kB/s]"
      }
     },
     "af97e746b0ac477e90f801302c22d64d": {
      "model_module": "@jupyter-widgets/controls",
      "model_module_version": "2.0.0",
      "model_name": "HBoxModel",
      "state": {
       "_dom_classes": [],
       "_model_module": "@jupyter-widgets/controls",
       "_model_module_version": "2.0.0",
       "_model_name": "HBoxModel",
       "_view_count": null,
       "_view_module": "@jupyter-widgets/controls",
       "_view_module_version": "2.0.0",
       "_view_name": "HBoxView",
       "box_style": "",
       "children": [
        "IPY_MODEL_69042ae8eb124aa4930f5888eae6db07",
        "IPY_MODEL_e6e882feb41f402483a6eaeffa4da5cc",
        "IPY_MODEL_a4126040a4a04790a449e68ee3605fd0"
       ],
       "layout": "IPY_MODEL_87d75bda3f7a419ab3521eb4a81b09cc",
       "tabbable": null,
       "tooltip": null
      }
     },
     "b2bcfb5264804a3ebbc486f9c1ff926e": {
      "model_module": "@jupyter-widgets/base",
      "model_module_version": "2.0.0",
      "model_name": "LayoutModel",
      "state": {
       "_model_module": "@jupyter-widgets/base",
       "_model_module_version": "2.0.0",
       "_model_name": "LayoutModel",
       "_view_count": null,
       "_view_module": "@jupyter-widgets/base",
       "_view_module_version": "2.0.0",
       "_view_name": "LayoutView",
       "align_content": null,
       "align_items": null,
       "align_self": null,
       "border_bottom": null,
       "border_left": null,
       "border_right": null,
       "border_top": null,
       "bottom": null,
       "display": null,
       "flex": null,
       "flex_flow": null,
       "grid_area": null,
       "grid_auto_columns": null,
       "grid_auto_flow": null,
       "grid_auto_rows": null,
       "grid_column": null,
       "grid_gap": null,
       "grid_row": null,
       "grid_template_areas": null,
       "grid_template_columns": null,
       "grid_template_rows": null,
       "height": null,
       "justify_content": null,
       "justify_items": null,
       "left": null,
       "margin": null,
       "max_height": null,
       "max_width": null,
       "min_height": null,
       "min_width": null,
       "object_fit": null,
       "object_position": null,
       "order": null,
       "overflow": null,
       "padding": null,
       "right": null,
       "top": null,
       "visibility": null,
       "width": null
      }
     },
     "b6aecf88800c4d7c844d12d73e1d009d": {
      "model_module": "@jupyter-widgets/base",
      "model_module_version": "2.0.0",
      "model_name": "LayoutModel",
      "state": {
       "_model_module": "@jupyter-widgets/base",
       "_model_module_version": "2.0.0",
       "_model_name": "LayoutModel",
       "_view_count": null,
       "_view_module": "@jupyter-widgets/base",
       "_view_module_version": "2.0.0",
       "_view_name": "LayoutView",
       "align_content": null,
       "align_items": null,
       "align_self": null,
       "border_bottom": null,
       "border_left": null,
       "border_right": null,
       "border_top": null,
       "bottom": null,
       "display": null,
       "flex": null,
       "flex_flow": null,
       "grid_area": null,
       "grid_auto_columns": null,
       "grid_auto_flow": null,
       "grid_auto_rows": null,
       "grid_column": null,
       "grid_gap": null,
       "grid_row": null,
       "grid_template_areas": null,
       "grid_template_columns": null,
       "grid_template_rows": null,
       "height": null,
       "justify_content": null,
       "justify_items": null,
       "left": null,
       "margin": null,
       "max_height": null,
       "max_width": null,
       "min_height": null,
       "min_width": null,
       "object_fit": null,
       "object_position": null,
       "order": null,
       "overflow": null,
       "padding": null,
       "right": null,
       "top": null,
       "visibility": null,
       "width": null
      }
     },
     "bd398fe40bdb456188fe26a4794839f9": {
      "model_module": "@jupyter-widgets/controls",
      "model_module_version": "2.0.0",
      "model_name": "HTMLStyleModel",
      "state": {
       "_model_module": "@jupyter-widgets/controls",
       "_model_module_version": "2.0.0",
       "_model_name": "HTMLStyleModel",
       "_view_count": null,
       "_view_module": "@jupyter-widgets/base",
       "_view_module_version": "2.0.0",
       "_view_name": "StyleView",
       "background": null,
       "description_width": "",
       "font_size": null,
       "text_color": null
      }
     },
     "c1b006c70211441e9c4d84cf5c98cdad": {
      "model_module": "@jupyter-widgets/controls",
      "model_module_version": "2.0.0",
      "model_name": "HTMLModel",
      "state": {
       "_dom_classes": [],
       "_model_module": "@jupyter-widgets/controls",
       "_model_module_version": "2.0.0",
       "_model_name": "HTMLModel",
       "_view_count": null,
       "_view_module": "@jupyter-widgets/controls",
       "_view_module_version": "2.0.0",
       "_view_name": "HTMLView",
       "description": "",
       "description_allow_html": false,
       "layout": "IPY_MODEL_b2bcfb5264804a3ebbc486f9c1ff926e",
       "placeholder": "​",
       "style": "IPY_MODEL_13d1727e563445e1bb2ecbfc2177fb81",
       "tabbable": null,
       "tooltip": null,
       "value": "config.json: 100%"
      }
     },
     "c3e579b8a0c846458edb2ffdfa8bbfce": {
      "model_module": "@jupyter-widgets/base",
      "model_module_version": "2.0.0",
      "model_name": "LayoutModel",
      "state": {
       "_model_module": "@jupyter-widgets/base",
       "_model_module_version": "2.0.0",
       "_model_name": "LayoutModel",
       "_view_count": null,
       "_view_module": "@jupyter-widgets/base",
       "_view_module_version": "2.0.0",
       "_view_name": "LayoutView",
       "align_content": null,
       "align_items": null,
       "align_self": null,
       "border_bottom": null,
       "border_left": null,
       "border_right": null,
       "border_top": null,
       "bottom": null,
       "display": null,
       "flex": null,
       "flex_flow": null,
       "grid_area": null,
       "grid_auto_columns": null,
       "grid_auto_flow": null,
       "grid_auto_rows": null,
       "grid_column": null,
       "grid_gap": null,
       "grid_row": null,
       "grid_template_areas": null,
       "grid_template_columns": null,
       "grid_template_rows": null,
       "height": null,
       "justify_content": null,
       "justify_items": null,
       "left": null,
       "margin": null,
       "max_height": null,
       "max_width": null,
       "min_height": null,
       "min_width": null,
       "object_fit": null,
       "object_position": null,
       "order": null,
       "overflow": null,
       "padding": null,
       "right": null,
       "top": null,
       "visibility": null,
       "width": null
      }
     },
     "c43c179aa5b148c0bd49afe1906c5f0b": {
      "model_module": "@jupyter-widgets/base",
      "model_module_version": "2.0.0",
      "model_name": "LayoutModel",
      "state": {
       "_model_module": "@jupyter-widgets/base",
       "_model_module_version": "2.0.0",
       "_model_name": "LayoutModel",
       "_view_count": null,
       "_view_module": "@jupyter-widgets/base",
       "_view_module_version": "2.0.0",
       "_view_name": "LayoutView",
       "align_content": null,
       "align_items": null,
       "align_self": null,
       "border_bottom": null,
       "border_left": null,
       "border_right": null,
       "border_top": null,
       "bottom": null,
       "display": null,
       "flex": null,
       "flex_flow": null,
       "grid_area": null,
       "grid_auto_columns": null,
       "grid_auto_flow": null,
       "grid_auto_rows": null,
       "grid_column": null,
       "grid_gap": null,
       "grid_row": null,
       "grid_template_areas": null,
       "grid_template_columns": null,
       "grid_template_rows": null,
       "height": null,
       "justify_content": null,
       "justify_items": null,
       "left": null,
       "margin": null,
       "max_height": null,
       "max_width": null,
       "min_height": null,
       "min_width": null,
       "object_fit": null,
       "object_position": null,
       "order": null,
       "overflow": null,
       "padding": null,
       "right": null,
       "top": null,
       "visibility": null,
       "width": null
      }
     },
     "c74c5ea541a2498c92049bf77ac8baaa": {
      "model_module": "@jupyter-widgets/base",
      "model_module_version": "2.0.0",
      "model_name": "LayoutModel",
      "state": {
       "_model_module": "@jupyter-widgets/base",
       "_model_module_version": "2.0.0",
       "_model_name": "LayoutModel",
       "_view_count": null,
       "_view_module": "@jupyter-widgets/base",
       "_view_module_version": "2.0.0",
       "_view_name": "LayoutView",
       "align_content": null,
       "align_items": null,
       "align_self": null,
       "border_bottom": null,
       "border_left": null,
       "border_right": null,
       "border_top": null,
       "bottom": null,
       "display": null,
       "flex": null,
       "flex_flow": null,
       "grid_area": null,
       "grid_auto_columns": null,
       "grid_auto_flow": null,
       "grid_auto_rows": null,
       "grid_column": null,
       "grid_gap": null,
       "grid_row": null,
       "grid_template_areas": null,
       "grid_template_columns": null,
       "grid_template_rows": null,
       "height": null,
       "justify_content": null,
       "justify_items": null,
       "left": null,
       "margin": null,
       "max_height": null,
       "max_width": null,
       "min_height": null,
       "min_width": null,
       "object_fit": null,
       "object_position": null,
       "order": null,
       "overflow": null,
       "padding": null,
       "right": null,
       "top": null,
       "visibility": null,
       "width": null
      }
     },
     "c8d34cee0cc3441ebef061af1087c91d": {
      "model_module": "@jupyter-widgets/controls",
      "model_module_version": "2.0.0",
      "model_name": "HTMLModel",
      "state": {
       "_dom_classes": [],
       "_model_module": "@jupyter-widgets/controls",
       "_model_module_version": "2.0.0",
       "_model_name": "HTMLModel",
       "_view_count": null,
       "_view_module": "@jupyter-widgets/controls",
       "_view_module_version": "2.0.0",
       "_view_name": "HTMLView",
       "description": "",
       "description_allow_html": false,
       "layout": "IPY_MODEL_9e15acc4143f40f880bb1535fa2667ad",
       "placeholder": "​",
       "style": "IPY_MODEL_269e68bbde944a6c88fa37f91fcf59ea",
       "tabbable": null,
       "tooltip": null,
       "value": " 456k/456k [00:00&lt;00:00, 29.0MB/s]"
      }
     },
     "ca36f2574dd843f68ee477e832c02c0d": {
      "model_module": "@jupyter-widgets/base",
      "model_module_version": "2.0.0",
      "model_name": "LayoutModel",
      "state": {
       "_model_module": "@jupyter-widgets/base",
       "_model_module_version": "2.0.0",
       "_model_name": "LayoutModel",
       "_view_count": null,
       "_view_module": "@jupyter-widgets/base",
       "_view_module_version": "2.0.0",
       "_view_name": "LayoutView",
       "align_content": null,
       "align_items": null,
       "align_self": null,
       "border_bottom": null,
       "border_left": null,
       "border_right": null,
       "border_top": null,
       "bottom": null,
       "display": null,
       "flex": null,
       "flex_flow": null,
       "grid_area": null,
       "grid_auto_columns": null,
       "grid_auto_flow": null,
       "grid_auto_rows": null,
       "grid_column": null,
       "grid_gap": null,
       "grid_row": null,
       "grid_template_areas": null,
       "grid_template_columns": null,
       "grid_template_rows": null,
       "height": null,
       "justify_content": null,
       "justify_items": null,
       "left": null,
       "margin": null,
       "max_height": null,
       "max_width": null,
       "min_height": null,
       "min_width": null,
       "object_fit": null,
       "object_position": null,
       "order": null,
       "overflow": null,
       "padding": null,
       "right": null,
       "top": null,
       "visibility": null,
       "width": null
      }
     },
     "cc52fd323a94466c8ada076b9ee73b7f": {
      "model_module": "@jupyter-widgets/controls",
      "model_module_version": "2.0.0",
      "model_name": "HTMLModel",
      "state": {
       "_dom_classes": [],
       "_model_module": "@jupyter-widgets/controls",
       "_model_module_version": "2.0.0",
       "_model_name": "HTMLModel",
       "_view_count": null,
       "_view_module": "@jupyter-widgets/controls",
       "_view_module_version": "2.0.0",
       "_view_name": "HTMLView",
       "description": "",
       "description_allow_html": false,
       "layout": "IPY_MODEL_252f1a9d89854db98c5335bb3140169d",
       "placeholder": "​",
       "style": "IPY_MODEL_557811fea8af4ad7b7a06918375f7c07",
       "tabbable": null,
       "tooltip": null,
       "value": " 747/747 [00:00&lt;00:00, 58.9kB/s]"
      }
     },
     "cea00dec601744f78ac929720960bca3": {
      "model_module": "@jupyter-widgets/controls",
      "model_module_version": "2.0.0",
      "model_name": "HTMLStyleModel",
      "state": {
       "_model_module": "@jupyter-widgets/controls",
       "_model_module_version": "2.0.0",
       "_model_name": "HTMLStyleModel",
       "_view_count": null,
       "_view_module": "@jupyter-widgets/base",
       "_view_module_version": "2.0.0",
       "_view_name": "StyleView",
       "background": null,
       "description_width": "",
       "font_size": null,
       "text_color": null
      }
     },
     "cfe44468d82743f38afb39813c42be07": {
      "model_module": "@jupyter-widgets/controls",
      "model_module_version": "2.0.0",
      "model_name": "HTMLStyleModel",
      "state": {
       "_model_module": "@jupyter-widgets/controls",
       "_model_module_version": "2.0.0",
       "_model_name": "HTMLStyleModel",
       "_view_count": null,
       "_view_module": "@jupyter-widgets/base",
       "_view_module_version": "2.0.0",
       "_view_name": "StyleView",
       "background": null,
       "description_width": "",
       "font_size": null,
       "text_color": null
      }
     },
     "d2288ebe8ee8446d80124ba3230a47f7": {
      "model_module": "@jupyter-widgets/controls",
      "model_module_version": "2.0.0",
      "model_name": "ProgressStyleModel",
      "state": {
       "_model_module": "@jupyter-widgets/controls",
       "_model_module_version": "2.0.0",
       "_model_name": "ProgressStyleModel",
       "_view_count": null,
       "_view_module": "@jupyter-widgets/base",
       "_view_module_version": "2.0.0",
       "_view_name": "StyleView",
       "bar_color": null,
       "description_width": ""
      }
     },
     "d3dd822371204f72980277b69363deac": {
      "model_module": "@jupyter-widgets/base",
      "model_module_version": "2.0.0",
      "model_name": "LayoutModel",
      "state": {
       "_model_module": "@jupyter-widgets/base",
       "_model_module_version": "2.0.0",
       "_model_name": "LayoutModel",
       "_view_count": null,
       "_view_module": "@jupyter-widgets/base",
       "_view_module_version": "2.0.0",
       "_view_name": "LayoutView",
       "align_content": null,
       "align_items": null,
       "align_self": null,
       "border_bottom": null,
       "border_left": null,
       "border_right": null,
       "border_top": null,
       "bottom": null,
       "display": null,
       "flex": null,
       "flex_flow": null,
       "grid_area": null,
       "grid_auto_columns": null,
       "grid_auto_flow": null,
       "grid_auto_rows": null,
       "grid_column": null,
       "grid_gap": null,
       "grid_row": null,
       "grid_template_areas": null,
       "grid_template_columns": null,
       "grid_template_rows": null,
       "height": null,
       "justify_content": null,
       "justify_items": null,
       "left": null,
       "margin": null,
       "max_height": null,
       "max_width": null,
       "min_height": null,
       "min_width": null,
       "object_fit": null,
       "object_position": null,
       "order": null,
       "overflow": null,
       "padding": null,
       "right": null,
       "top": null,
       "visibility": null,
       "width": null
      }
     },
     "d439875900ab4a00ac207a7f31cdaee5": {
      "model_module": "@jupyter-widgets/controls",
      "model_module_version": "2.0.0",
      "model_name": "ProgressStyleModel",
      "state": {
       "_model_module": "@jupyter-widgets/controls",
       "_model_module_version": "2.0.0",
       "_model_name": "ProgressStyleModel",
       "_view_count": null,
       "_view_module": "@jupyter-widgets/base",
       "_view_module_version": "2.0.0",
       "_view_name": "StyleView",
       "bar_color": null,
       "description_width": ""
      }
     },
     "d45ddad6712b4eedae88ed6289167c93": {
      "model_module": "@jupyter-widgets/controls",
      "model_module_version": "2.0.0",
      "model_name": "FloatProgressModel",
      "state": {
       "_dom_classes": [],
       "_model_module": "@jupyter-widgets/controls",
       "_model_module_version": "2.0.0",
       "_model_name": "FloatProgressModel",
       "_view_count": null,
       "_view_module": "@jupyter-widgets/controls",
       "_view_module_version": "2.0.0",
       "_view_name": "ProgressView",
       "bar_style": "success",
       "description": "",
       "description_allow_html": false,
       "layout": "IPY_MODEL_959f8cdf4a0a4f86a95d20d2fe343000",
       "max": 231508.0,
       "min": 0.0,
       "orientation": "horizontal",
       "style": "IPY_MODEL_9a2957a0f0b141a3a1ecd81df003e441",
       "tabbable": null,
       "tooltip": null,
       "value": 231508.0
      }
     },
     "d7726d5cacf542dda9f0ce8ae4242759": {
      "model_module": "@jupyter-widgets/base",
      "model_module_version": "2.0.0",
      "model_name": "LayoutModel",
      "state": {
       "_model_module": "@jupyter-widgets/base",
       "_model_module_version": "2.0.0",
       "_model_name": "LayoutModel",
       "_view_count": null,
       "_view_module": "@jupyter-widgets/base",
       "_view_module_version": "2.0.0",
       "_view_name": "LayoutView",
       "align_content": null,
       "align_items": null,
       "align_self": null,
       "border_bottom": null,
       "border_left": null,
       "border_right": null,
       "border_top": null,
       "bottom": null,
       "display": null,
       "flex": null,
       "flex_flow": null,
       "grid_area": null,
       "grid_auto_columns": null,
       "grid_auto_flow": null,
       "grid_auto_rows": null,
       "grid_column": null,
       "grid_gap": null,
       "grid_row": null,
       "grid_template_areas": null,
       "grid_template_columns": null,
       "grid_template_rows": null,
       "height": null,
       "justify_content": null,
       "justify_items": null,
       "left": null,
       "margin": null,
       "max_height": null,
       "max_width": null,
       "min_height": null,
       "min_width": null,
       "object_fit": null,
       "object_position": null,
       "order": null,
       "overflow": null,
       "padding": null,
       "right": null,
       "top": null,
       "visibility": null,
       "width": null
      }
     },
     "d93009dcfc294c9189a9f68919202853": {
      "model_module": "@jupyter-widgets/controls",
      "model_module_version": "2.0.0",
      "model_name": "HTMLStyleModel",
      "state": {
       "_model_module": "@jupyter-widgets/controls",
       "_model_module_version": "2.0.0",
       "_model_name": "HTMLStyleModel",
       "_view_count": null,
       "_view_module": "@jupyter-widgets/base",
       "_view_module_version": "2.0.0",
       "_view_name": "StyleView",
       "background": null,
       "description_width": "",
       "font_size": null,
       "text_color": null
      }
     },
     "da114ce1bcd74393a8640ace87cdab20": {
      "model_module": "@jupyter-widgets/controls",
      "model_module_version": "2.0.0",
      "model_name": "HBoxModel",
      "state": {
       "_dom_classes": [],
       "_model_module": "@jupyter-widgets/controls",
       "_model_module_version": "2.0.0",
       "_model_name": "HBoxModel",
       "_view_count": null,
       "_view_module": "@jupyter-widgets/controls",
       "_view_module_version": "2.0.0",
       "_view_name": "HBoxView",
       "box_style": "",
       "children": [
        "IPY_MODEL_e1149c12262c40319799db5e358354da",
        "IPY_MODEL_33c214e85140426285202eee60255858",
        "IPY_MODEL_91f257e3dfb048318b2396e97e2189a5"
       ],
       "layout": "IPY_MODEL_8bec216307314876a5b50bc295af9fc0",
       "tabbable": null,
       "tooltip": null
      }
     },
     "dae2e681fdb74ffa9667f207d119222c": {
      "model_module": "@jupyter-widgets/base",
      "model_module_version": "2.0.0",
      "model_name": "LayoutModel",
      "state": {
       "_model_module": "@jupyter-widgets/base",
       "_model_module_version": "2.0.0",
       "_model_name": "LayoutModel",
       "_view_count": null,
       "_view_module": "@jupyter-widgets/base",
       "_view_module_version": "2.0.0",
       "_view_name": "LayoutView",
       "align_content": null,
       "align_items": null,
       "align_self": null,
       "border_bottom": null,
       "border_left": null,
       "border_right": null,
       "border_top": null,
       "bottom": null,
       "display": null,
       "flex": null,
       "flex_flow": null,
       "grid_area": null,
       "grid_auto_columns": null,
       "grid_auto_flow": null,
       "grid_auto_rows": null,
       "grid_column": null,
       "grid_gap": null,
       "grid_row": null,
       "grid_template_areas": null,
       "grid_template_columns": null,
       "grid_template_rows": null,
       "height": null,
       "justify_content": null,
       "justify_items": null,
       "left": null,
       "margin": null,
       "max_height": null,
       "max_width": null,
       "min_height": null,
       "min_width": null,
       "object_fit": null,
       "object_position": null,
       "order": null,
       "overflow": null,
       "padding": null,
       "right": null,
       "top": null,
       "visibility": null,
       "width": null
      }
     },
     "dbccedc9611f41648dd83a22ee46c421": {
      "model_module": "@jupyter-widgets/controls",
      "model_module_version": "2.0.0",
      "model_name": "HTMLStyleModel",
      "state": {
       "_model_module": "@jupyter-widgets/controls",
       "_model_module_version": "2.0.0",
       "_model_name": "HTMLStyleModel",
       "_view_count": null,
       "_view_module": "@jupyter-widgets/base",
       "_view_module_version": "2.0.0",
       "_view_name": "StyleView",
       "background": null,
       "description_width": "",
       "font_size": null,
       "text_color": null
      }
     },
     "df302430ccc743da94e8230f1af08094": {
      "model_module": "@jupyter-widgets/base",
      "model_module_version": "2.0.0",
      "model_name": "LayoutModel",
      "state": {
       "_model_module": "@jupyter-widgets/base",
       "_model_module_version": "2.0.0",
       "_model_name": "LayoutModel",
       "_view_count": null,
       "_view_module": "@jupyter-widgets/base",
       "_view_module_version": "2.0.0",
       "_view_name": "LayoutView",
       "align_content": null,
       "align_items": null,
       "align_self": null,
       "border_bottom": null,
       "border_left": null,
       "border_right": null,
       "border_top": null,
       "bottom": null,
       "display": null,
       "flex": null,
       "flex_flow": null,
       "grid_area": null,
       "grid_auto_columns": null,
       "grid_auto_flow": null,
       "grid_auto_rows": null,
       "grid_column": null,
       "grid_gap": null,
       "grid_row": null,
       "grid_template_areas": null,
       "grid_template_columns": null,
       "grid_template_rows": null,
       "height": null,
       "justify_content": null,
       "justify_items": null,
       "left": null,
       "margin": null,
       "max_height": null,
       "max_width": null,
       "min_height": null,
       "min_width": null,
       "object_fit": null,
       "object_position": null,
       "order": null,
       "overflow": null,
       "padding": null,
       "right": null,
       "top": null,
       "visibility": null,
       "width": null
      }
     },
     "e030f811a9c348e0964a1ce0761a13bc": {
      "model_module": "@jupyter-widgets/base",
      "model_module_version": "2.0.0",
      "model_name": "LayoutModel",
      "state": {
       "_model_module": "@jupyter-widgets/base",
       "_model_module_version": "2.0.0",
       "_model_name": "LayoutModel",
       "_view_count": null,
       "_view_module": "@jupyter-widgets/base",
       "_view_module_version": "2.0.0",
       "_view_name": "LayoutView",
       "align_content": null,
       "align_items": null,
       "align_self": null,
       "border_bottom": null,
       "border_left": null,
       "border_right": null,
       "border_top": null,
       "bottom": null,
       "display": null,
       "flex": null,
       "flex_flow": null,
       "grid_area": null,
       "grid_auto_columns": null,
       "grid_auto_flow": null,
       "grid_auto_rows": null,
       "grid_column": null,
       "grid_gap": null,
       "grid_row": null,
       "grid_template_areas": null,
       "grid_template_columns": null,
       "grid_template_rows": null,
       "height": null,
       "justify_content": null,
       "justify_items": null,
       "left": null,
       "margin": null,
       "max_height": null,
       "max_width": null,
       "min_height": null,
       "min_width": null,
       "object_fit": null,
       "object_position": null,
       "order": null,
       "overflow": null,
       "padding": null,
       "right": null,
       "top": null,
       "visibility": null,
       "width": null
      }
     },
     "e1149c12262c40319799db5e358354da": {
      "model_module": "@jupyter-widgets/controls",
      "model_module_version": "2.0.0",
      "model_name": "HTMLModel",
      "state": {
       "_dom_classes": [],
       "_model_module": "@jupyter-widgets/controls",
       "_model_module_version": "2.0.0",
       "_model_name": "HTMLModel",
       "_view_count": null,
       "_view_module": "@jupyter-widgets/controls",
       "_view_module_version": "2.0.0",
       "_view_name": "HTMLView",
       "description": "",
       "description_allow_html": false,
       "layout": "IPY_MODEL_3ad4268e2cea4ce8aaa6e2e0d1ea620a",
       "placeholder": "​",
       "style": "IPY_MODEL_4861422f73cb4dd59063d1d512b349ff",
       "tabbable": null,
       "tooltip": null,
       "value": "100%"
      }
     },
     "e12c41160abe4a64962dee2256d274c7": {
      "model_module": "@jupyter-widgets/controls",
      "model_module_version": "2.0.0",
      "model_name": "HTMLStyleModel",
      "state": {
       "_model_module": "@jupyter-widgets/controls",
       "_model_module_version": "2.0.0",
       "_model_name": "HTMLStyleModel",
       "_view_count": null,
       "_view_module": "@jupyter-widgets/base",
       "_view_module_version": "2.0.0",
       "_view_name": "StyleView",
       "background": null,
       "description_width": "",
       "font_size": null,
       "text_color": null
      }
     },
     "e3903cd1fdbe4f8ba0cfc9c0b8691792": {
      "model_module": "@jupyter-widgets/controls",
      "model_module_version": "2.0.0",
      "model_name": "HTMLStyleModel",
      "state": {
       "_model_module": "@jupyter-widgets/controls",
       "_model_module_version": "2.0.0",
       "_model_name": "HTMLStyleModel",
       "_view_count": null,
       "_view_module": "@jupyter-widgets/base",
       "_view_module_version": "2.0.0",
       "_view_name": "StyleView",
       "background": null,
       "description_width": "",
       "font_size": null,
       "text_color": null
      }
     },
     "e602f8ecca38493b86e318432d5b3225": {
      "model_module": "@jupyter-widgets/controls",
      "model_module_version": "2.0.0",
      "model_name": "HBoxModel",
      "state": {
       "_dom_classes": [],
       "_model_module": "@jupyter-widgets/controls",
       "_model_module_version": "2.0.0",
       "_model_name": "HBoxModel",
       "_view_count": null,
       "_view_module": "@jupyter-widgets/controls",
       "_view_module_version": "2.0.0",
       "_view_name": "HBoxView",
       "box_style": "",
       "children": [
        "IPY_MODEL_978af3a944f74aed8087b8a33cbf7c13",
        "IPY_MODEL_8b88deb8a0d9455082abc65af75c19b2",
        "IPY_MODEL_c8d34cee0cc3441ebef061af1087c91d"
       ],
       "layout": "IPY_MODEL_4a1a98b1e959440382296575b46d1a47",
       "tabbable": null,
       "tooltip": null
      }
     },
     "e642518686e848c493525c73c4e727f3": {
      "model_module": "@jupyter-widgets/base",
      "model_module_version": "2.0.0",
      "model_name": "LayoutModel",
      "state": {
       "_model_module": "@jupyter-widgets/base",
       "_model_module_version": "2.0.0",
       "_model_name": "LayoutModel",
       "_view_count": null,
       "_view_module": "@jupyter-widgets/base",
       "_view_module_version": "2.0.0",
       "_view_name": "LayoutView",
       "align_content": null,
       "align_items": null,
       "align_self": null,
       "border_bottom": null,
       "border_left": null,
       "border_right": null,
       "border_top": null,
       "bottom": null,
       "display": null,
       "flex": null,
       "flex_flow": null,
       "grid_area": null,
       "grid_auto_columns": null,
       "grid_auto_flow": null,
       "grid_auto_rows": null,
       "grid_column": null,
       "grid_gap": null,
       "grid_row": null,
       "grid_template_areas": null,
       "grid_template_columns": null,
       "grid_template_rows": null,
       "height": null,
       "justify_content": null,
       "justify_items": null,
       "left": null,
       "margin": null,
       "max_height": null,
       "max_width": null,
       "min_height": null,
       "min_width": null,
       "object_fit": null,
       "object_position": null,
       "order": null,
       "overflow": null,
       "padding": null,
       "right": null,
       "top": null,
       "visibility": null,
       "width": null
      }
     },
     "e6e882feb41f402483a6eaeffa4da5cc": {
      "model_module": "@jupyter-widgets/controls",
      "model_module_version": "2.0.0",
      "model_name": "FloatProgressModel",
      "state": {
       "_dom_classes": [],
       "_model_module": "@jupyter-widgets/controls",
       "_model_module_version": "2.0.0",
       "_model_name": "FloatProgressModel",
       "_view_count": null,
       "_view_module": "@jupyter-widgets/controls",
       "_view_module_version": "2.0.0",
       "_view_name": "ProgressView",
       "bar_style": "success",
       "description": "",
       "description_allow_html": false,
       "layout": "IPY_MODEL_e642518686e848c493525c73c4e727f3",
       "max": 271.0,
       "min": 0.0,
       "orientation": "horizontal",
       "style": "IPY_MODEL_eed2201959724fe9860187cda6eaed47",
       "tabbable": null,
       "tooltip": null,
       "value": 271.0
      }
     },
     "eb0b663c99f34b1aab63f4ca5f226287": {
      "model_module": "@jupyter-widgets/base",
      "model_module_version": "2.0.0",
      "model_name": "LayoutModel",
      "state": {
       "_model_module": "@jupyter-widgets/base",
       "_model_module_version": "2.0.0",
       "_model_name": "LayoutModel",
       "_view_count": null,
       "_view_module": "@jupyter-widgets/base",
       "_view_module_version": "2.0.0",
       "_view_name": "LayoutView",
       "align_content": null,
       "align_items": null,
       "align_self": null,
       "border_bottom": null,
       "border_left": null,
       "border_right": null,
       "border_top": null,
       "bottom": null,
       "display": null,
       "flex": null,
       "flex_flow": null,
       "grid_area": null,
       "grid_auto_columns": null,
       "grid_auto_flow": null,
       "grid_auto_rows": null,
       "grid_column": null,
       "grid_gap": null,
       "grid_row": null,
       "grid_template_areas": null,
       "grid_template_columns": null,
       "grid_template_rows": null,
       "height": null,
       "justify_content": null,
       "justify_items": null,
       "left": null,
       "margin": null,
       "max_height": null,
       "max_width": null,
       "min_height": null,
       "min_width": null,
       "object_fit": null,
       "object_position": null,
       "order": null,
       "overflow": null,
       "padding": null,
       "right": null,
       "top": null,
       "visibility": null,
       "width": null
      }
     },
     "eb2fe6be244243dca82df45e789e0fda": {
      "model_module": "@jupyter-widgets/base",
      "model_module_version": "2.0.0",
      "model_name": "LayoutModel",
      "state": {
       "_model_module": "@jupyter-widgets/base",
       "_model_module_version": "2.0.0",
       "_model_name": "LayoutModel",
       "_view_count": null,
       "_view_module": "@jupyter-widgets/base",
       "_view_module_version": "2.0.0",
       "_view_name": "LayoutView",
       "align_content": null,
       "align_items": null,
       "align_self": null,
       "border_bottom": null,
       "border_left": null,
       "border_right": null,
       "border_top": null,
       "bottom": null,
       "display": null,
       "flex": null,
       "flex_flow": null,
       "grid_area": null,
       "grid_auto_columns": null,
       "grid_auto_flow": null,
       "grid_auto_rows": null,
       "grid_column": null,
       "grid_gap": null,
       "grid_row": null,
       "grid_template_areas": null,
       "grid_template_columns": null,
       "grid_template_rows": null,
       "height": null,
       "justify_content": null,
       "justify_items": null,
       "left": null,
       "margin": null,
       "max_height": null,
       "max_width": null,
       "min_height": null,
       "min_width": null,
       "object_fit": null,
       "object_position": null,
       "order": null,
       "overflow": null,
       "padding": null,
       "right": null,
       "top": null,
       "visibility": null,
       "width": null
      }
     },
     "ee7cd953893b43debf7a474b9aab66c1": {
      "model_module": "@jupyter-widgets/controls",
      "model_module_version": "2.0.0",
      "model_name": "HTMLStyleModel",
      "state": {
       "_model_module": "@jupyter-widgets/controls",
       "_model_module_version": "2.0.0",
       "_model_name": "HTMLStyleModel",
       "_view_count": null,
       "_view_module": "@jupyter-widgets/base",
       "_view_module_version": "2.0.0",
       "_view_name": "StyleView",
       "background": null,
       "description_width": "",
       "font_size": null,
       "text_color": null
      }
     },
     "eed2201959724fe9860187cda6eaed47": {
      "model_module": "@jupyter-widgets/controls",
      "model_module_version": "2.0.0",
      "model_name": "ProgressStyleModel",
      "state": {
       "_model_module": "@jupyter-widgets/controls",
       "_model_module_version": "2.0.0",
       "_model_name": "ProgressStyleModel",
       "_view_count": null,
       "_view_module": "@jupyter-widgets/base",
       "_view_module_version": "2.0.0",
       "_view_name": "StyleView",
       "bar_color": null,
       "description_width": ""
      }
     },
     "eed566faac484524990fad8858f42274": {
      "model_module": "@jupyter-widgets/controls",
      "model_module_version": "2.0.0",
      "model_name": "HTMLModel",
      "state": {
       "_dom_classes": [],
       "_model_module": "@jupyter-widgets/controls",
       "_model_module_version": "2.0.0",
       "_model_name": "HTMLModel",
       "_view_count": null,
       "_view_module": "@jupyter-widgets/controls",
       "_view_module_version": "2.0.0",
       "_view_name": "HTMLView",
       "description": "",
       "description_allow_html": false,
       "layout": "IPY_MODEL_acf08ff69ca147e79ec2736abf371b47",
       "placeholder": "​",
       "style": "IPY_MODEL_f9cce389a7734fa7ada839d266c96848",
       "tabbable": null,
       "tooltip": null,
       "value": " 629/629 [00:00&lt;00:00, 51.5kB/s]"
      }
     },
     "f187b3a71fcc4c8e8a23dc89474899d3": {
      "model_module": "@jupyter-widgets/base",
      "model_module_version": "2.0.0",
      "model_name": "LayoutModel",
      "state": {
       "_model_module": "@jupyter-widgets/base",
       "_model_module_version": "2.0.0",
       "_model_name": "LayoutModel",
       "_view_count": null,
       "_view_module": "@jupyter-widgets/base",
       "_view_module_version": "2.0.0",
       "_view_name": "LayoutView",
       "align_content": null,
       "align_items": null,
       "align_self": null,
       "border_bottom": null,
       "border_left": null,
       "border_right": null,
       "border_top": null,
       "bottom": null,
       "display": null,
       "flex": null,
       "flex_flow": null,
       "grid_area": null,
       "grid_auto_columns": null,
       "grid_auto_flow": null,
       "grid_auto_rows": null,
       "grid_column": null,
       "grid_gap": null,
       "grid_row": null,
       "grid_template_areas": null,
       "grid_template_columns": null,
       "grid_template_rows": null,
       "height": null,
       "justify_content": null,
       "justify_items": null,
       "left": null,
       "margin": null,
       "max_height": null,
       "max_width": null,
       "min_height": null,
       "min_width": null,
       "object_fit": null,
       "object_position": null,
       "order": null,
       "overflow": null,
       "padding": null,
       "right": null,
       "top": null,
       "visibility": null,
       "width": null
      }
     },
     "f21298a151b4418797bf6911c5c75d1f": {
      "model_module": "@jupyter-widgets/controls",
      "model_module_version": "2.0.0",
      "model_name": "HTMLModel",
      "state": {
       "_dom_classes": [],
       "_model_module": "@jupyter-widgets/controls",
       "_model_module_version": "2.0.0",
       "_model_name": "HTMLModel",
       "_view_count": null,
       "_view_module": "@jupyter-widgets/controls",
       "_view_module_version": "2.0.0",
       "_view_name": "HTMLView",
       "description": "",
       "description_allow_html": false,
       "layout": "IPY_MODEL_ca36f2574dd843f68ee477e832c02c0d",
       "placeholder": "​",
       "style": "IPY_MODEL_5f2faf953c614e779455d788c1d3acd4",
       "tabbable": null,
       "tooltip": null,
       "value": " 48.0/48.0 [00:00&lt;00:00, 3.61kB/s]"
      }
     },
     "f5ceffc73cbc4a7baa25aa6a603aa1ff": {
      "model_module": "@jupyter-widgets/controls",
      "model_module_version": "2.0.0",
      "model_name": "HBoxModel",
      "state": {
       "_dom_classes": [],
       "_model_module": "@jupyter-widgets/controls",
       "_model_module_version": "2.0.0",
       "_model_name": "HBoxModel",
       "_view_count": null,
       "_view_module": "@jupyter-widgets/controls",
       "_view_module_version": "2.0.0",
       "_view_name": "HBoxView",
       "box_style": "",
       "children": [
        "IPY_MODEL_6e28dce61bcb46bcad489c45957d3ada",
        "IPY_MODEL_4fabc09ab864436aa3c0ddd5b7d08342",
        "IPY_MODEL_4f82a2a48a0545da8e9a2ed4653fa49e"
       ],
       "layout": "IPY_MODEL_622fc0e21555432c9f76ad388ee9d25a",
       "tabbable": null,
       "tooltip": null
      }
     },
     "f6f18490430645c7bc8551178fd4b2ad": {
      "model_module": "@jupyter-widgets/base",
      "model_module_version": "2.0.0",
      "model_name": "LayoutModel",
      "state": {
       "_model_module": "@jupyter-widgets/base",
       "_model_module_version": "2.0.0",
       "_model_name": "LayoutModel",
       "_view_count": null,
       "_view_module": "@jupyter-widgets/base",
       "_view_module_version": "2.0.0",
       "_view_name": "LayoutView",
       "align_content": null,
       "align_items": null,
       "align_self": null,
       "border_bottom": null,
       "border_left": null,
       "border_right": null,
       "border_top": null,
       "bottom": null,
       "display": null,
       "flex": null,
       "flex_flow": null,
       "grid_area": null,
       "grid_auto_columns": null,
       "grid_auto_flow": null,
       "grid_auto_rows": null,
       "grid_column": null,
       "grid_gap": null,
       "grid_row": null,
       "grid_template_areas": null,
       "grid_template_columns": null,
       "grid_template_rows": null,
       "height": null,
       "justify_content": null,
       "justify_items": null,
       "left": null,
       "margin": null,
       "max_height": null,
       "max_width": null,
       "min_height": null,
       "min_width": null,
       "object_fit": null,
       "object_position": null,
       "order": null,
       "overflow": null,
       "padding": null,
       "right": null,
       "top": null,
       "visibility": null,
       "width": null
      }
     },
     "f9cce389a7734fa7ada839d266c96848": {
      "model_module": "@jupyter-widgets/controls",
      "model_module_version": "2.0.0",
      "model_name": "HTMLStyleModel",
      "state": {
       "_model_module": "@jupyter-widgets/controls",
       "_model_module_version": "2.0.0",
       "_model_name": "HTMLStyleModel",
       "_view_count": null,
       "_view_module": "@jupyter-widgets/base",
       "_view_module_version": "2.0.0",
       "_view_name": "StyleView",
       "background": null,
       "description_width": "",
       "font_size": null,
       "text_color": null
      }
     },
     "fd1403d62e5746b4a1a539e02e29d592": {
      "model_module": "@jupyter-widgets/controls",
      "model_module_version": "2.0.0",
      "model_name": "HBoxModel",
      "state": {
       "_dom_classes": [],
       "_model_module": "@jupyter-widgets/controls",
       "_model_module_version": "2.0.0",
       "_model_name": "HBoxModel",
       "_view_count": null,
       "_view_module": "@jupyter-widgets/controls",
       "_view_module_version": "2.0.0",
       "_view_name": "HBoxView",
       "box_style": "",
       "children": [
        "IPY_MODEL_6dac98c9c8b84607a041c25071d1874a",
        "IPY_MODEL_d45ddad6712b4eedae88ed6289167c93",
        "IPY_MODEL_355d2a701139468ba40eb36e39f49e97"
       ],
       "layout": "IPY_MODEL_158f8f41826a4e4eaec6968a0b0e57d5",
       "tabbable": null,
       "tooltip": null
      }
     },
     "ff308f4feb004e41bef45c719eb08ab9": {
      "model_module": "@jupyter-widgets/controls",
      "model_module_version": "2.0.0",
      "model_name": "HBoxModel",
      "state": {
       "_dom_classes": [],
       "_model_module": "@jupyter-widgets/controls",
       "_model_module_version": "2.0.0",
       "_model_name": "HBoxModel",
       "_view_count": null,
       "_view_module": "@jupyter-widgets/controls",
       "_view_module_version": "2.0.0",
       "_view_name": "HBoxView",
       "box_style": "",
       "children": [
        "IPY_MODEL_844e28edea844e0fb0a2dcb87398a8a6",
        "IPY_MODEL_6364af42b7a74e91b03d72af2703347e",
        "IPY_MODEL_1922455bae4b4190be8add1967649542"
       ],
       "layout": "IPY_MODEL_a81ca40ea5e74474a9f6c92a23b6e540",
       "tabbable": null,
       "tooltip": null
      }
     },
     "ff7360d232f749f9a880e472f3e4ad78": {
      "model_module": "@jupyter-widgets/base",
      "model_module_version": "2.0.0",
      "model_name": "LayoutModel",
      "state": {
       "_model_module": "@jupyter-widgets/base",
       "_model_module_version": "2.0.0",
       "_model_name": "LayoutModel",
       "_view_count": null,
       "_view_module": "@jupyter-widgets/base",
       "_view_module_version": "2.0.0",
       "_view_name": "LayoutView",
       "align_content": null,
       "align_items": null,
       "align_self": null,
       "border_bottom": null,
       "border_left": null,
       "border_right": null,
       "border_top": null,
       "bottom": null,
       "display": null,
       "flex": null,
       "flex_flow": null,
       "grid_area": null,
       "grid_auto_columns": null,
       "grid_auto_flow": null,
       "grid_auto_rows": null,
       "grid_column": null,
       "grid_gap": null,
       "grid_row": null,
       "grid_template_areas": null,
       "grid_template_columns": null,
       "grid_template_rows": null,
       "height": null,
       "justify_content": null,
       "justify_items": null,
       "left": null,
       "margin": null,
       "max_height": null,
       "max_width": null,
       "min_height": null,
       "min_width": null,
       "object_fit": null,
       "object_position": null,
       "order": null,
       "overflow": null,
       "padding": null,
       "right": null,
       "top": null,
       "visibility": null,
       "width": null
      }
     }
    },
    "version_major": 2,
    "version_minor": 0
   }
  }
 },
 "nbformat": 4,
 "nbformat_minor": 5
}
